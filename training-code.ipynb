{
  "nbformat": 4,
  "nbformat_minor": 0,
  "metadata": {
    "colab": {
      "name": "manthan_dl_bank_customer_prediction_assigment_training.ipynb",
      "provenance": [],
      "toc_visible": true
    },
    "kernelspec": {
      "name": "python3",
      "display_name": "Python 3"
    }
  },
  "cells": [
    {
      "cell_type": "markdown",
      "metadata": {
        "id": "uVKOciqFZyC5"
      },
      "source": [
        "# Assignment 1"
      ]
    },
    {
      "cell_type": "markdown",
      "metadata": {
        "id": "Sv7BTeXfZ1z3"
      },
      "source": [
        "## Data cleaning and replacing string datatype with integer (which can be fed as a feature to our ANN) in columns Gender and Geography"
      ]
    },
    {
      "cell_type": "code",
      "metadata": {
        "id": "Ry_QzvENa4h5"
      },
      "source": [
        "import json\n",
        "import pandas as pd\n",
        "from sklearn.model_selection import train_test_split\n",
        "import numpy as np"
      ],
      "execution_count": 188,
      "outputs": []
    },
    {
      "cell_type": "code",
      "metadata": {
        "colab": {
          "resources": {
            "http://localhost:8080/nbextensions/google.colab/files.js": {
              "data": "Ly8gQ29weXJpZ2h0IDIwMTcgR29vZ2xlIExMQwovLwovLyBMaWNlbnNlZCB1bmRlciB0aGUgQXBhY2hlIExpY2Vuc2UsIFZlcnNpb24gMi4wICh0aGUgIkxpY2Vuc2UiKTsKLy8geW91IG1heSBub3QgdXNlIHRoaXMgZmlsZSBleGNlcHQgaW4gY29tcGxpYW5jZSB3aXRoIHRoZSBMaWNlbnNlLgovLyBZb3UgbWF5IG9idGFpbiBhIGNvcHkgb2YgdGhlIExpY2Vuc2UgYXQKLy8KLy8gICAgICBodHRwOi8vd3d3LmFwYWNoZS5vcmcvbGljZW5zZXMvTElDRU5TRS0yLjAKLy8KLy8gVW5sZXNzIHJlcXVpcmVkIGJ5IGFwcGxpY2FibGUgbGF3IG9yIGFncmVlZCB0byBpbiB3cml0aW5nLCBzb2Z0d2FyZQovLyBkaXN0cmlidXRlZCB1bmRlciB0aGUgTGljZW5zZSBpcyBkaXN0cmlidXRlZCBvbiBhbiAiQVMgSVMiIEJBU0lTLAovLyBXSVRIT1VUIFdBUlJBTlRJRVMgT1IgQ09ORElUSU9OUyBPRiBBTlkgS0lORCwgZWl0aGVyIGV4cHJlc3Mgb3IgaW1wbGllZC4KLy8gU2VlIHRoZSBMaWNlbnNlIGZvciB0aGUgc3BlY2lmaWMgbGFuZ3VhZ2UgZ292ZXJuaW5nIHBlcm1pc3Npb25zIGFuZAovLyBsaW1pdGF0aW9ucyB1bmRlciB0aGUgTGljZW5zZS4KCi8qKgogKiBAZmlsZW92ZXJ2aWV3IEhlbHBlcnMgZm9yIGdvb2dsZS5jb2xhYiBQeXRob24gbW9kdWxlLgogKi8KKGZ1bmN0aW9uKHNjb3BlKSB7CmZ1bmN0aW9uIHNwYW4odGV4dCwgc3R5bGVBdHRyaWJ1dGVzID0ge30pIHsKICBjb25zdCBlbGVtZW50ID0gZG9jdW1lbnQuY3JlYXRlRWxlbWVudCgnc3BhbicpOwogIGVsZW1lbnQudGV4dENvbnRlbnQgPSB0ZXh0OwogIGZvciAoY29uc3Qga2V5IG9mIE9iamVjdC5rZXlzKHN0eWxlQXR0cmlidXRlcykpIHsKICAgIGVsZW1lbnQuc3R5bGVba2V5XSA9IHN0eWxlQXR0cmlidXRlc1trZXldOwogIH0KICByZXR1cm4gZWxlbWVudDsKfQoKLy8gTWF4IG51bWJlciBvZiBieXRlcyB3aGljaCB3aWxsIGJlIHVwbG9hZGVkIGF0IGEgdGltZS4KY29uc3QgTUFYX1BBWUxPQURfU0laRSA9IDEwMCAqIDEwMjQ7CgpmdW5jdGlvbiBfdXBsb2FkRmlsZXMoaW5wdXRJZCwgb3V0cHV0SWQpIHsKICBjb25zdCBzdGVwcyA9IHVwbG9hZEZpbGVzU3RlcChpbnB1dElkLCBvdXRwdXRJZCk7CiAgY29uc3Qgb3V0cHV0RWxlbWVudCA9IGRvY3VtZW50LmdldEVsZW1lbnRCeUlkKG91dHB1dElkKTsKICAvLyBDYWNoZSBzdGVwcyBvbiB0aGUgb3V0cHV0RWxlbWVudCB0byBtYWtlIGl0IGF2YWlsYWJsZSBmb3IgdGhlIG5leHQgY2FsbAogIC8vIHRvIHVwbG9hZEZpbGVzQ29udGludWUgZnJvbSBQeXRob24uCiAgb3V0cHV0RWxlbWVudC5zdGVwcyA9IHN0ZXBzOwoKICByZXR1cm4gX3VwbG9hZEZpbGVzQ29udGludWUob3V0cHV0SWQpOwp9CgovLyBUaGlzIGlzIHJvdWdobHkgYW4gYXN5bmMgZ2VuZXJhdG9yIChub3Qgc3VwcG9ydGVkIGluIHRoZSBicm93c2VyIHlldCksCi8vIHdoZXJlIHRoZXJlIGFyZSBtdWx0aXBsZSBhc3luY2hyb25vdXMgc3RlcHMgYW5kIHRoZSBQeXRob24gc2lkZSBpcyBnb2luZwovLyB0byBwb2xsIGZvciBjb21wbGV0aW9uIG9mIGVhY2ggc3RlcC4KLy8gVGhpcyB1c2VzIGEgUHJvbWlzZSB0byBibG9jayB0aGUgcHl0aG9uIHNpZGUgb24gY29tcGxldGlvbiBvZiBlYWNoIHN0ZXAsCi8vIHRoZW4gcGFzc2VzIHRoZSByZXN1bHQgb2YgdGhlIHByZXZpb3VzIHN0ZXAgYXMgdGhlIGlucHV0IHRvIHRoZSBuZXh0IHN0ZXAuCmZ1bmN0aW9uIF91cGxvYWRGaWxlc0NvbnRpbnVlKG91dHB1dElkKSB7CiAgY29uc3Qgb3V0cHV0RWxlbWVudCA9IGRvY3VtZW50LmdldEVsZW1lbnRCeUlkKG91dHB1dElkKTsKICBjb25zdCBzdGVwcyA9IG91dHB1dEVsZW1lbnQuc3RlcHM7CgogIGNvbnN0IG5leHQgPSBzdGVwcy5uZXh0KG91dHB1dEVsZW1lbnQubGFzdFByb21pc2VWYWx1ZSk7CiAgcmV0dXJuIFByb21pc2UucmVzb2x2ZShuZXh0LnZhbHVlLnByb21pc2UpLnRoZW4oKHZhbHVlKSA9PiB7CiAgICAvLyBDYWNoZSB0aGUgbGFzdCBwcm9taXNlIHZhbHVlIHRvIG1ha2UgaXQgYXZhaWxhYmxlIHRvIHRoZSBuZXh0CiAgICAvLyBzdGVwIG9mIHRoZSBnZW5lcmF0b3IuCiAgICBvdXRwdXRFbGVtZW50Lmxhc3RQcm9taXNlVmFsdWUgPSB2YWx1ZTsKICAgIHJldHVybiBuZXh0LnZhbHVlLnJlc3BvbnNlOwogIH0pOwp9CgovKioKICogR2VuZXJhdG9yIGZ1bmN0aW9uIHdoaWNoIGlzIGNhbGxlZCBiZXR3ZWVuIGVhY2ggYXN5bmMgc3RlcCBvZiB0aGUgdXBsb2FkCiAqIHByb2Nlc3MuCiAqIEBwYXJhbSB7c3RyaW5nfSBpbnB1dElkIEVsZW1lbnQgSUQgb2YgdGhlIGlucHV0IGZpbGUgcGlja2VyIGVsZW1lbnQuCiAqIEBwYXJhbSB7c3RyaW5nfSBvdXRwdXRJZCBFbGVtZW50IElEIG9mIHRoZSBvdXRwdXQgZGlzcGxheS4KICogQHJldHVybiB7IUl0ZXJhYmxlPCFPYmplY3Q+fSBJdGVyYWJsZSBvZiBuZXh0IHN0ZXBzLgogKi8KZnVuY3Rpb24qIHVwbG9hZEZpbGVzU3RlcChpbnB1dElkLCBvdXRwdXRJZCkgewogIGNvbnN0IGlucHV0RWxlbWVudCA9IGRvY3VtZW50LmdldEVsZW1lbnRCeUlkKGlucHV0SWQpOwogIGlucHV0RWxlbWVudC5kaXNhYmxlZCA9IGZhbHNlOwoKICBjb25zdCBvdXRwdXRFbGVtZW50ID0gZG9jdW1lbnQuZ2V0RWxlbWVudEJ5SWQob3V0cHV0SWQpOwogIG91dHB1dEVsZW1lbnQuaW5uZXJIVE1MID0gJyc7CgogIGNvbnN0IHBpY2tlZFByb21pc2UgPSBuZXcgUHJvbWlzZSgocmVzb2x2ZSkgPT4gewogICAgaW5wdXRFbGVtZW50LmFkZEV2ZW50TGlzdGVuZXIoJ2NoYW5nZScsIChlKSA9PiB7CiAgICAgIHJlc29sdmUoZS50YXJnZXQuZmlsZXMpOwogICAgfSk7CiAgfSk7CgogIGNvbnN0IGNhbmNlbCA9IGRvY3VtZW50LmNyZWF0ZUVsZW1lbnQoJ2J1dHRvbicpOwogIGlucHV0RWxlbWVudC5wYXJlbnRFbGVtZW50LmFwcGVuZENoaWxkKGNhbmNlbCk7CiAgY2FuY2VsLnRleHRDb250ZW50ID0gJ0NhbmNlbCB1cGxvYWQnOwogIGNvbnN0IGNhbmNlbFByb21pc2UgPSBuZXcgUHJvbWlzZSgocmVzb2x2ZSkgPT4gewogICAgY2FuY2VsLm9uY2xpY2sgPSAoKSA9PiB7CiAgICAgIHJlc29sdmUobnVsbCk7CiAgICB9OwogIH0pOwoKICAvLyBXYWl0IGZvciB0aGUgdXNlciB0byBwaWNrIHRoZSBmaWxlcy4KICBjb25zdCBmaWxlcyA9IHlpZWxkIHsKICAgIHByb21pc2U6IFByb21pc2UucmFjZShbcGlja2VkUHJvbWlzZSwgY2FuY2VsUHJvbWlzZV0pLAogICAgcmVzcG9uc2U6IHsKICAgICAgYWN0aW9uOiAnc3RhcnRpbmcnLAogICAgfQogIH07CgogIGNhbmNlbC5yZW1vdmUoKTsKCiAgLy8gRGlzYWJsZSB0aGUgaW5wdXQgZWxlbWVudCBzaW5jZSBmdXJ0aGVyIHBpY2tzIGFyZSBub3QgYWxsb3dlZC4KICBpbnB1dEVsZW1lbnQuZGlzYWJsZWQgPSB0cnVlOwoKICBpZiAoIWZpbGVzKSB7CiAgICByZXR1cm4gewogICAgICByZXNwb25zZTogewogICAgICAgIGFjdGlvbjogJ2NvbXBsZXRlJywKICAgICAgfQogICAgfTsKICB9CgogIGZvciAoY29uc3QgZmlsZSBvZiBmaWxlcykgewogICAgY29uc3QgbGkgPSBkb2N1bWVudC5jcmVhdGVFbGVtZW50KCdsaScpOwogICAgbGkuYXBwZW5kKHNwYW4oZmlsZS5uYW1lLCB7Zm9udFdlaWdodDogJ2JvbGQnfSkpOwogICAgbGkuYXBwZW5kKHNwYW4oCiAgICAgICAgYCgke2ZpbGUudHlwZSB8fCAnbi9hJ30pIC0gJHtmaWxlLnNpemV9IGJ5dGVzLCBgICsKICAgICAgICBgbGFzdCBtb2RpZmllZDogJHsKICAgICAgICAgICAgZmlsZS5sYXN0TW9kaWZpZWREYXRlID8gZmlsZS5sYXN0TW9kaWZpZWREYXRlLnRvTG9jYWxlRGF0ZVN0cmluZygpIDoKICAgICAgICAgICAgICAgICAgICAgICAgICAgICAgICAgICAgJ24vYSd9IC0gYCkpOwogICAgY29uc3QgcGVyY2VudCA9IHNwYW4oJzAlIGRvbmUnKTsKICAgIGxpLmFwcGVuZENoaWxkKHBlcmNlbnQpOwoKICAgIG91dHB1dEVsZW1lbnQuYXBwZW5kQ2hpbGQobGkpOwoKICAgIGNvbnN0IGZpbGVEYXRhUHJvbWlzZSA9IG5ldyBQcm9taXNlKChyZXNvbHZlKSA9PiB7CiAgICAgIGNvbnN0IHJlYWRlciA9IG5ldyBGaWxlUmVhZGVyKCk7CiAgICAgIHJlYWRlci5vbmxvYWQgPSAoZSkgPT4gewogICAgICAgIHJlc29sdmUoZS50YXJnZXQucmVzdWx0KTsKICAgICAgfTsKICAgICAgcmVhZGVyLnJlYWRBc0FycmF5QnVmZmVyKGZpbGUpOwogICAgfSk7CiAgICAvLyBXYWl0IGZvciB0aGUgZGF0YSB0byBiZSByZWFkeS4KICAgIGxldCBmaWxlRGF0YSA9IHlpZWxkIHsKICAgICAgcHJvbWlzZTogZmlsZURhdGFQcm9taXNlLAogICAgICByZXNwb25zZTogewogICAgICAgIGFjdGlvbjogJ2NvbnRpbnVlJywKICAgICAgfQogICAgfTsKCiAgICAvLyBVc2UgYSBjaHVua2VkIHNlbmRpbmcgdG8gYXZvaWQgbWVzc2FnZSBzaXplIGxpbWl0cy4gU2VlIGIvNjIxMTU2NjAuCiAgICBsZXQgcG9zaXRpb24gPSAwOwogICAgd2hpbGUgKHBvc2l0aW9uIDwgZmlsZURhdGEuYnl0ZUxlbmd0aCkgewogICAgICBjb25zdCBsZW5ndGggPSBNYXRoLm1pbihmaWxlRGF0YS5ieXRlTGVuZ3RoIC0gcG9zaXRpb24sIE1BWF9QQVlMT0FEX1NJWkUpOwogICAgICBjb25zdCBjaHVuayA9IG5ldyBVaW50OEFycmF5KGZpbGVEYXRhLCBwb3NpdGlvbiwgbGVuZ3RoKTsKICAgICAgcG9zaXRpb24gKz0gbGVuZ3RoOwoKICAgICAgY29uc3QgYmFzZTY0ID0gYnRvYShTdHJpbmcuZnJvbUNoYXJDb2RlLmFwcGx5KG51bGwsIGNodW5rKSk7CiAgICAgIHlpZWxkIHsKICAgICAgICByZXNwb25zZTogewogICAgICAgICAgYWN0aW9uOiAnYXBwZW5kJywKICAgICAgICAgIGZpbGU6IGZpbGUubmFtZSwKICAgICAgICAgIGRhdGE6IGJhc2U2NCwKICAgICAgICB9LAogICAgICB9OwogICAgICBwZXJjZW50LnRleHRDb250ZW50ID0KICAgICAgICAgIGAke01hdGgucm91bmQoKHBvc2l0aW9uIC8gZmlsZURhdGEuYnl0ZUxlbmd0aCkgKiAxMDApfSUgZG9uZWA7CiAgICB9CiAgfQoKICAvLyBBbGwgZG9uZS4KICB5aWVsZCB7CiAgICByZXNwb25zZTogewogICAgICBhY3Rpb246ICdjb21wbGV0ZScsCiAgICB9CiAgfTsKfQoKc2NvcGUuZ29vZ2xlID0gc2NvcGUuZ29vZ2xlIHx8IHt9OwpzY29wZS5nb29nbGUuY29sYWIgPSBzY29wZS5nb29nbGUuY29sYWIgfHwge307CnNjb3BlLmdvb2dsZS5jb2xhYi5fZmlsZXMgPSB7CiAgX3VwbG9hZEZpbGVzLAogIF91cGxvYWRGaWxlc0NvbnRpbnVlLAp9Owp9KShzZWxmKTsK",
              "ok": true,
              "headers": [
                [
                  "content-type",
                  "application/javascript"
                ]
              ],
              "status": 200,
              "status_text": ""
            }
          },
          "base_uri": "https://localhost:8080/",
          "height": 72
        },
        "id": "kxGU8Gisatl-",
        "outputId": "c852ae13-afd7-49ea-b197-62bdbd90a80f"
      },
      "source": [
        "from google.colab import files\n",
        "\n",
        "uploaded = files.upload()"
      ],
      "execution_count": 189,
      "outputs": [
        {
          "output_type": "display_data",
          "data": {
            "text/html": [
              "\n",
              "     <input type=\"file\" id=\"files-b784c1aa-9bd4-4495-9b64-4465f3ee67df\" name=\"files[]\" multiple disabled\n",
              "        style=\"border:none\" />\n",
              "     <output id=\"result-b784c1aa-9bd4-4495-9b64-4465f3ee67df\">\n",
              "      Upload widget is only available when the cell has been executed in the\n",
              "      current browser session. Please rerun this cell to enable.\n",
              "      </output>\n",
              "      <script src=\"/nbextensions/google.colab/files.js\"></script> "
            ],
            "text/plain": [
              "<IPython.core.display.HTML object>"
            ]
          },
          "metadata": {
            "tags": []
          }
        },
        {
          "output_type": "stream",
          "text": [
            "Saving dataset.csv to dataset (2).csv\n"
          ],
          "name": "stdout"
        }
      ]
    },
    {
      "cell_type": "code",
      "metadata": {
        "id": "gy0itwbBauQp"
      },
      "source": [
        "customer_dataset_df = pd.read_csv('dataset.csv', delimiter=',')"
      ],
      "execution_count": 202,
      "outputs": []
    },
    {
      "cell_type": "code",
      "metadata": {
        "id": "GMwn9v1PluFp"
      },
      "source": [
        "#customer_dataset_df.replace()"
      ],
      "execution_count": 203,
      "outputs": []
    },
    {
      "cell_type": "markdown",
      "metadata": {
        "id": "Ws3y_ngTmS9H"
      },
      "source": [
        "#### Handling string datatype in column Geography\n",
        "\n",
        "Spain: 0, France: 1, Germany: 2\n",
        "\n",
        "#### Handling the Gender column\n",
        "\n",
        "Male: 0\n",
        "Female: 1\n"
      ]
    },
    {
      "cell_type": "code",
      "metadata": {
        "id": "oY1YIeDByo6b"
      },
      "source": [
        "def handle_string_type_columns(customer_dataset_df):\n",
        "  customer_dataset_df.loc[customer_dataset_df['Geography']== 'Spain', 'Geography'] = 0\n",
        "  customer_dataset_df.loc[customer_dataset_df['Geography']== 'France', 'Geography'] = 1\n",
        "  customer_dataset_df.loc[customer_dataset_df['Geography']== 'Germany', 'Geography'] = 2\n",
        "\n",
        "  customer_dataset_df.loc[customer_dataset_df['Gender']== 'Male', 'Gender'] = 0\n",
        "  customer_dataset_df.loc[customer_dataset_df['Gender']== 'Female', 'Gender'] = 1\n",
        "\n",
        "  return customer_dataset_df"
      ],
      "execution_count": 316,
      "outputs": []
    },
    {
      "cell_type": "code",
      "metadata": {
        "id": "k5R-k_cFmKkt"
      },
      "source": [
        "customer_dataset_df= handle_string_type_columns(customer_dataset_df)"
      ],
      "execution_count": 317,
      "outputs": []
    },
    {
      "cell_type": "code",
      "metadata": {
        "colab": {
          "base_uri": "https://localhost:8080/",
          "height": 407
        },
        "id": "qy9Yykyja1dX",
        "outputId": "5e51229f-4c3b-4e25-a672-557e825dc0b9"
      },
      "source": [
        "customer_dataset_df"
      ],
      "execution_count": 318,
      "outputs": [
        {
          "output_type": "execute_result",
          "data": {
            "text/html": [
              "<div>\n",
              "<style scoped>\n",
              "    .dataframe tbody tr th:only-of-type {\n",
              "        vertical-align: middle;\n",
              "    }\n",
              "\n",
              "    .dataframe tbody tr th {\n",
              "        vertical-align: top;\n",
              "    }\n",
              "\n",
              "    .dataframe thead th {\n",
              "        text-align: right;\n",
              "    }\n",
              "</style>\n",
              "<table border=\"1\" class=\"dataframe\">\n",
              "  <thead>\n",
              "    <tr style=\"text-align: right;\">\n",
              "      <th></th>\n",
              "      <th>CreditScore</th>\n",
              "      <th>Geography</th>\n",
              "      <th>Gender</th>\n",
              "      <th>Age</th>\n",
              "      <th>Tenure</th>\n",
              "      <th>Balance</th>\n",
              "      <th>NumOfProducts</th>\n",
              "      <th>HasCrCard</th>\n",
              "      <th>IsActiveMember</th>\n",
              "      <th>EstimatedSalary</th>\n",
              "      <th>Exited</th>\n",
              "    </tr>\n",
              "  </thead>\n",
              "  <tbody>\n",
              "    <tr>\n",
              "      <th>0</th>\n",
              "      <td>0.308</td>\n",
              "      <td>0.0</td>\n",
              "      <td>0.0</td>\n",
              "      <td>0.216216</td>\n",
              "      <td>0.0</td>\n",
              "      <td>0.219136</td>\n",
              "      <td>0.000000</td>\n",
              "      <td>1.0</td>\n",
              "      <td>1.0</td>\n",
              "      <td>0.684433</td>\n",
              "      <td>0.0</td>\n",
              "    </tr>\n",
              "    <tr>\n",
              "      <th>1</th>\n",
              "      <td>0.618</td>\n",
              "      <td>0.5</td>\n",
              "      <td>1.0</td>\n",
              "      <td>0.202703</td>\n",
              "      <td>0.7</td>\n",
              "      <td>0.358471</td>\n",
              "      <td>0.000000</td>\n",
              "      <td>1.0</td>\n",
              "      <td>0.0</td>\n",
              "      <td>0.682583</td>\n",
              "      <td>0.0</td>\n",
              "    </tr>\n",
              "    <tr>\n",
              "      <th>2</th>\n",
              "      <td>0.246</td>\n",
              "      <td>1.0</td>\n",
              "      <td>1.0</td>\n",
              "      <td>0.189189</td>\n",
              "      <td>0.5</td>\n",
              "      <td>0.584310</td>\n",
              "      <td>0.333333</td>\n",
              "      <td>1.0</td>\n",
              "      <td>1.0</td>\n",
              "      <td>0.364462</td>\n",
              "      <td>0.0</td>\n",
              "    </tr>\n",
              "    <tr>\n",
              "      <th>3</th>\n",
              "      <td>0.574</td>\n",
              "      <td>0.0</td>\n",
              "      <td>1.0</td>\n",
              "      <td>0.297297</td>\n",
              "      <td>0.6</td>\n",
              "      <td>0.000000</td>\n",
              "      <td>0.333333</td>\n",
              "      <td>1.0</td>\n",
              "      <td>1.0</td>\n",
              "      <td>0.908046</td>\n",
              "      <td>0.0</td>\n",
              "    </tr>\n",
              "    <tr>\n",
              "      <th>4</th>\n",
              "      <td>0.614</td>\n",
              "      <td>0.0</td>\n",
              "      <td>0.0</td>\n",
              "      <td>0.770270</td>\n",
              "      <td>0.7</td>\n",
              "      <td>0.503288</td>\n",
              "      <td>0.000000</td>\n",
              "      <td>0.0</td>\n",
              "      <td>1.0</td>\n",
              "      <td>0.458141</td>\n",
              "      <td>0.0</td>\n",
              "    </tr>\n",
              "    <tr>\n",
              "      <th>...</th>\n",
              "      <td>...</td>\n",
              "      <td>...</td>\n",
              "      <td>...</td>\n",
              "      <td>...</td>\n",
              "      <td>...</td>\n",
              "      <td>...</td>\n",
              "      <td>...</td>\n",
              "      <td>...</td>\n",
              "      <td>...</td>\n",
              "      <td>...</td>\n",
              "      <td>...</td>\n",
              "    </tr>\n",
              "    <tr>\n",
              "      <th>8995</th>\n",
              "      <td>0.808</td>\n",
              "      <td>0.5</td>\n",
              "      <td>1.0</td>\n",
              "      <td>0.121622</td>\n",
              "      <td>0.7</td>\n",
              "      <td>0.000000</td>\n",
              "      <td>0.333333</td>\n",
              "      <td>1.0</td>\n",
              "      <td>0.0</td>\n",
              "      <td>0.720574</td>\n",
              "      <td>0.0</td>\n",
              "    </tr>\n",
              "    <tr>\n",
              "      <th>8996</th>\n",
              "      <td>0.718</td>\n",
              "      <td>1.0</td>\n",
              "      <td>0.0</td>\n",
              "      <td>0.162162</td>\n",
              "      <td>0.9</td>\n",
              "      <td>0.460264</td>\n",
              "      <td>0.333333</td>\n",
              "      <td>1.0</td>\n",
              "      <td>1.0</td>\n",
              "      <td>0.673543</td>\n",
              "      <td>0.0</td>\n",
              "    </tr>\n",
              "    <tr>\n",
              "      <th>8997</th>\n",
              "      <td>0.742</td>\n",
              "      <td>0.5</td>\n",
              "      <td>0.0</td>\n",
              "      <td>0.486486</td>\n",
              "      <td>0.5</td>\n",
              "      <td>0.000000</td>\n",
              "      <td>0.333333</td>\n",
              "      <td>1.0</td>\n",
              "      <td>1.0</td>\n",
              "      <td>0.022026</td>\n",
              "      <td>0.0</td>\n",
              "    </tr>\n",
              "    <tr>\n",
              "      <th>8998</th>\n",
              "      <td>0.490</td>\n",
              "      <td>1.0</td>\n",
              "      <td>0.0</td>\n",
              "      <td>0.162162</td>\n",
              "      <td>0.9</td>\n",
              "      <td>0.520857</td>\n",
              "      <td>0.333333</td>\n",
              "      <td>1.0</td>\n",
              "      <td>1.0</td>\n",
              "      <td>0.289005</td>\n",
              "      <td>0.0</td>\n",
              "    </tr>\n",
              "    <tr>\n",
              "      <th>8999</th>\n",
              "      <td>0.592</td>\n",
              "      <td>0.0</td>\n",
              "      <td>0.0</td>\n",
              "      <td>0.094595</td>\n",
              "      <td>0.5</td>\n",
              "      <td>0.728889</td>\n",
              "      <td>0.333333</td>\n",
              "      <td>1.0</td>\n",
              "      <td>1.0</td>\n",
              "      <td>0.212341</td>\n",
              "      <td>1.0</td>\n",
              "    </tr>\n",
              "  </tbody>\n",
              "</table>\n",
              "<p>9000 rows × 11 columns</p>\n",
              "</div>"
            ],
            "text/plain": [
              "      CreditScore  Geography  Gender  ...  IsActiveMember  EstimatedSalary  Exited\n",
              "0           0.308        0.0     0.0  ...             1.0         0.684433     0.0\n",
              "1           0.618        0.5     1.0  ...             0.0         0.682583     0.0\n",
              "2           0.246        1.0     1.0  ...             1.0         0.364462     0.0\n",
              "3           0.574        0.0     1.0  ...             1.0         0.908046     0.0\n",
              "4           0.614        0.0     0.0  ...             1.0         0.458141     0.0\n",
              "...           ...        ...     ...  ...             ...              ...     ...\n",
              "8995        0.808        0.5     1.0  ...             0.0         0.720574     0.0\n",
              "8996        0.718        1.0     0.0  ...             1.0         0.673543     0.0\n",
              "8997        0.742        0.5     0.0  ...             1.0         0.022026     0.0\n",
              "8998        0.490        1.0     0.0  ...             1.0         0.289005     0.0\n",
              "8999        0.592        0.0     0.0  ...             1.0         0.212341     1.0\n",
              "\n",
              "[9000 rows x 11 columns]"
            ]
          },
          "metadata": {
            "tags": []
          },
          "execution_count": 318
        }
      ]
    },
    {
      "cell_type": "code",
      "metadata": {
        "id": "PcBq1b-FblMP"
      },
      "source": [
        "customer_dataset_df= customer_dataset_df.drop(columns=['CustomerId', 'Surname'])"
      ],
      "execution_count": 207,
      "outputs": []
    },
    {
      "cell_type": "markdown",
      "metadata": {
        "id": "ABAjwHMqqXOg"
      },
      "source": [
        "## Scaling: Applying MinMax Data Scaling to handle columns that have large continuous values like EstimatedSalary"
      ]
    },
    {
      "cell_type": "code",
      "metadata": {
        "id": "xZrS0UCKqgWI"
      },
      "source": [
        "from sklearn.preprocessing import MinMaxScaler\n",
        "scaler = MinMaxScaler()"
      ],
      "execution_count": 208,
      "outputs": []
    },
    {
      "cell_type": "code",
      "metadata": {
        "id": "R4yDVm1bsHjG"
      },
      "source": [
        "customer_dataset_df[['CreditScore']]= scaler.fit_transform(customer_dataset_df[['CreditScore']])"
      ],
      "execution_count": 209,
      "outputs": []
    },
    {
      "cell_type": "code",
      "metadata": {
        "id": "sboDWUPsstJr"
      },
      "source": [
        "customer_dataset_df[customer_dataset_df.columns]= scaler.fit_transform(customer_dataset_df[customer_dataset_df.columns])"
      ],
      "execution_count": 210,
      "outputs": []
    },
    {
      "cell_type": "code",
      "metadata": {
        "colab": {
          "base_uri": "https://localhost:8080/",
          "height": 407
        },
        "id": "p8WJ8CcEsfWh",
        "outputId": "917b6b2e-200a-4f2c-975f-ff4793861889"
      },
      "source": [
        "customer_dataset_df"
      ],
      "execution_count": 211,
      "outputs": [
        {
          "output_type": "execute_result",
          "data": {
            "text/html": [
              "<div>\n",
              "<style scoped>\n",
              "    .dataframe tbody tr th:only-of-type {\n",
              "        vertical-align: middle;\n",
              "    }\n",
              "\n",
              "    .dataframe tbody tr th {\n",
              "        vertical-align: top;\n",
              "    }\n",
              "\n",
              "    .dataframe thead th {\n",
              "        text-align: right;\n",
              "    }\n",
              "</style>\n",
              "<table border=\"1\" class=\"dataframe\">\n",
              "  <thead>\n",
              "    <tr style=\"text-align: right;\">\n",
              "      <th></th>\n",
              "      <th>CreditScore</th>\n",
              "      <th>Geography</th>\n",
              "      <th>Gender</th>\n",
              "      <th>Age</th>\n",
              "      <th>Tenure</th>\n",
              "      <th>Balance</th>\n",
              "      <th>NumOfProducts</th>\n",
              "      <th>HasCrCard</th>\n",
              "      <th>IsActiveMember</th>\n",
              "      <th>EstimatedSalary</th>\n",
              "      <th>Exited</th>\n",
              "    </tr>\n",
              "  </thead>\n",
              "  <tbody>\n",
              "    <tr>\n",
              "      <th>0</th>\n",
              "      <td>0.308</td>\n",
              "      <td>0.0</td>\n",
              "      <td>0.0</td>\n",
              "      <td>0.216216</td>\n",
              "      <td>0.0</td>\n",
              "      <td>0.219136</td>\n",
              "      <td>0.000000</td>\n",
              "      <td>1.0</td>\n",
              "      <td>1.0</td>\n",
              "      <td>0.684433</td>\n",
              "      <td>0.0</td>\n",
              "    </tr>\n",
              "    <tr>\n",
              "      <th>1</th>\n",
              "      <td>0.618</td>\n",
              "      <td>0.5</td>\n",
              "      <td>1.0</td>\n",
              "      <td>0.202703</td>\n",
              "      <td>0.7</td>\n",
              "      <td>0.358471</td>\n",
              "      <td>0.000000</td>\n",
              "      <td>1.0</td>\n",
              "      <td>0.0</td>\n",
              "      <td>0.682583</td>\n",
              "      <td>0.0</td>\n",
              "    </tr>\n",
              "    <tr>\n",
              "      <th>2</th>\n",
              "      <td>0.246</td>\n",
              "      <td>1.0</td>\n",
              "      <td>1.0</td>\n",
              "      <td>0.189189</td>\n",
              "      <td>0.5</td>\n",
              "      <td>0.584310</td>\n",
              "      <td>0.333333</td>\n",
              "      <td>1.0</td>\n",
              "      <td>1.0</td>\n",
              "      <td>0.364462</td>\n",
              "      <td>0.0</td>\n",
              "    </tr>\n",
              "    <tr>\n",
              "      <th>3</th>\n",
              "      <td>0.574</td>\n",
              "      <td>0.0</td>\n",
              "      <td>1.0</td>\n",
              "      <td>0.297297</td>\n",
              "      <td>0.6</td>\n",
              "      <td>0.000000</td>\n",
              "      <td>0.333333</td>\n",
              "      <td>1.0</td>\n",
              "      <td>1.0</td>\n",
              "      <td>0.908046</td>\n",
              "      <td>0.0</td>\n",
              "    </tr>\n",
              "    <tr>\n",
              "      <th>4</th>\n",
              "      <td>0.614</td>\n",
              "      <td>0.0</td>\n",
              "      <td>0.0</td>\n",
              "      <td>0.770270</td>\n",
              "      <td>0.7</td>\n",
              "      <td>0.503288</td>\n",
              "      <td>0.000000</td>\n",
              "      <td>0.0</td>\n",
              "      <td>1.0</td>\n",
              "      <td>0.458141</td>\n",
              "      <td>0.0</td>\n",
              "    </tr>\n",
              "    <tr>\n",
              "      <th>...</th>\n",
              "      <td>...</td>\n",
              "      <td>...</td>\n",
              "      <td>...</td>\n",
              "      <td>...</td>\n",
              "      <td>...</td>\n",
              "      <td>...</td>\n",
              "      <td>...</td>\n",
              "      <td>...</td>\n",
              "      <td>...</td>\n",
              "      <td>...</td>\n",
              "      <td>...</td>\n",
              "    </tr>\n",
              "    <tr>\n",
              "      <th>8995</th>\n",
              "      <td>0.808</td>\n",
              "      <td>0.5</td>\n",
              "      <td>1.0</td>\n",
              "      <td>0.121622</td>\n",
              "      <td>0.7</td>\n",
              "      <td>0.000000</td>\n",
              "      <td>0.333333</td>\n",
              "      <td>1.0</td>\n",
              "      <td>0.0</td>\n",
              "      <td>0.720574</td>\n",
              "      <td>0.0</td>\n",
              "    </tr>\n",
              "    <tr>\n",
              "      <th>8996</th>\n",
              "      <td>0.718</td>\n",
              "      <td>1.0</td>\n",
              "      <td>0.0</td>\n",
              "      <td>0.162162</td>\n",
              "      <td>0.9</td>\n",
              "      <td>0.460264</td>\n",
              "      <td>0.333333</td>\n",
              "      <td>1.0</td>\n",
              "      <td>1.0</td>\n",
              "      <td>0.673543</td>\n",
              "      <td>0.0</td>\n",
              "    </tr>\n",
              "    <tr>\n",
              "      <th>8997</th>\n",
              "      <td>0.742</td>\n",
              "      <td>0.5</td>\n",
              "      <td>0.0</td>\n",
              "      <td>0.486486</td>\n",
              "      <td>0.5</td>\n",
              "      <td>0.000000</td>\n",
              "      <td>0.333333</td>\n",
              "      <td>1.0</td>\n",
              "      <td>1.0</td>\n",
              "      <td>0.022026</td>\n",
              "      <td>0.0</td>\n",
              "    </tr>\n",
              "    <tr>\n",
              "      <th>8998</th>\n",
              "      <td>0.490</td>\n",
              "      <td>1.0</td>\n",
              "      <td>0.0</td>\n",
              "      <td>0.162162</td>\n",
              "      <td>0.9</td>\n",
              "      <td>0.520857</td>\n",
              "      <td>0.333333</td>\n",
              "      <td>1.0</td>\n",
              "      <td>1.0</td>\n",
              "      <td>0.289005</td>\n",
              "      <td>0.0</td>\n",
              "    </tr>\n",
              "    <tr>\n",
              "      <th>8999</th>\n",
              "      <td>0.592</td>\n",
              "      <td>0.0</td>\n",
              "      <td>0.0</td>\n",
              "      <td>0.094595</td>\n",
              "      <td>0.5</td>\n",
              "      <td>0.728889</td>\n",
              "      <td>0.333333</td>\n",
              "      <td>1.0</td>\n",
              "      <td>1.0</td>\n",
              "      <td>0.212341</td>\n",
              "      <td>1.0</td>\n",
              "    </tr>\n",
              "  </tbody>\n",
              "</table>\n",
              "<p>9000 rows × 11 columns</p>\n",
              "</div>"
            ],
            "text/plain": [
              "      CreditScore  Geography  Gender  ...  IsActiveMember  EstimatedSalary  Exited\n",
              "0           0.308        0.0     0.0  ...             1.0         0.684433     0.0\n",
              "1           0.618        0.5     1.0  ...             0.0         0.682583     0.0\n",
              "2           0.246        1.0     1.0  ...             1.0         0.364462     0.0\n",
              "3           0.574        0.0     1.0  ...             1.0         0.908046     0.0\n",
              "4           0.614        0.0     0.0  ...             1.0         0.458141     0.0\n",
              "...           ...        ...     ...  ...             ...              ...     ...\n",
              "8995        0.808        0.5     1.0  ...             0.0         0.720574     0.0\n",
              "8996        0.718        1.0     0.0  ...             1.0         0.673543     0.0\n",
              "8997        0.742        0.5     0.0  ...             1.0         0.022026     0.0\n",
              "8998        0.490        1.0     0.0  ...             1.0         0.289005     0.0\n",
              "8999        0.592        0.0     0.0  ...             1.0         0.212341     1.0\n",
              "\n",
              "[9000 rows x 11 columns]"
            ]
          },
          "metadata": {
            "tags": []
          },
          "execution_count": 211
        }
      ]
    },
    {
      "cell_type": "markdown",
      "metadata": {
        "id": "OxVgXduutrkr"
      },
      "source": [
        "## Test-train Split"
      ]
    },
    {
      "cell_type": "code",
      "metadata": {
        "id": "hCyGhhTrc07p"
      },
      "source": [
        "Y_df= customer_dataset_df[\"Exited\"]\n"
      ],
      "execution_count": 212,
      "outputs": []
    },
    {
      "cell_type": "code",
      "metadata": {
        "id": "LLbFa9JfdN5B"
      },
      "source": [
        "X_df= customer_dataset_df.drop(columns=['Exited'])"
      ],
      "execution_count": 213,
      "outputs": []
    },
    {
      "cell_type": "code",
      "metadata": {
        "id": "CMAk76PidYqc"
      },
      "source": [
        "X_train, X_test, y_train, y_test = train_test_split(X_df, Y_df, test_size=0.2, random_state=7)"
      ],
      "execution_count": 214,
      "outputs": []
    },
    {
      "cell_type": "markdown",
      "metadata": {
        "id": "I903PAwcpN4t"
      },
      "source": [
        "Converting df to numpy array (accepted by keras's model.fit(..) )"
      ]
    },
    {
      "cell_type": "code",
      "metadata": {
        "id": "Syhla_ztpI82"
      },
      "source": [
        "X_train_numpy= X_train.to_numpy()\n",
        "y_train_numpy= y_train.to_numpy()\n",
        "X_test_numpy= X_test.to_numpy()\n",
        "y_test_numpy= y_test.to_numpy()\n",
        "\n"
      ],
      "execution_count": 215,
      "outputs": []
    },
    {
      "cell_type": "markdown",
      "metadata": {
        "id": "EVpPDUADpNHd"
      },
      "source": [
        "Converting all int values to float (enabling numpy array to be converted to tensor when fed into model.fit(..) ) "
      ]
    },
    {
      "cell_type": "code",
      "metadata": {
        "id": "YRTLs3VApMU-"
      },
      "source": [
        "X_train_numpy = np.asarray(X_train_numpy).astype('float32')\n",
        "y_train_numpy = np.asarray(y_train_numpy).astype('float32')\n",
        "\n",
        "X_test_numpy = np.asarray(X_test_numpy).astype('float32')\n",
        "y_test_numpy = np.asarray(y_test_numpy).astype('float32')"
      ],
      "execution_count": 216,
      "outputs": []
    },
    {
      "cell_type": "markdown",
      "metadata": {
        "id": "RVguc1-MeKeF"
      },
      "source": [
        "## Building Keras Sequential Models"
      ]
    },
    {
      "cell_type": "code",
      "metadata": {
        "id": "jpCBI1bBdpEv"
      },
      "source": [
        "import tensorflow as tf"
      ],
      "execution_count": 217,
      "outputs": []
    },
    {
      "cell_type": "code",
      "metadata": {
        "id": "baOb5gDreIkm"
      },
      "source": [
        "from tensorflow.keras import datasets, layers, models, Sequential, optimizers, regularizers"
      ],
      "execution_count": 218,
      "outputs": []
    },
    {
      "cell_type": "code",
      "metadata": {
        "id": "Ci2WQyLceL4m"
      },
      "source": [
        "BATCH_SIZE = 32"
      ],
      "execution_count": 219,
      "outputs": []
    },
    {
      "cell_type": "code",
      "metadata": {
        "id": "y7Uzek5GkhXE"
      },
      "source": [
        "def calculate_F1(precision, recall):\n",
        "  F1_score = 2 * (precision * recall) / (precision + recall)\n",
        "  return F1_score\n"
      ],
      "execution_count": 276,
      "outputs": []
    },
    {
      "cell_type": "markdown",
      "metadata": {
        "id": "AS2hceQUumcS"
      },
      "source": [
        "## Model A"
      ]
    },
    {
      "cell_type": "code",
      "metadata": {
        "id": "5Res3ooXeQ7m"
      },
      "source": [
        "model_A= Sequential()"
      ],
      "execution_count": 277,
      "outputs": []
    },
    {
      "cell_type": "code",
      "metadata": {
        "id": "AOlaogY3eppJ"
      },
      "source": [
        "model_A.add(tf.keras.Input(shape=(10,)))\n",
        "model_A.add(layers.Dense(64, activation='relu'))6\n",
        "model_A.add(layers.Dense(32, activation='relu'))\n",
        "model_A.add(layers.Dense(32, activation='relu'))\n",
        "model_A.add(layers.Dense(16, activation='relu'))\n",
        "model_A.add(layers.Dense(8, activation='relu'))\n",
        "model_A.add(layers.Dense(1, activation='sigmoid'))"
      ],
      "execution_count": 278,
      "outputs": []
    },
    {
      "cell_type": "code",
      "metadata": {
        "colab": {
          "base_uri": "https://localhost:8080/"
        },
        "id": "MxwOxMqSgsJn",
        "outputId": "5b86f6d3-9ef0-4f15-a8a7-a813b873942b"
      },
      "source": [
        "model_A.summary()"
      ],
      "execution_count": 279,
      "outputs": [
        {
          "output_type": "stream",
          "text": [
            "Model: \"sequential_18\"\n",
            "_________________________________________________________________\n",
            "Layer (type)                 Output Shape              Param #   \n",
            "=================================================================\n",
            "dense_91 (Dense)             (None, 64)                704       \n",
            "_________________________________________________________________\n",
            "dense_92 (Dense)             (None, 32)                2080      \n",
            "_________________________________________________________________\n",
            "dense_93 (Dense)             (None, 32)                1056      \n",
            "_________________________________________________________________\n",
            "dense_94 (Dense)             (None, 16)                528       \n",
            "_________________________________________________________________\n",
            "dense_95 (Dense)             (None, 8)                 136       \n",
            "_________________________________________________________________\n",
            "dense_96 (Dense)             (None, 1)                 9         \n",
            "=================================================================\n",
            "Total params: 4,513\n",
            "Trainable params: 4,513\n",
            "Non-trainable params: 0\n",
            "_________________________________________________________________\n"
          ],
          "name": "stdout"
        }
      ]
    },
    {
      "cell_type": "code",
      "metadata": {
        "id": "ZPQBz3nzhV4G"
      },
      "source": [
        "model_A.compile(optimizer= optimizers.Adam(lr=0.01),\n",
        "              loss='binary_crossentropy',\n",
        "              metrics=[tf.keras.metrics.BinaryAccuracy(threshold=0.5), tf.keras.metrics.BinaryCrossentropy(), tf.keras.metrics.Precision(thresholds=0.5), tf.keras.metrics.Recall(thresholds=0.5)] )"
      ],
      "execution_count": 280,
      "outputs": []
    },
    {
      "cell_type": "code",
      "metadata": {
        "colab": {
          "base_uri": "https://localhost:8080/"
        },
        "id": "5s5YWYIthq5T",
        "outputId": "4cb452c0-45c0-40bc-81f7-12792d0f9f33"
      },
      "source": [
        "model_A.fit(x= X_train_numpy, y=y_train_numpy, batch_size=BATCH_SIZE, epochs=80, verbose=2, validation_data= (X_test_numpy,y_test_numpy))"
      ],
      "execution_count": 281,
      "outputs": [
        {
          "output_type": "stream",
          "text": [
            "Epoch 1/80\n",
            "225/225 - 2s - loss: 0.4712 - binary_accuracy: 0.7954 - binary_crossentropy: 0.4712 - precision_4: 0.7143 - recall_4: 0.0034 - val_loss: 0.4583 - val_binary_accuracy: 0.8028 - val_binary_crossentropy: 0.4583 - val_precision_4: 0.0000e+00 - val_recall_4: 0.0000e+00\n",
            "Epoch 2/80\n",
            "225/225 - 0s - loss: 0.4204 - binary_accuracy: 0.8125 - binary_crossentropy: 0.4204 - precision_4: 0.6189 - recall_4: 0.2222 - val_loss: 0.3992 - val_binary_accuracy: 0.8267 - val_binary_crossentropy: 0.3992 - val_precision_4: 0.9057 - val_recall_4: 0.1352\n",
            "Epoch 3/80\n",
            "225/225 - 0s - loss: 0.3827 - binary_accuracy: 0.8358 - binary_crossentropy: 0.3827 - precision_4: 0.7019 - recall_4: 0.3462 - val_loss: 0.3590 - val_binary_accuracy: 0.8561 - val_binary_crossentropy: 0.3590 - val_precision_4: 0.7963 - val_recall_4: 0.3634\n",
            "Epoch 4/80\n",
            "225/225 - 0s - loss: 0.3675 - binary_accuracy: 0.8479 - binary_crossentropy: 0.3675 - precision_4: 0.7606 - recall_4: 0.3767 - val_loss: 0.3637 - val_binary_accuracy: 0.8544 - val_binary_crossentropy: 0.3637 - val_precision_4: 0.7818 - val_recall_4: 0.3634\n",
            "Epoch 5/80\n",
            "225/225 - 0s - loss: 0.3632 - binary_accuracy: 0.8494 - binary_crossentropy: 0.3632 - precision_4: 0.7634 - recall_4: 0.3848 - val_loss: 0.3804 - val_binary_accuracy: 0.8556 - val_binary_crossentropy: 0.3804 - val_precision_4: 0.7251 - val_recall_4: 0.4310\n",
            "Epoch 6/80\n",
            "225/225 - 0s - loss: 0.3627 - binary_accuracy: 0.8492 - binary_crossentropy: 0.3627 - precision_4: 0.7539 - recall_4: 0.3923 - val_loss: 0.3646 - val_binary_accuracy: 0.8550 - val_binary_crossentropy: 0.3646 - val_precision_4: 0.7398 - val_recall_4: 0.4085\n",
            "Epoch 7/80\n",
            "225/225 - 0s - loss: 0.3551 - binary_accuracy: 0.8531 - binary_crossentropy: 0.3551 - precision_4: 0.8012 - recall_4: 0.3767 - val_loss: 0.3533 - val_binary_accuracy: 0.8556 - val_binary_crossentropy: 0.3533 - val_precision_4: 0.8276 - val_recall_4: 0.3380\n",
            "Epoch 8/80\n",
            "225/225 - 0s - loss: 0.3515 - binary_accuracy: 0.8533 - binary_crossentropy: 0.3515 - precision_4: 0.7815 - recall_4: 0.3950 - val_loss: 0.3677 - val_binary_accuracy: 0.8406 - val_binary_crossentropy: 0.3677 - val_precision_4: 0.6006 - val_recall_4: 0.5718\n",
            "Epoch 9/80\n",
            "225/225 - 0s - loss: 0.3479 - binary_accuracy: 0.8558 - binary_crossentropy: 0.3479 - precision_4: 0.7601 - recall_4: 0.4336 - val_loss: 0.3487 - val_binary_accuracy: 0.8622 - val_binary_crossentropy: 0.3487 - val_precision_4: 0.7357 - val_recall_4: 0.4704\n",
            "Epoch 10/80\n",
            "225/225 - 0s - loss: 0.3480 - binary_accuracy: 0.8578 - binary_crossentropy: 0.3480 - precision_4: 0.7622 - recall_4: 0.4451 - val_loss: 0.3530 - val_binary_accuracy: 0.8522 - val_binary_crossentropy: 0.3530 - val_precision_4: 0.6422 - val_recall_4: 0.5662\n",
            "Epoch 11/80\n",
            "225/225 - 0s - loss: 0.3448 - binary_accuracy: 0.8574 - binary_crossentropy: 0.3448 - precision_4: 0.7443 - recall_4: 0.4634 - val_loss: 0.3503 - val_binary_accuracy: 0.8578 - val_binary_crossentropy: 0.3503 - val_precision_4: 0.8462 - val_recall_4: 0.3408\n",
            "Epoch 12/80\n",
            "225/225 - 0s - loss: 0.3441 - binary_accuracy: 0.8565 - binary_crossentropy: 0.3441 - precision_4: 0.7800 - recall_4: 0.4180 - val_loss: 0.3497 - val_binary_accuracy: 0.8589 - val_binary_crossentropy: 0.3497 - val_precision_4: 0.7760 - val_recall_4: 0.4000\n",
            "Epoch 13/80\n",
            "225/225 - 0s - loss: 0.3434 - binary_accuracy: 0.8565 - binary_crossentropy: 0.3434 - precision_4: 0.7579 - recall_4: 0.4411 - val_loss: 0.3524 - val_binary_accuracy: 0.8650 - val_binary_crossentropy: 0.3524 - val_precision_4: 0.7887 - val_recall_4: 0.4310\n",
            "Epoch 14/80\n",
            "225/225 - 0s - loss: 0.3458 - binary_accuracy: 0.8521 - binary_crossentropy: 0.3458 - precision_4: 0.7349 - recall_4: 0.4356 - val_loss: 0.3692 - val_binary_accuracy: 0.8567 - val_binary_crossentropy: 0.3692 - val_precision_4: 0.7156 - val_recall_4: 0.4535\n",
            "Epoch 15/80\n",
            "225/225 - 0s - loss: 0.3466 - binary_accuracy: 0.8558 - binary_crossentropy: 0.3466 - precision_4: 0.7455 - recall_4: 0.4505 - val_loss: 0.3510 - val_binary_accuracy: 0.8528 - val_binary_crossentropy: 0.3510 - val_precision_4: 0.7296 - val_recall_4: 0.4028\n",
            "Epoch 16/80\n",
            "225/225 - 0s - loss: 0.3414 - binary_accuracy: 0.8592 - binary_crossentropy: 0.3414 - precision_4: 0.7674 - recall_4: 0.4492 - val_loss: 0.3548 - val_binary_accuracy: 0.8594 - val_binary_crossentropy: 0.3548 - val_precision_4: 0.7965 - val_recall_4: 0.3859\n",
            "Epoch 17/80\n",
            "225/225 - 0s - loss: 0.3365 - binary_accuracy: 0.8606 - binary_crossentropy: 0.3365 - precision_4: 0.7816 - recall_4: 0.4438 - val_loss: 0.3420 - val_binary_accuracy: 0.8639 - val_binary_crossentropy: 0.3420 - val_precision_4: 0.7434 - val_recall_4: 0.4732\n",
            "Epoch 18/80\n",
            "225/225 - 0s - loss: 0.3430 - binary_accuracy: 0.8568 - binary_crossentropy: 0.3430 - precision_4: 0.7411 - recall_4: 0.4634 - val_loss: 0.3631 - val_binary_accuracy: 0.8506 - val_binary_crossentropy: 0.3631 - val_precision_4: 0.7194 - val_recall_4: 0.3972\n",
            "Epoch 19/80\n",
            "225/225 - 0s - loss: 0.3389 - binary_accuracy: 0.8574 - binary_crossentropy: 0.3389 - precision_4: 0.7361 - recall_4: 0.4743 - val_loss: 0.3476 - val_binary_accuracy: 0.8528 - val_binary_crossentropy: 0.3476 - val_precision_4: 0.7320 - val_recall_4: 0.4000\n",
            "Epoch 20/80\n",
            "225/225 - 0s - loss: 0.3365 - binary_accuracy: 0.8599 - binary_crossentropy: 0.3365 - precision_4: 0.7632 - recall_4: 0.4587 - val_loss: 0.3568 - val_binary_accuracy: 0.8522 - val_binary_crossentropy: 0.3568 - val_precision_4: 0.6773 - val_recall_4: 0.4789\n",
            "Epoch 21/80\n",
            "225/225 - 0s - loss: 0.3381 - binary_accuracy: 0.8599 - binary_crossentropy: 0.3381 - precision_4: 0.7609 - recall_4: 0.4614 - val_loss: 0.3427 - val_binary_accuracy: 0.8611 - val_binary_crossentropy: 0.3427 - val_precision_4: 0.6996 - val_recall_4: 0.5183\n",
            "Epoch 22/80\n",
            "225/225 - 0s - loss: 0.3371 - binary_accuracy: 0.8600 - binary_crossentropy: 0.3371 - precision_4: 0.7653 - recall_4: 0.4573 - val_loss: 0.3468 - val_binary_accuracy: 0.8639 - val_binary_crossentropy: 0.3468 - val_precision_4: 0.7696 - val_recall_4: 0.4423\n",
            "Epoch 23/80\n",
            "225/225 - 0s - loss: 0.3347 - binary_accuracy: 0.8603 - binary_crossentropy: 0.3347 - precision_4: 0.7500 - recall_4: 0.4776 - val_loss: 0.3518 - val_binary_accuracy: 0.8556 - val_binary_crossentropy: 0.3518 - val_precision_4: 0.6557 - val_recall_4: 0.5634\n",
            "Epoch 24/80\n",
            "225/225 - 0s - loss: 0.3356 - binary_accuracy: 0.8589 - binary_crossentropy: 0.3356 - precision_4: 0.7556 - recall_4: 0.4607 - val_loss: 0.3570 - val_binary_accuracy: 0.8517 - val_binary_crossentropy: 0.3570 - val_precision_4: 0.6447 - val_recall_4: 0.5521\n",
            "Epoch 25/80\n",
            "225/225 - 0s - loss: 0.3331 - binary_accuracy: 0.8643 - binary_crossentropy: 0.3331 - precision_4: 0.7607 - recall_4: 0.4932 - val_loss: 0.3640 - val_binary_accuracy: 0.8528 - val_binary_crossentropy: 0.3640 - val_precision_4: 0.6844 - val_recall_4: 0.4704\n",
            "Epoch 26/80\n",
            "225/225 - 0s - loss: 0.3341 - binary_accuracy: 0.8632 - binary_crossentropy: 0.3341 - precision_4: 0.7719 - recall_4: 0.4722 - val_loss: 0.3486 - val_binary_accuracy: 0.8594 - val_binary_crossentropy: 0.3486 - val_precision_4: 0.6835 - val_recall_4: 0.5352\n",
            "Epoch 27/80\n",
            "225/225 - 0s - loss: 0.3303 - binary_accuracy: 0.8632 - binary_crossentropy: 0.3303 - precision_4: 0.7689 - recall_4: 0.4756 - val_loss: 0.3413 - val_binary_accuracy: 0.8611 - val_binary_crossentropy: 0.3413 - val_precision_4: 0.7313 - val_recall_4: 0.4676\n",
            "Epoch 28/80\n",
            "225/225 - 0s - loss: 0.3332 - binary_accuracy: 0.8642 - binary_crossentropy: 0.3332 - precision_4: 0.7695 - recall_4: 0.4817 - val_loss: 0.3475 - val_binary_accuracy: 0.8594 - val_binary_crossentropy: 0.3475 - val_precision_4: 0.7383 - val_recall_4: 0.4451\n",
            "Epoch 29/80\n",
            "225/225 - 0s - loss: 0.3333 - binary_accuracy: 0.8608 - binary_crossentropy: 0.3333 - precision_4: 0.7599 - recall_4: 0.4695 - val_loss: 0.3486 - val_binary_accuracy: 0.8583 - val_binary_crossentropy: 0.3486 - val_precision_4: 0.7252 - val_recall_4: 0.4535\n",
            "Epoch 30/80\n",
            "225/225 - 0s - loss: 0.3326 - binary_accuracy: 0.8632 - binary_crossentropy: 0.3326 - precision_4: 0.7969 - recall_4: 0.4465 - val_loss: 0.3499 - val_binary_accuracy: 0.8689 - val_binary_crossentropy: 0.3499 - val_precision_4: 0.8083 - val_recall_4: 0.4394\n",
            "Epoch 31/80\n",
            "225/225 - 0s - loss: 0.3284 - binary_accuracy: 0.8611 - binary_crossentropy: 0.3284 - precision_4: 0.7656 - recall_4: 0.4648 - val_loss: 0.3644 - val_binary_accuracy: 0.8661 - val_binary_crossentropy: 0.3644 - val_precision_4: 0.7395 - val_recall_4: 0.4958\n",
            "Epoch 32/80\n",
            "225/225 - 0s - loss: 0.3285 - binary_accuracy: 0.8631 - binary_crossentropy: 0.3285 - precision_4: 0.7778 - recall_4: 0.4648 - val_loss: 0.3593 - val_binary_accuracy: 0.8567 - val_binary_crossentropy: 0.3593 - val_precision_4: 0.7195 - val_recall_4: 0.4479\n",
            "Epoch 33/80\n",
            "225/225 - 0s - loss: 0.3302 - binary_accuracy: 0.8651 - binary_crossentropy: 0.3302 - precision_4: 0.7974 - recall_4: 0.4587 - val_loss: 0.3578 - val_binary_accuracy: 0.8550 - val_binary_crossentropy: 0.3578 - val_precision_4: 0.7527 - val_recall_4: 0.3944\n",
            "Epoch 34/80\n",
            "225/225 - 0s - loss: 0.3268 - binary_accuracy: 0.8635 - binary_crossentropy: 0.3268 - precision_4: 0.7676 - recall_4: 0.4790 - val_loss: 0.3523 - val_binary_accuracy: 0.8644 - val_binary_crossentropy: 0.3523 - val_precision_4: 0.7630 - val_recall_4: 0.4535\n",
            "Epoch 35/80\n",
            "225/225 - 0s - loss: 0.3262 - binary_accuracy: 0.8636 - binary_crossentropy: 0.3262 - precision_4: 0.7865 - recall_4: 0.4593 - val_loss: 0.3700 - val_binary_accuracy: 0.8594 - val_binary_crossentropy: 0.3700 - val_precision_4: 0.7297 - val_recall_4: 0.4563\n",
            "Epoch 36/80\n",
            "225/225 - 0s - loss: 0.3292 - binary_accuracy: 0.8637 - binary_crossentropy: 0.3292 - precision_4: 0.7681 - recall_4: 0.4804 - val_loss: 0.3666 - val_binary_accuracy: 0.8583 - val_binary_crossentropy: 0.3666 - val_precision_4: 0.6786 - val_recall_4: 0.5352\n",
            "Epoch 37/80\n",
            "225/225 - 0s - loss: 0.3277 - binary_accuracy: 0.8647 - binary_crossentropy: 0.3277 - precision_4: 0.7693 - recall_4: 0.4858 - val_loss: 0.3495 - val_binary_accuracy: 0.8611 - val_binary_crossentropy: 0.3495 - val_precision_4: 0.7838 - val_recall_4: 0.4085\n",
            "Epoch 38/80\n",
            "225/225 - 0s - loss: 0.3245 - binary_accuracy: 0.8632 - binary_crossentropy: 0.3245 - precision_4: 0.7806 - recall_4: 0.4627 - val_loss: 0.3633 - val_binary_accuracy: 0.8628 - val_binary_crossentropy: 0.3633 - val_precision_4: 0.7389 - val_recall_4: 0.4704\n",
            "Epoch 39/80\n",
            "225/225 - 0s - loss: 0.3235 - binary_accuracy: 0.8619 - binary_crossentropy: 0.3235 - precision_4: 0.7702 - recall_4: 0.4654 - val_loss: 0.3711 - val_binary_accuracy: 0.8567 - val_binary_crossentropy: 0.3711 - val_precision_4: 0.6738 - val_recall_4: 0.5296\n",
            "Epoch 40/80\n",
            "225/225 - 0s - loss: 0.3264 - binary_accuracy: 0.8629 - binary_crossentropy: 0.3264 - precision_4: 0.7801 - recall_4: 0.4614 - val_loss: 0.3462 - val_binary_accuracy: 0.8622 - val_binary_crossentropy: 0.3462 - val_precision_4: 0.7378 - val_recall_4: 0.4676\n",
            "Epoch 41/80\n",
            "225/225 - 0s - loss: 0.3228 - binary_accuracy: 0.8671 - binary_crossentropy: 0.3228 - precision_4: 0.7899 - recall_4: 0.4790 - val_loss: 0.3667 - val_binary_accuracy: 0.8589 - val_binary_crossentropy: 0.3667 - val_precision_4: 0.6935 - val_recall_4: 0.5099\n",
            "Epoch 42/80\n",
            "225/225 - 0s - loss: 0.3226 - binary_accuracy: 0.8644 - binary_crossentropy: 0.3226 - precision_4: 0.7759 - recall_4: 0.4763 - val_loss: 0.3603 - val_binary_accuracy: 0.8639 - val_binary_crossentropy: 0.3603 - val_precision_4: 0.7350 - val_recall_4: 0.4845\n",
            "Epoch 43/80\n",
            "225/225 - 0s - loss: 0.3203 - binary_accuracy: 0.8629 - binary_crossentropy: 0.3203 - precision_4: 0.7678 - recall_4: 0.4749 - val_loss: 0.3736 - val_binary_accuracy: 0.8511 - val_binary_crossentropy: 0.3736 - val_precision_4: 0.6347 - val_recall_4: 0.5775\n",
            "Epoch 44/80\n",
            "225/225 - 0s - loss: 0.3223 - binary_accuracy: 0.8632 - binary_crossentropy: 0.3223 - precision_4: 0.7620 - recall_4: 0.4837 - val_loss: 0.3595 - val_binary_accuracy: 0.8633 - val_binary_crossentropy: 0.3595 - val_precision_4: 0.7137 - val_recall_4: 0.5127\n",
            "Epoch 45/80\n",
            "225/225 - 0s - loss: 0.3231 - binary_accuracy: 0.8644 - binary_crossentropy: 0.3231 - precision_4: 0.7803 - recall_4: 0.4715 - val_loss: 0.3607 - val_binary_accuracy: 0.8539 - val_binary_crossentropy: 0.3607 - val_precision_4: 0.6620 - val_recall_4: 0.5296\n",
            "Epoch 46/80\n",
            "225/225 - 0s - loss: 0.3187 - binary_accuracy: 0.8662 - binary_crossentropy: 0.3187 - precision_4: 0.7697 - recall_4: 0.4959 - val_loss: 0.3533 - val_binary_accuracy: 0.8600 - val_binary_crossentropy: 0.3533 - val_precision_4: 0.7696 - val_recall_4: 0.4141\n",
            "Epoch 47/80\n",
            "225/225 - 0s - loss: 0.3182 - binary_accuracy: 0.8682 - binary_crossentropy: 0.3182 - precision_4: 0.8053 - recall_4: 0.4709 - val_loss: 0.3618 - val_binary_accuracy: 0.8633 - val_binary_crossentropy: 0.3618 - val_precision_4: 0.7489 - val_recall_4: 0.4620\n",
            "Epoch 48/80\n",
            "225/225 - 0s - loss: 0.3187 - binary_accuracy: 0.8678 - binary_crossentropy: 0.3187 - precision_4: 0.7758 - recall_4: 0.4993 - val_loss: 0.3682 - val_binary_accuracy: 0.8644 - val_binary_crossentropy: 0.3682 - val_precision_4: 0.7445 - val_recall_4: 0.4761\n",
            "Epoch 49/80\n",
            "225/225 - 0s - loss: 0.3179 - binary_accuracy: 0.8656 - binary_crossentropy: 0.3179 - precision_4: 0.7880 - recall_4: 0.4709 - val_loss: 0.3642 - val_binary_accuracy: 0.8639 - val_binary_crossentropy: 0.3642 - val_precision_4: 0.7350 - val_recall_4: 0.4845\n",
            "Epoch 50/80\n",
            "225/225 - 0s - loss: 0.3161 - binary_accuracy: 0.8650 - binary_crossentropy: 0.3161 - precision_4: 0.7687 - recall_4: 0.4885 - val_loss: 0.3701 - val_binary_accuracy: 0.8539 - val_binary_crossentropy: 0.3701 - val_precision_4: 0.6949 - val_recall_4: 0.4620\n",
            "Epoch 51/80\n",
            "225/225 - 0s - loss: 0.3199 - binary_accuracy: 0.8642 - binary_crossentropy: 0.3199 - precision_4: 0.7707 - recall_4: 0.4804 - val_loss: 0.3793 - val_binary_accuracy: 0.8561 - val_binary_crossentropy: 0.3793 - val_precision_4: 0.7017 - val_recall_4: 0.4704\n",
            "Epoch 52/80\n",
            "225/225 - 0s - loss: 0.3159 - binary_accuracy: 0.8667 - binary_crossentropy: 0.3159 - precision_4: 0.7780 - recall_4: 0.4892 - val_loss: 0.3587 - val_binary_accuracy: 0.8617 - val_binary_crossentropy: 0.3587 - val_precision_4: 0.7431 - val_recall_4: 0.4563\n",
            "Epoch 53/80\n",
            "225/225 - 0s - loss: 0.3147 - binary_accuracy: 0.8660 - binary_crossentropy: 0.3147 - precision_4: 0.7805 - recall_4: 0.4817 - val_loss: 0.3624 - val_binary_accuracy: 0.8600 - val_binary_crossentropy: 0.3624 - val_precision_4: 0.7191 - val_recall_4: 0.4761\n",
            "Epoch 54/80\n",
            "225/225 - 0s - loss: 0.3136 - binary_accuracy: 0.8675 - binary_crossentropy: 0.3136 - precision_4: 0.7874 - recall_4: 0.4844 - val_loss: 0.3713 - val_binary_accuracy: 0.8578 - val_binary_crossentropy: 0.3713 - val_precision_4: 0.6972 - val_recall_4: 0.4930\n",
            "Epoch 55/80\n",
            "225/225 - 0s - loss: 0.3157 - binary_accuracy: 0.8682 - binary_crossentropy: 0.3157 - precision_4: 0.7830 - recall_4: 0.4939 - val_loss: 0.3736 - val_binary_accuracy: 0.8539 - val_binary_crossentropy: 0.3736 - val_precision_4: 0.8151 - val_recall_4: 0.3352\n",
            "Epoch 56/80\n",
            "225/225 - 0s - loss: 0.3142 - binary_accuracy: 0.8685 - binary_crossentropy: 0.3142 - precision_4: 0.7884 - recall_4: 0.4898 - val_loss: 0.3590 - val_binary_accuracy: 0.8672 - val_binary_crossentropy: 0.3590 - val_precision_4: 0.7544 - val_recall_4: 0.4845\n",
            "Epoch 57/80\n",
            "225/225 - 0s - loss: 0.3119 - binary_accuracy: 0.8682 - binary_crossentropy: 0.3119 - precision_4: 0.7830 - recall_4: 0.4939 - val_loss: 0.3726 - val_binary_accuracy: 0.8628 - val_binary_crossentropy: 0.3726 - val_precision_4: 0.7231 - val_recall_4: 0.4930\n",
            "Epoch 58/80\n",
            "225/225 - 0s - loss: 0.3172 - binary_accuracy: 0.8661 - binary_crossentropy: 0.3172 - precision_4: 0.7889 - recall_4: 0.4736 - val_loss: 0.3652 - val_binary_accuracy: 0.8578 - val_binary_crossentropy: 0.3652 - val_precision_4: 0.7513 - val_recall_4: 0.4169\n",
            "Epoch 59/80\n",
            "225/225 - 0s - loss: 0.3107 - binary_accuracy: 0.8675 - binary_crossentropy: 0.3107 - precision_4: 0.7913 - recall_4: 0.4804 - val_loss: 0.3726 - val_binary_accuracy: 0.8572 - val_binary_crossentropy: 0.3726 - val_precision_4: 0.7402 - val_recall_4: 0.4254\n",
            "Epoch 60/80\n",
            "225/225 - 0s - loss: 0.3101 - binary_accuracy: 0.8693 - binary_crossentropy: 0.3101 - precision_4: 0.7996 - recall_4: 0.4837 - val_loss: 0.3849 - val_binary_accuracy: 0.8578 - val_binary_crossentropy: 0.3849 - val_precision_4: 0.7054 - val_recall_4: 0.4789\n",
            "Epoch 61/80\n",
            "225/225 - 0s - loss: 0.3114 - binary_accuracy: 0.8665 - binary_crossentropy: 0.3114 - precision_4: 0.7766 - recall_4: 0.4898 - val_loss: 0.3734 - val_binary_accuracy: 0.8617 - val_binary_crossentropy: 0.3734 - val_precision_4: 0.7137 - val_recall_4: 0.4986\n",
            "Epoch 62/80\n",
            "225/225 - 0s - loss: 0.3106 - binary_accuracy: 0.8674 - binary_crossentropy: 0.3106 - precision_4: 0.7792 - recall_4: 0.4925 - val_loss: 0.3718 - val_binary_accuracy: 0.8511 - val_binary_crossentropy: 0.3718 - val_precision_4: 0.7959 - val_recall_4: 0.3296\n",
            "Epoch 63/80\n",
            "225/225 - 0s - loss: 0.3095 - binary_accuracy: 0.8683 - binary_crossentropy: 0.3095 - precision_4: 0.7870 - recall_4: 0.4905 - val_loss: 0.3715 - val_binary_accuracy: 0.8556 - val_binary_crossentropy: 0.3715 - val_precision_4: 0.7487 - val_recall_4: 0.4028\n",
            "Epoch 64/80\n",
            "225/225 - 0s - loss: 0.3099 - binary_accuracy: 0.8668 - binary_crossentropy: 0.3099 - precision_4: 0.7934 - recall_4: 0.4736 - val_loss: 0.3857 - val_binary_accuracy: 0.8567 - val_binary_crossentropy: 0.3857 - val_precision_4: 0.6816 - val_recall_4: 0.5127\n",
            "Epoch 65/80\n",
            "225/225 - 0s - loss: 0.3077 - binary_accuracy: 0.8714 - binary_crossentropy: 0.3077 - precision_4: 0.7989 - recall_4: 0.4980 - val_loss: 0.3759 - val_binary_accuracy: 0.8633 - val_binary_crossentropy: 0.3759 - val_precision_4: 0.7466 - val_recall_4: 0.4648\n",
            "Epoch 66/80\n",
            "225/225 - 0s - loss: 0.3085 - binary_accuracy: 0.8664 - binary_crossentropy: 0.3085 - precision_4: 0.7787 - recall_4: 0.4864 - val_loss: 0.3962 - val_binary_accuracy: 0.8606 - val_binary_crossentropy: 0.3962 - val_precision_4: 0.6884 - val_recall_4: 0.5352\n",
            "Epoch 67/80\n",
            "225/225 - 0s - loss: 0.3054 - binary_accuracy: 0.8721 - binary_crossentropy: 0.3054 - precision_4: 0.8026 - recall_4: 0.4986 - val_loss: 0.3811 - val_binary_accuracy: 0.8639 - val_binary_crossentropy: 0.3811 - val_precision_4: 0.7292 - val_recall_4: 0.4930\n",
            "Epoch 68/80\n",
            "225/225 - 0s - loss: 0.3066 - binary_accuracy: 0.8690 - binary_crossentropy: 0.3066 - precision_4: 0.7863 - recall_4: 0.4959 - val_loss: 0.3800 - val_binary_accuracy: 0.8650 - val_binary_crossentropy: 0.3800 - val_precision_4: 0.7393 - val_recall_4: 0.4873\n",
            "Epoch 69/80\n",
            "225/225 - 0s - loss: 0.3053 - binary_accuracy: 0.8694 - binary_crossentropy: 0.3053 - precision_4: 0.7894 - recall_4: 0.4953 - val_loss: 0.3804 - val_binary_accuracy: 0.8617 - val_binary_crossentropy: 0.3804 - val_precision_4: 0.7454 - val_recall_4: 0.4535\n",
            "Epoch 70/80\n",
            "225/225 - 0s - loss: 0.3029 - binary_accuracy: 0.8721 - binary_crossentropy: 0.3029 - precision_4: 0.7882 - recall_4: 0.5142 - val_loss: 0.3872 - val_binary_accuracy: 0.8672 - val_binary_crossentropy: 0.3872 - val_precision_4: 0.7437 - val_recall_4: 0.4986\n",
            "Epoch 71/80\n",
            "225/225 - 0s - loss: 0.3038 - binary_accuracy: 0.8706 - binary_crossentropy: 0.3038 - precision_4: 0.7887 - recall_4: 0.5034 - val_loss: 0.3812 - val_binary_accuracy: 0.8628 - val_binary_crossentropy: 0.3812 - val_precision_4: 0.7596 - val_recall_4: 0.4451\n",
            "Epoch 72/80\n",
            "225/225 - 0s - loss: 0.3011 - binary_accuracy: 0.8717 - binary_crossentropy: 0.3011 - precision_4: 0.7911 - recall_4: 0.5081 - val_loss: 0.3985 - val_binary_accuracy: 0.8594 - val_binary_crossentropy: 0.3985 - val_precision_4: 0.6977 - val_recall_4: 0.5070\n",
            "Epoch 73/80\n",
            "225/225 - 0s - loss: 0.3069 - binary_accuracy: 0.8703 - binary_crossentropy: 0.3069 - precision_4: 0.8073 - recall_4: 0.4824 - val_loss: 0.4057 - val_binary_accuracy: 0.8572 - val_binary_crossentropy: 0.4057 - val_precision_4: 0.6725 - val_recall_4: 0.5380\n",
            "Epoch 74/80\n",
            "225/225 - 0s - loss: 0.3031 - binary_accuracy: 0.8715 - binary_crossentropy: 0.3031 - precision_4: 0.7985 - recall_4: 0.4993 - val_loss: 0.3837 - val_binary_accuracy: 0.8589 - val_binary_crossentropy: 0.3837 - val_precision_4: 0.6689 - val_recall_4: 0.5634\n",
            "Epoch 75/80\n",
            "225/225 - 0s - loss: 0.2989 - binary_accuracy: 0.8717 - binary_crossentropy: 0.2989 - precision_4: 0.7840 - recall_4: 0.5163 - val_loss: 0.3862 - val_binary_accuracy: 0.8594 - val_binary_crossentropy: 0.3862 - val_precision_4: 0.6977 - val_recall_4: 0.5070\n",
            "Epoch 76/80\n",
            "225/225 - 0s - loss: 0.2992 - binary_accuracy: 0.8711 - binary_crossentropy: 0.2992 - precision_4: 0.7940 - recall_4: 0.5014 - val_loss: 0.4007 - val_binary_accuracy: 0.8567 - val_binary_crossentropy: 0.4007 - val_precision_4: 0.7366 - val_recall_4: 0.4254\n",
            "Epoch 77/80\n",
            "225/225 - 0s - loss: 0.3018 - binary_accuracy: 0.8717 - binary_crossentropy: 0.3018 - precision_4: 0.7881 - recall_4: 0.5115 - val_loss: 0.4087 - val_binary_accuracy: 0.8572 - val_binary_crossentropy: 0.4087 - val_precision_4: 0.7112 - val_recall_4: 0.4648\n",
            "Epoch 78/80\n",
            "225/225 - 0s - loss: 0.2933 - binary_accuracy: 0.8747 - binary_crossentropy: 0.2933 - precision_4: 0.7893 - recall_4: 0.5305 - val_loss: 0.4201 - val_binary_accuracy: 0.8550 - val_binary_crossentropy: 0.4201 - val_precision_4: 0.6836 - val_recall_4: 0.4930\n",
            "Epoch 79/80\n",
            "225/225 - 0s - loss: 0.3041 - binary_accuracy: 0.8710 - binary_crossentropy: 0.3041 - precision_4: 0.7983 - recall_4: 0.4959 - val_loss: 0.3997 - val_binary_accuracy: 0.8583 - val_binary_crossentropy: 0.3997 - val_precision_4: 0.7273 - val_recall_4: 0.4507\n",
            "Epoch 80/80\n",
            "225/225 - 0s - loss: 0.3034 - binary_accuracy: 0.8710 - binary_crossentropy: 0.3034 - precision_4: 0.7840 - recall_4: 0.5115 - val_loss: 0.3821 - val_binary_accuracy: 0.8567 - val_binary_crossentropy: 0.3821 - val_precision_4: 0.7299 - val_recall_4: 0.4338\n"
          ],
          "name": "stdout"
        },
        {
          "output_type": "execute_result",
          "data": {
            "text/plain": [
              "<tensorflow.python.keras.callbacks.History at 0x7fb7b9874310>"
            ]
          },
          "metadata": {
            "tags": []
          },
          "execution_count": 281
        }
      ]
    },
    {
      "cell_type": "code",
      "metadata": {
        "colab": {
          "base_uri": "https://localhost:8080/"
        },
        "id": "wLVnHYWvtvFM",
        "outputId": "94907ed6-08b9-4274-ee48-4d0a90b0c5cb"
      },
      "source": [
        "Train_F1= calculate_F1(0.7840,0.5115)\n",
        "\n",
        "print(\"Train F1: \"+ str(Train_F1) )"
      ],
      "execution_count": 309,
      "outputs": [
        {
          "output_type": "stream",
          "text": [
            "Train F1: 0.6190906985719798\n"
          ],
          "name": "stdout"
        }
      ]
    },
    {
      "cell_type": "code",
      "metadata": {
        "colab": {
          "base_uri": "https://localhost:8080/"
        },
        "id": "hIYNZU_FlGAi",
        "outputId": "4c980ea8-b84e-4104-83cf-f655a2060cce"
      },
      "source": [
        "loss, acc, binary_crossentropy, precision, recall= model_A.evaluate(X_test_numpy, y_test_numpy)\n",
        "print(\"Test Accuracy: \"+ str(acc))\n",
        "print(\"Test Precision: \" + str(precision))\n",
        "print('Test Recall: '+ str(recall))\n",
        "\n",
        "F1= calculate_F1(precision, recall)\n",
        "print(\"Test F1: \"+ str(F1))"
      ],
      "execution_count": 306,
      "outputs": [
        {
          "output_type": "stream",
          "text": [
            "57/57 [==============================] - 0s 1ms/step - loss: 0.3821 - binary_accuracy: 0.8567 - binary_crossentropy: 0.3821 - precision_4: 0.7299 - recall_4: 0.4338\n",
            "Test Accuracy: 0.8566666841506958\n",
            "Test Precision: 0.7298578023910522\n",
            "Test Recall: 0.4338028132915497\n",
            "F1: 0.5441696035992433\n"
          ],
          "name": "stdout"
        }
      ]
    },
    {
      "cell_type": "code",
      "metadata": {
        "id": "TOXEIfnsLhhK"
      },
      "source": [
        "#-------------------------------------------------\n",
        "from sklearn.metrics import classification_report\n",
        "b= np.array( [0.7] )\n",
        "print( np.round(b) )\n",
        "\n",
        "y_predicted= model_A.predict(X_test_numpy)\n",
        "y_predicted\n",
        "\n",
        "rounded_y_predicted= np.round(y_predicted)\n",
        "#print( classification_report(y_test_numpy, rounded_y_predicted) ) \n"
      ],
      "execution_count": 254,
      "outputs": []
    },
    {
      "cell_type": "markdown",
      "metadata": {
        "id": "I8owjPjlupER"
      },
      "source": [
        "Num Epochs: 80\n",
        "Test Accuracy: 85.6"
      ]
    },
    {
      "cell_type": "markdown",
      "metadata": {
        "id": "UHVxHcqFuofJ"
      },
      "source": [
        "## Model B"
      ]
    },
    {
      "cell_type": "code",
      "metadata": {
        "id": "WjhusPqpu4jF"
      },
      "source": [
        "model_B= Sequential()\n",
        "model_B.add(tf.keras.Input(shape=(10,)))\n",
        "model_B.add(layers.Dense(128, activation='relu'))\n",
        "model_B.add(layers.Dense(64, activation='relu',kernel_regularizer=regularizers.l2(0.01)))\n",
        "model_B.add(layers.Dense(32, activation='relu',kernel_regularizer=regularizers.l2(0.01)))\n",
        "model_B.add(layers.Dense(8, activation='sigmoid'))\n",
        "model_B.add(layers.Dense(1, activation='sigmoid'))\n"
      ],
      "execution_count": 245,
      "outputs": []
    },
    {
      "cell_type": "code",
      "metadata": {
        "id": "x2QSXk0Tvd86"
      },
      "source": [
        "model_B.compile(optimizer= optimizers.Adam(lr=0.01),\n",
        "              loss='binary_crossentropy',\n",
        "              metrics=[tf.keras.metrics.BinaryAccuracy(threshold=0.5), tf.keras.metrics.BinaryCrossentropy(), tf.keras.metrics.Precision(thresholds=0.5), tf.keras.metrics.Recall(thresholds=0.5)] )"
      ],
      "execution_count": 296,
      "outputs": []
    },
    {
      "cell_type": "code",
      "metadata": {
        "colab": {
          "base_uri": "https://localhost:8080/"
        },
        "id": "MtR8k_WGvfI4",
        "outputId": "85100d5f-1151-46f7-aa52-0e2c16b5e122"
      },
      "source": [
        "model_B.fit(x= X_train_numpy, y=y_train_numpy, batch_size=BATCH_SIZE, epochs=120, verbose=2, validation_data= (X_test_numpy,y_test_numpy))"
      ],
      "execution_count": 247,
      "outputs": [
        {
          "output_type": "stream",
          "text": [
            "Epoch 1/120\n",
            "225/225 - 2s - loss: 0.5720 - binary_accuracy: 0.7846 - binary_crossentropy: 0.5072 - precision_2: 0.2378 - recall_2: 0.0230 - val_loss: 0.4824 - val_binary_accuracy: 0.8028 - val_binary_crossentropy: 0.4690 - val_precision_2: 0.0000e+00 - val_recall_2: 0.0000e+00\n",
            "Epoch 2/120\n",
            "225/225 - 0s - loss: 0.4682 - binary_accuracy: 0.8090 - binary_crossentropy: 0.4553 - precision_2: 0.6312 - recall_2: 0.1646 - val_loss: 0.4529 - val_binary_accuracy: 0.8122 - val_binary_crossentropy: 0.4425 - val_precision_2: 0.7429 - val_recall_2: 0.0732\n",
            "Epoch 3/120\n",
            "225/225 - 0s - loss: 0.4472 - binary_accuracy: 0.8188 - binary_crossentropy: 0.4353 - precision_2: 0.6482 - recall_2: 0.2534 - val_loss: 0.4154 - val_binary_accuracy: 0.8389 - val_binary_crossentropy: 0.3998 - val_precision_2: 0.7044 - val_recall_2: 0.3155\n",
            "Epoch 4/120\n",
            "225/225 - 0s - loss: 0.4095 - binary_accuracy: 0.8403 - binary_crossentropy: 0.3923 - precision_2: 0.7063 - recall_2: 0.3780 - val_loss: 0.3821 - val_binary_accuracy: 0.8506 - val_binary_crossentropy: 0.3645 - val_precision_2: 0.7216 - val_recall_2: 0.3944\n",
            "Epoch 5/120\n",
            "225/225 - 0s - loss: 0.3993 - binary_accuracy: 0.8485 - binary_crossentropy: 0.3834 - precision_2: 0.7350 - recall_2: 0.4079 - val_loss: 0.4061 - val_binary_accuracy: 0.8367 - val_binary_crossentropy: 0.3911 - val_precision_2: 0.6055 - val_recall_2: 0.4930\n",
            "Epoch 6/120\n",
            "225/225 - 0s - loss: 0.3864 - binary_accuracy: 0.8485 - binary_crossentropy: 0.3723 - precision_2: 0.7300 - recall_2: 0.4140 - val_loss: 0.4006 - val_binary_accuracy: 0.8489 - val_binary_crossentropy: 0.3852 - val_precision_2: 0.8320 - val_recall_2: 0.2930\n",
            "Epoch 7/120\n",
            "225/225 - 0s - loss: 0.3836 - binary_accuracy: 0.8507 - binary_crossentropy: 0.3696 - precision_2: 0.7367 - recall_2: 0.4228 - val_loss: 0.3727 - val_binary_accuracy: 0.8533 - val_binary_crossentropy: 0.3590 - val_precision_2: 0.7198 - val_recall_2: 0.4197\n",
            "Epoch 8/120\n",
            "225/225 - 0s - loss: 0.3755 - binary_accuracy: 0.8503 - binary_crossentropy: 0.3628 - precision_2: 0.7282 - recall_2: 0.4302 - val_loss: 0.3916 - val_binary_accuracy: 0.8506 - val_binary_crossentropy: 0.3794 - val_precision_2: 0.6352 - val_recall_2: 0.5690\n",
            "Epoch 9/120\n",
            "225/225 - 0s - loss: 0.3689 - binary_accuracy: 0.8537 - binary_crossentropy: 0.3566 - precision_2: 0.7406 - recall_2: 0.4411 - val_loss: 0.3704 - val_binary_accuracy: 0.8522 - val_binary_crossentropy: 0.3593 - val_precision_2: 0.7572 - val_recall_2: 0.3690\n",
            "Epoch 10/120\n",
            "225/225 - 0s - loss: 0.3729 - binary_accuracy: 0.8506 - binary_crossentropy: 0.3617 - precision_2: 0.7227 - recall_2: 0.4397 - val_loss: 0.4141 - val_binary_accuracy: 0.8306 - val_binary_crossentropy: 0.4024 - val_precision_2: 0.5619 - val_recall_2: 0.6394\n",
            "Epoch 11/120\n",
            "225/225 - 0s - loss: 0.3747 - binary_accuracy: 0.8517 - binary_crossentropy: 0.3628 - precision_2: 0.7262 - recall_2: 0.4438 - val_loss: 0.4020 - val_binary_accuracy: 0.8511 - val_binary_crossentropy: 0.3889 - val_precision_2: 0.9065 - val_recall_2: 0.2732\n",
            "Epoch 12/120\n",
            "225/225 - 0s - loss: 0.3656 - binary_accuracy: 0.8537 - binary_crossentropy: 0.3543 - precision_2: 0.7401 - recall_2: 0.4417 - val_loss: 0.3577 - val_binary_accuracy: 0.8633 - val_binary_crossentropy: 0.3459 - val_precision_2: 0.7444 - val_recall_2: 0.4676\n",
            "Epoch 13/120\n",
            "225/225 - 0s - loss: 0.3642 - binary_accuracy: 0.8549 - binary_crossentropy: 0.3532 - precision_2: 0.7397 - recall_2: 0.4505 - val_loss: 0.3609 - val_binary_accuracy: 0.8611 - val_binary_crossentropy: 0.3512 - val_precision_2: 0.7612 - val_recall_2: 0.4310\n",
            "Epoch 14/120\n",
            "225/225 - 0s - loss: 0.3604 - binary_accuracy: 0.8539 - binary_crossentropy: 0.3499 - precision_2: 0.7325 - recall_2: 0.4526 - val_loss: 0.3586 - val_binary_accuracy: 0.8600 - val_binary_crossentropy: 0.3482 - val_precision_2: 0.7512 - val_recall_2: 0.4338\n",
            "Epoch 15/120\n",
            "225/225 - 0s - loss: 0.3667 - binary_accuracy: 0.8567 - binary_crossentropy: 0.3560 - precision_2: 0.7461 - recall_2: 0.4560 - val_loss: 0.3755 - val_binary_accuracy: 0.8544 - val_binary_crossentropy: 0.3645 - val_precision_2: 0.6643 - val_recall_2: 0.5296\n",
            "Epoch 16/120\n",
            "225/225 - 0s - loss: 0.3641 - binary_accuracy: 0.8540 - binary_crossentropy: 0.3533 - precision_2: 0.7333 - recall_2: 0.4526 - val_loss: 0.3741 - val_binary_accuracy: 0.8567 - val_binary_crossentropy: 0.3641 - val_precision_2: 0.8089 - val_recall_2: 0.3577\n",
            "Epoch 17/120\n",
            "225/225 - 0s - loss: 0.3618 - binary_accuracy: 0.8564 - binary_crossentropy: 0.3520 - precision_2: 0.7450 - recall_2: 0.4553 - val_loss: 0.3591 - val_binary_accuracy: 0.8589 - val_binary_crossentropy: 0.3495 - val_precision_2: 0.7078 - val_recall_2: 0.4845\n",
            "Epoch 18/120\n",
            "225/225 - 0s - loss: 0.3565 - binary_accuracy: 0.8596 - binary_crossentropy: 0.3466 - precision_2: 0.7547 - recall_2: 0.4668 - val_loss: 0.3733 - val_binary_accuracy: 0.8611 - val_binary_crossentropy: 0.3640 - val_precision_2: 0.6804 - val_recall_2: 0.5577\n",
            "Epoch 19/120\n",
            "225/225 - 0s - loss: 0.3581 - binary_accuracy: 0.8560 - binary_crossentropy: 0.3482 - precision_2: 0.7383 - recall_2: 0.4607 - val_loss: 0.3596 - val_binary_accuracy: 0.8561 - val_binary_crossentropy: 0.3486 - val_precision_2: 0.7051 - val_recall_2: 0.4648\n",
            "Epoch 20/120\n",
            "225/225 - 0s - loss: 0.3616 - binary_accuracy: 0.8568 - binary_crossentropy: 0.3517 - precision_2: 0.7432 - recall_2: 0.4607 - val_loss: 0.3856 - val_binary_accuracy: 0.8517 - val_binary_crossentropy: 0.3752 - val_precision_2: 0.8667 - val_recall_2: 0.2930\n",
            "Epoch 21/120\n",
            "225/225 - 0s - loss: 0.3568 - binary_accuracy: 0.8551 - binary_crossentropy: 0.3468 - precision_2: 0.7346 - recall_2: 0.4593 - val_loss: 0.3658 - val_binary_accuracy: 0.8578 - val_binary_crossentropy: 0.3559 - val_precision_2: 0.7106 - val_recall_2: 0.4704\n",
            "Epoch 22/120\n",
            "225/225 - 0s - loss: 0.3567 - binary_accuracy: 0.8572 - binary_crossentropy: 0.3472 - precision_2: 0.7430 - recall_2: 0.4641 - val_loss: 0.3660 - val_binary_accuracy: 0.8572 - val_binary_crossentropy: 0.3573 - val_precision_2: 0.6678 - val_recall_2: 0.5493\n",
            "Epoch 23/120\n",
            "225/225 - 0s - loss: 0.3567 - binary_accuracy: 0.8536 - binary_crossentropy: 0.3475 - precision_2: 0.7303 - recall_2: 0.4533 - val_loss: 0.3679 - val_binary_accuracy: 0.8622 - val_binary_crossentropy: 0.3590 - val_precision_2: 0.6826 - val_recall_2: 0.5634\n",
            "Epoch 24/120\n",
            "225/225 - 0s - loss: 0.3586 - binary_accuracy: 0.8574 - binary_crossentropy: 0.3492 - precision_2: 0.7411 - recall_2: 0.4675 - val_loss: 0.3664 - val_binary_accuracy: 0.8550 - val_binary_crossentropy: 0.3572 - val_precision_2: 0.6516 - val_recall_2: 0.5690\n",
            "Epoch 25/120\n",
            "225/225 - 0s - loss: 0.3555 - binary_accuracy: 0.8549 - binary_crossentropy: 0.3459 - precision_2: 0.7320 - recall_2: 0.4607 - val_loss: 0.3605 - val_binary_accuracy: 0.8539 - val_binary_crossentropy: 0.3511 - val_precision_2: 0.7300 - val_recall_2: 0.4113\n",
            "Epoch 26/120\n",
            "225/225 - 0s - loss: 0.3564 - binary_accuracy: 0.8579 - binary_crossentropy: 0.3477 - precision_2: 0.7412 - recall_2: 0.4715 - val_loss: 0.3558 - val_binary_accuracy: 0.8617 - val_binary_crossentropy: 0.3476 - val_precision_2: 0.7284 - val_recall_2: 0.4761\n",
            "Epoch 27/120\n",
            "225/225 - 0s - loss: 0.3601 - binary_accuracy: 0.8564 - binary_crossentropy: 0.3510 - precision_2: 0.7366 - recall_2: 0.4661 - val_loss: 0.3562 - val_binary_accuracy: 0.8611 - val_binary_crossentropy: 0.3464 - val_precision_2: 0.7143 - val_recall_2: 0.4930\n",
            "Epoch 28/120\n",
            "225/225 - 0s - loss: 0.3553 - binary_accuracy: 0.8572 - binary_crossentropy: 0.3462 - precision_2: 0.7403 - recall_2: 0.4675 - val_loss: 0.3678 - val_binary_accuracy: 0.8561 - val_binary_crossentropy: 0.3590 - val_precision_2: 0.6509 - val_recall_2: 0.5831\n",
            "Epoch 29/120\n",
            "225/225 - 0s - loss: 0.3615 - binary_accuracy: 0.8554 - binary_crossentropy: 0.3523 - precision_2: 0.7351 - recall_2: 0.4607 - val_loss: 0.3795 - val_binary_accuracy: 0.8511 - val_binary_crossentropy: 0.3702 - val_precision_2: 0.6322 - val_recall_2: 0.5859\n",
            "Epoch 30/120\n",
            "225/225 - 0s - loss: 0.3545 - binary_accuracy: 0.8557 - binary_crossentropy: 0.3453 - precision_2: 0.7404 - recall_2: 0.4560 - val_loss: 0.3560 - val_binary_accuracy: 0.8600 - val_binary_crossentropy: 0.3470 - val_precision_2: 0.7155 - val_recall_2: 0.4817\n",
            "Epoch 31/120\n",
            "225/225 - 0s - loss: 0.3515 - binary_accuracy: 0.8593 - binary_crossentropy: 0.3428 - precision_2: 0.7552 - recall_2: 0.4641 - val_loss: 0.3889 - val_binary_accuracy: 0.8450 - val_binary_crossentropy: 0.3796 - val_precision_2: 0.6124 - val_recall_2: 0.5831\n",
            "Epoch 32/120\n",
            "225/225 - 0s - loss: 0.3547 - binary_accuracy: 0.8567 - binary_crossentropy: 0.3461 - precision_2: 0.7377 - recall_2: 0.4668 - val_loss: 0.3589 - val_binary_accuracy: 0.8567 - val_binary_crossentropy: 0.3511 - val_precision_2: 0.6803 - val_recall_2: 0.5155\n",
            "Epoch 33/120\n",
            "225/225 - 0s - loss: 0.3555 - binary_accuracy: 0.8561 - binary_crossentropy: 0.3467 - precision_2: 0.7340 - recall_2: 0.4675 - val_loss: 0.3597 - val_binary_accuracy: 0.8550 - val_binary_crossentropy: 0.3516 - val_precision_2: 0.6958 - val_recall_2: 0.4704\n",
            "Epoch 34/120\n",
            "225/225 - 0s - loss: 0.3543 - binary_accuracy: 0.8579 - binary_crossentropy: 0.3456 - precision_2: 0.7412 - recall_2: 0.4715 - val_loss: 0.3556 - val_binary_accuracy: 0.8611 - val_binary_crossentropy: 0.3465 - val_precision_2: 0.8261 - val_recall_2: 0.3746\n",
            "Epoch 35/120\n",
            "225/225 - 0s - loss: 0.3537 - binary_accuracy: 0.8556 - binary_crossentropy: 0.3451 - precision_2: 0.7401 - recall_2: 0.4553 - val_loss: 0.3704 - val_binary_accuracy: 0.8583 - val_binary_crossentropy: 0.3614 - val_precision_2: 0.8788 - val_recall_2: 0.3268\n",
            "Epoch 36/120\n",
            "225/225 - 0s - loss: 0.3557 - binary_accuracy: 0.8565 - binary_crossentropy: 0.3473 - precision_2: 0.7379 - recall_2: 0.4654 - val_loss: 0.3470 - val_binary_accuracy: 0.8678 - val_binary_crossentropy: 0.3383 - val_precision_2: 0.8031 - val_recall_2: 0.4366\n",
            "Epoch 37/120\n",
            "225/225 - 0s - loss: 0.3549 - binary_accuracy: 0.8549 - binary_crossentropy: 0.3463 - precision_2: 0.7310 - recall_2: 0.4621 - val_loss: 0.3763 - val_binary_accuracy: 0.8544 - val_binary_crossentropy: 0.3677 - val_precision_2: 0.8496 - val_recall_2: 0.3183\n",
            "Epoch 38/120\n",
            "225/225 - 0s - loss: 0.3518 - binary_accuracy: 0.8578 - binary_crossentropy: 0.3433 - precision_2: 0.7451 - recall_2: 0.4654 - val_loss: 0.3504 - val_binary_accuracy: 0.8611 - val_binary_crossentropy: 0.3418 - val_precision_2: 0.7143 - val_recall_2: 0.4930\n",
            "Epoch 39/120\n",
            "225/225 - 0s - loss: 0.3546 - binary_accuracy: 0.8543 - binary_crossentropy: 0.3461 - precision_2: 0.7259 - recall_2: 0.4648 - val_loss: 0.3473 - val_binary_accuracy: 0.8678 - val_binary_crossentropy: 0.3383 - val_precision_2: 0.7489 - val_recall_2: 0.4958\n",
            "Epoch 40/120\n",
            "225/225 - 0s - loss: 0.3516 - binary_accuracy: 0.8574 - binary_crossentropy: 0.3429 - precision_2: 0.7459 - recall_2: 0.4614 - val_loss: 0.3610 - val_binary_accuracy: 0.8528 - val_binary_crossentropy: 0.3534 - val_precision_2: 0.6452 - val_recall_2: 0.5634\n",
            "Epoch 41/120\n",
            "225/225 - 0s - loss: 0.3506 - binary_accuracy: 0.8572 - binary_crossentropy: 0.3424 - precision_2: 0.7373 - recall_2: 0.4715 - val_loss: 0.3688 - val_binary_accuracy: 0.8522 - val_binary_crossentropy: 0.3614 - val_precision_2: 0.8112 - val_recall_2: 0.3268\n",
            "Epoch 42/120\n",
            "225/225 - 0s - loss: 0.3507 - binary_accuracy: 0.8562 - binary_crossentropy: 0.3428 - precision_2: 0.7368 - recall_2: 0.4648 - val_loss: 0.3584 - val_binary_accuracy: 0.8578 - val_binary_crossentropy: 0.3510 - val_precision_2: 0.7020 - val_recall_2: 0.4845\n",
            "Epoch 43/120\n",
            "225/225 - 0s - loss: 0.3510 - binary_accuracy: 0.8594 - binary_crossentropy: 0.3430 - precision_2: 0.7549 - recall_2: 0.4654 - val_loss: 0.3500 - val_binary_accuracy: 0.8650 - val_binary_crossentropy: 0.3423 - val_precision_2: 0.7617 - val_recall_2: 0.4592\n",
            "Epoch 44/120\n",
            "225/225 - 0s - loss: 0.3529 - binary_accuracy: 0.8551 - binary_crossentropy: 0.3450 - precision_2: 0.7325 - recall_2: 0.4621 - val_loss: 0.3498 - val_binary_accuracy: 0.8644 - val_binary_crossentropy: 0.3417 - val_precision_2: 0.7534 - val_recall_2: 0.4648\n",
            "Epoch 45/120\n",
            "225/225 - 0s - loss: 0.3534 - binary_accuracy: 0.8571 - binary_crossentropy: 0.3450 - precision_2: 0.7411 - recall_2: 0.4654 - val_loss: 0.3472 - val_binary_accuracy: 0.8633 - val_binary_crossentropy: 0.3391 - val_precision_2: 0.7489 - val_recall_2: 0.4620\n",
            "Epoch 46/120\n",
            "225/225 - 0s - loss: 0.3498 - binary_accuracy: 0.8587 - binary_crossentropy: 0.3419 - precision_2: 0.7481 - recall_2: 0.4688 - val_loss: 0.3474 - val_binary_accuracy: 0.8633 - val_binary_crossentropy: 0.3391 - val_precision_2: 0.7088 - val_recall_2: 0.5211\n",
            "Epoch 47/120\n",
            "225/225 - 0s - loss: 0.3533 - binary_accuracy: 0.8547 - binary_crossentropy: 0.3452 - precision_2: 0.7327 - recall_2: 0.4587 - val_loss: 0.3758 - val_binary_accuracy: 0.8572 - val_binary_crossentropy: 0.3674 - val_precision_2: 0.7450 - val_recall_2: 0.4197\n",
            "Epoch 48/120\n",
            "225/225 - 0s - loss: 0.3538 - binary_accuracy: 0.8562 - binary_crossentropy: 0.3455 - precision_2: 0.7343 - recall_2: 0.4682 - val_loss: 0.3868 - val_binary_accuracy: 0.8444 - val_binary_crossentropy: 0.3785 - val_precision_2: 0.5969 - val_recall_2: 0.6507\n",
            "Epoch 49/120\n",
            "225/225 - 0s - loss: 0.3472 - binary_accuracy: 0.8572 - binary_crossentropy: 0.3392 - precision_2: 0.7383 - recall_2: 0.4702 - val_loss: 0.3503 - val_binary_accuracy: 0.8556 - val_binary_crossentropy: 0.3427 - val_precision_2: 0.6863 - val_recall_2: 0.4930\n",
            "Epoch 50/120\n",
            "225/225 - 0s - loss: 0.3485 - binary_accuracy: 0.8579 - binary_crossentropy: 0.3405 - precision_2: 0.7475 - recall_2: 0.4634 - val_loss: 0.3502 - val_binary_accuracy: 0.8611 - val_binary_crossentropy: 0.3420 - val_precision_2: 0.6996 - val_recall_2: 0.5183\n",
            "Epoch 51/120\n",
            "225/225 - 0s - loss: 0.3482 - binary_accuracy: 0.8622 - binary_crossentropy: 0.3402 - precision_2: 0.7574 - recall_2: 0.4824 - val_loss: 0.3521 - val_binary_accuracy: 0.8572 - val_binary_crossentropy: 0.3437 - val_precision_2: 0.7130 - val_recall_2: 0.4620\n",
            "Epoch 52/120\n",
            "225/225 - 0s - loss: 0.3505 - binary_accuracy: 0.8561 - binary_crossentropy: 0.3429 - precision_2: 0.7350 - recall_2: 0.4661 - val_loss: 0.3712 - val_binary_accuracy: 0.8583 - val_binary_crossentropy: 0.3633 - val_precision_2: 0.8846 - val_recall_2: 0.3239\n",
            "Epoch 53/120\n",
            "225/225 - 0s - loss: 0.3513 - binary_accuracy: 0.8564 - binary_crossentropy: 0.3434 - precision_2: 0.7423 - recall_2: 0.4587 - val_loss: 0.3500 - val_binary_accuracy: 0.8644 - val_binary_crossentropy: 0.3421 - val_precision_2: 0.7846 - val_recall_2: 0.4310\n",
            "Epoch 54/120\n",
            "225/225 - 0s - loss: 0.3485 - binary_accuracy: 0.8590 - binary_crossentropy: 0.3406 - precision_2: 0.7444 - recall_2: 0.4756 - val_loss: 0.3515 - val_binary_accuracy: 0.8594 - val_binary_crossentropy: 0.3438 - val_precision_2: 0.6771 - val_recall_2: 0.5493\n",
            "Epoch 55/120\n",
            "225/225 - 0s - loss: 0.3492 - binary_accuracy: 0.8581 - binary_crossentropy: 0.3414 - precision_2: 0.7355 - recall_2: 0.4804 - val_loss: 0.3646 - val_binary_accuracy: 0.8639 - val_binary_crossentropy: 0.3567 - val_precision_2: 0.8090 - val_recall_2: 0.4056\n",
            "Epoch 56/120\n",
            "225/225 - 0s - loss: 0.3469 - binary_accuracy: 0.8600 - binary_crossentropy: 0.3393 - precision_2: 0.7489 - recall_2: 0.4770 - val_loss: 0.3541 - val_binary_accuracy: 0.8578 - val_binary_crossentropy: 0.3463 - val_precision_2: 0.6762 - val_recall_2: 0.5352\n",
            "Epoch 57/120\n",
            "225/225 - 0s - loss: 0.3446 - binary_accuracy: 0.8653 - binary_crossentropy: 0.3371 - precision_2: 0.7703 - recall_2: 0.4885 - val_loss: 0.3703 - val_binary_accuracy: 0.8489 - val_binary_crossentropy: 0.3630 - val_precision_2: 0.6231 - val_recall_2: 0.5915\n",
            "Epoch 58/120\n",
            "225/225 - 0s - loss: 0.3489 - binary_accuracy: 0.8574 - binary_crossentropy: 0.3415 - precision_2: 0.7411 - recall_2: 0.4675 - val_loss: 0.3601 - val_binary_accuracy: 0.8628 - val_binary_crossentropy: 0.3522 - val_precision_2: 0.7700 - val_recall_2: 0.4338\n",
            "Epoch 59/120\n",
            "225/225 - 0s - loss: 0.3495 - binary_accuracy: 0.8594 - binary_crossentropy: 0.3419 - precision_2: 0.7549 - recall_2: 0.4654 - val_loss: 0.3844 - val_binary_accuracy: 0.8478 - val_binary_crossentropy: 0.3768 - val_precision_2: 0.6080 - val_recall_2: 0.6423\n",
            "Epoch 60/120\n",
            "225/225 - 0s - loss: 0.3472 - binary_accuracy: 0.8599 - binary_crossentropy: 0.3394 - precision_2: 0.7508 - recall_2: 0.4736 - val_loss: 0.3514 - val_binary_accuracy: 0.8656 - val_binary_crossentropy: 0.3446 - val_precision_2: 0.7557 - val_recall_2: 0.4704\n",
            "Epoch 61/120\n",
            "225/225 - 0s - loss: 0.3461 - binary_accuracy: 0.8599 - binary_crossentropy: 0.3386 - precision_2: 0.7535 - recall_2: 0.4702 - val_loss: 0.3573 - val_binary_accuracy: 0.8583 - val_binary_crossentropy: 0.3500 - val_precision_2: 0.6689 - val_recall_2: 0.5577\n",
            "Epoch 62/120\n",
            "225/225 - 0s - loss: 0.3503 - binary_accuracy: 0.8571 - binary_crossentropy: 0.3429 - precision_2: 0.7321 - recall_2: 0.4776 - val_loss: 0.3546 - val_binary_accuracy: 0.8600 - val_binary_crossentropy: 0.3471 - val_precision_2: 0.7289 - val_recall_2: 0.4620\n",
            "Epoch 63/120\n",
            "225/225 - 0s - loss: 0.3481 - binary_accuracy: 0.8600 - binary_crossentropy: 0.3403 - precision_2: 0.7516 - recall_2: 0.4736 - val_loss: 0.3532 - val_binary_accuracy: 0.8600 - val_binary_crossentropy: 0.3460 - val_precision_2: 0.6914 - val_recall_2: 0.5239\n",
            "Epoch 64/120\n",
            "225/225 - 0s - loss: 0.3478 - binary_accuracy: 0.8571 - binary_crossentropy: 0.3404 - precision_2: 0.7365 - recall_2: 0.4715 - val_loss: 0.3610 - val_binary_accuracy: 0.8583 - val_binary_crossentropy: 0.3536 - val_precision_2: 0.8247 - val_recall_2: 0.3577\n",
            "Epoch 65/120\n",
            "225/225 - 0s - loss: 0.3481 - binary_accuracy: 0.8576 - binary_crossentropy: 0.3406 - precision_2: 0.7417 - recall_2: 0.4688 - val_loss: 0.3550 - val_binary_accuracy: 0.8583 - val_binary_crossentropy: 0.3482 - val_precision_2: 0.7155 - val_recall_2: 0.4676\n",
            "Epoch 66/120\n",
            "225/225 - 0s - loss: 0.3482 - binary_accuracy: 0.8614 - binary_crossentropy: 0.3406 - precision_2: 0.7516 - recall_2: 0.4837 - val_loss: 0.3505 - val_binary_accuracy: 0.8628 - val_binary_crossentropy: 0.3433 - val_precision_2: 0.7213 - val_recall_2: 0.4958\n",
            "Epoch 67/120\n",
            "225/225 - 0s - loss: 0.3527 - binary_accuracy: 0.8586 - binary_crossentropy: 0.3451 - precision_2: 0.7452 - recall_2: 0.4715 - val_loss: 0.3811 - val_binary_accuracy: 0.8506 - val_binary_crossentropy: 0.3737 - val_precision_2: 0.6201 - val_recall_2: 0.6254\n",
            "Epoch 68/120\n",
            "225/225 - 0s - loss: 0.3502 - binary_accuracy: 0.8608 - binary_crossentropy: 0.3422 - precision_2: 0.7489 - recall_2: 0.4831 - val_loss: 0.3485 - val_binary_accuracy: 0.8622 - val_binary_crossentropy: 0.3408 - val_precision_2: 0.6945 - val_recall_2: 0.5380\n",
            "Epoch 69/120\n",
            "225/225 - 0s - loss: 0.3457 - binary_accuracy: 0.8618 - binary_crossentropy: 0.3382 - precision_2: 0.7545 - recall_2: 0.4831 - val_loss: 0.4086 - val_binary_accuracy: 0.8383 - val_binary_crossentropy: 0.4017 - val_precision_2: 0.5780 - val_recall_2: 0.6676\n",
            "Epoch 70/120\n",
            "225/225 - 0s - loss: 0.3475 - binary_accuracy: 0.8571 - binary_crossentropy: 0.3397 - precision_2: 0.7370 - recall_2: 0.4709 - val_loss: 0.3630 - val_binary_accuracy: 0.8572 - val_binary_crossentropy: 0.3553 - val_precision_2: 0.8500 - val_recall_2: 0.3352\n",
            "Epoch 71/120\n",
            "225/225 - 0s - loss: 0.3457 - binary_accuracy: 0.8597 - binary_crossentropy: 0.3380 - precision_2: 0.7555 - recall_2: 0.4668 - val_loss: 0.4122 - val_binary_accuracy: 0.8267 - val_binary_crossentropy: 0.4055 - val_precision_2: 0.5492 - val_recall_2: 0.6761\n",
            "Epoch 72/120\n",
            "225/225 - 0s - loss: 0.3522 - binary_accuracy: 0.8585 - binary_crossentropy: 0.3443 - precision_2: 0.7449 - recall_2: 0.4709 - val_loss: 0.3612 - val_binary_accuracy: 0.8556 - val_binary_crossentropy: 0.3532 - val_precision_2: 0.6667 - val_recall_2: 0.5352\n",
            "Epoch 73/120\n",
            "225/225 - 0s - loss: 0.3483 - binary_accuracy: 0.8561 - binary_crossentropy: 0.3404 - precision_2: 0.7331 - recall_2: 0.4688 - val_loss: 0.3536 - val_binary_accuracy: 0.8611 - val_binary_crossentropy: 0.3461 - val_precision_2: 0.8221 - val_recall_2: 0.3775\n",
            "Epoch 74/120\n",
            "225/225 - 0s - loss: 0.3451 - binary_accuracy: 0.8607 - binary_crossentropy: 0.3371 - precision_2: 0.7607 - recall_2: 0.4675 - val_loss: 0.3510 - val_binary_accuracy: 0.8594 - val_binary_crossentropy: 0.3437 - val_precision_2: 0.6917 - val_recall_2: 0.5183\n",
            "Epoch 75/120\n",
            "225/225 - 0s - loss: 0.3473 - binary_accuracy: 0.8610 - binary_crossentropy: 0.3395 - precision_2: 0.7573 - recall_2: 0.4736 - val_loss: 0.3776 - val_binary_accuracy: 0.8561 - val_binary_crossentropy: 0.3695 - val_precision_2: 0.8582 - val_recall_2: 0.3239\n",
            "Epoch 76/120\n",
            "225/225 - 0s - loss: 0.3489 - binary_accuracy: 0.8607 - binary_crossentropy: 0.3412 - precision_2: 0.7540 - recall_2: 0.4756 - val_loss: 0.3921 - val_binary_accuracy: 0.8550 - val_binary_crossentropy: 0.3827 - val_precision_2: 0.8730 - val_recall_2: 0.3099\n",
            "Epoch 77/120\n",
            "225/225 - 0s - loss: 0.3501 - binary_accuracy: 0.8571 - binary_crossentropy: 0.3419 - precision_2: 0.7370 - recall_2: 0.4709 - val_loss: 0.3524 - val_binary_accuracy: 0.8572 - val_binary_crossentropy: 0.3451 - val_precision_2: 0.6725 - val_recall_2: 0.5380\n",
            "Epoch 78/120\n",
            "225/225 - 0s - loss: 0.3457 - binary_accuracy: 0.8617 - binary_crossentropy: 0.3378 - precision_2: 0.7559 - recall_2: 0.4804 - val_loss: 0.3550 - val_binary_accuracy: 0.8606 - val_binary_crossentropy: 0.3471 - val_precision_2: 0.7016 - val_recall_2: 0.5099\n",
            "Epoch 79/120\n",
            "225/225 - 0s - loss: 0.3471 - binary_accuracy: 0.8578 - binary_crossentropy: 0.3392 - precision_2: 0.7446 - recall_2: 0.4661 - val_loss: 0.3779 - val_binary_accuracy: 0.8472 - val_binary_crossentropy: 0.3699 - val_precision_2: 0.6070 - val_recall_2: 0.6394\n",
            "Epoch 80/120\n",
            "225/225 - 0s - loss: 0.3534 - binary_accuracy: 0.8576 - binary_crossentropy: 0.3455 - precision_2: 0.7381 - recall_2: 0.4736 - val_loss: 0.3572 - val_binary_accuracy: 0.8594 - val_binary_crossentropy: 0.3492 - val_precision_2: 0.6723 - val_recall_2: 0.5606\n",
            "Epoch 81/120\n",
            "225/225 - 0s - loss: 0.3454 - binary_accuracy: 0.8626 - binary_crossentropy: 0.3371 - precision_2: 0.7621 - recall_2: 0.4797 - val_loss: 0.3478 - val_binary_accuracy: 0.8628 - val_binary_crossentropy: 0.3392 - val_precision_2: 0.7160 - val_recall_2: 0.5042\n",
            "Epoch 82/120\n",
            "225/225 - 0s - loss: 0.3469 - binary_accuracy: 0.8610 - binary_crossentropy: 0.3387 - precision_2: 0.7497 - recall_2: 0.4831 - val_loss: 0.3486 - val_binary_accuracy: 0.8661 - val_binary_crossentropy: 0.3413 - val_precision_2: 0.7689 - val_recall_2: 0.4592\n",
            "Epoch 83/120\n",
            "225/225 - 0s - loss: 0.3489 - binary_accuracy: 0.8612 - binary_crossentropy: 0.3410 - precision_2: 0.7562 - recall_2: 0.4770 - val_loss: 0.3515 - val_binary_accuracy: 0.8567 - val_binary_crossentropy: 0.3436 - val_precision_2: 0.6580 - val_recall_2: 0.5690\n",
            "Epoch 84/120\n",
            "225/225 - 0s - loss: 0.3471 - binary_accuracy: 0.8592 - binary_crossentropy: 0.3393 - precision_2: 0.7426 - recall_2: 0.4790 - val_loss: 0.3489 - val_binary_accuracy: 0.8650 - val_binary_crossentropy: 0.3417 - val_precision_2: 0.7333 - val_recall_2: 0.4958\n",
            "Epoch 85/120\n",
            "225/225 - 0s - loss: 0.3464 - binary_accuracy: 0.8578 - binary_crossentropy: 0.3386 - precision_2: 0.7441 - recall_2: 0.4668 - val_loss: 0.3470 - val_binary_accuracy: 0.8650 - val_binary_crossentropy: 0.3388 - val_precision_2: 0.7718 - val_recall_2: 0.4479\n",
            "Epoch 86/120\n",
            "225/225 - 0s - loss: 0.3453 - binary_accuracy: 0.8600 - binary_crossentropy: 0.3374 - precision_2: 0.7555 - recall_2: 0.4688 - val_loss: 0.3610 - val_binary_accuracy: 0.8606 - val_binary_crossentropy: 0.3528 - val_precision_2: 0.8023 - val_recall_2: 0.3887\n",
            "Epoch 87/120\n",
            "225/225 - 0s - loss: 0.3449 - binary_accuracy: 0.8604 - binary_crossentropy: 0.3374 - precision_2: 0.7530 - recall_2: 0.4749 - val_loss: 0.3522 - val_binary_accuracy: 0.8606 - val_binary_crossentropy: 0.3445 - val_precision_2: 0.7955 - val_recall_2: 0.3944\n",
            "Epoch 88/120\n",
            "225/225 - 0s - loss: 0.3449 - binary_accuracy: 0.8600 - binary_crossentropy: 0.3373 - precision_2: 0.7479 - recall_2: 0.4783 - val_loss: 0.3493 - val_binary_accuracy: 0.8606 - val_binary_crossentropy: 0.3425 - val_precision_2: 0.8059 - val_recall_2: 0.3859\n",
            "Epoch 89/120\n",
            "225/225 - 0s - loss: 0.3459 - binary_accuracy: 0.8622 - binary_crossentropy: 0.3381 - precision_2: 0.7558 - recall_2: 0.4844 - val_loss: 0.3637 - val_binary_accuracy: 0.8650 - val_binary_crossentropy: 0.3549 - val_precision_2: 0.8333 - val_recall_2: 0.3944\n",
            "Epoch 90/120\n",
            "225/225 - 0s - loss: 0.3457 - binary_accuracy: 0.8564 - binary_crossentropy: 0.3378 - precision_2: 0.7312 - recall_2: 0.4736 - val_loss: 0.3513 - val_binary_accuracy: 0.8572 - val_binary_crossentropy: 0.3432 - val_precision_2: 0.7450 - val_recall_2: 0.4197\n",
            "Epoch 91/120\n",
            "225/225 - 0s - loss: 0.3483 - binary_accuracy: 0.8578 - binary_crossentropy: 0.3406 - precision_2: 0.7415 - recall_2: 0.4702 - val_loss: 0.3489 - val_binary_accuracy: 0.8617 - val_binary_crossentropy: 0.3420 - val_precision_2: 0.8118 - val_recall_2: 0.3887\n",
            "Epoch 92/120\n",
            "225/225 - 0s - loss: 0.3447 - binary_accuracy: 0.8596 - binary_crossentropy: 0.3370 - precision_2: 0.7530 - recall_2: 0.4688 - val_loss: 0.3442 - val_binary_accuracy: 0.8689 - val_binary_crossentropy: 0.3369 - val_precision_2: 0.7847 - val_recall_2: 0.4620\n",
            "Epoch 93/120\n",
            "225/225 - 0s - loss: 0.3448 - binary_accuracy: 0.8601 - binary_crossentropy: 0.3372 - precision_2: 0.7487 - recall_2: 0.4783 - val_loss: 0.3901 - val_binary_accuracy: 0.8589 - val_binary_crossentropy: 0.3820 - val_precision_2: 0.8686 - val_recall_2: 0.3352\n",
            "Epoch 94/120\n",
            "225/225 - 0s - loss: 0.3464 - binary_accuracy: 0.8586 - binary_crossentropy: 0.3387 - precision_2: 0.7447 - recall_2: 0.4722 - val_loss: 0.3575 - val_binary_accuracy: 0.8589 - val_binary_crossentropy: 0.3505 - val_precision_2: 0.8176 - val_recall_2: 0.3662\n",
            "Epoch 95/120\n",
            "225/225 - 0s - loss: 0.3476 - binary_accuracy: 0.8583 - binary_crossentropy: 0.3402 - precision_2: 0.7457 - recall_2: 0.4688 - val_loss: 0.3495 - val_binary_accuracy: 0.8611 - val_binary_crossentropy: 0.3419 - val_precision_2: 0.6733 - val_recall_2: 0.5746\n",
            "Epoch 96/120\n",
            "225/225 - 0s - loss: 0.3457 - binary_accuracy: 0.8592 - binary_crossentropy: 0.3380 - precision_2: 0.7406 - recall_2: 0.4817 - val_loss: 0.3450 - val_binary_accuracy: 0.8617 - val_binary_crossentropy: 0.3376 - val_precision_2: 0.7190 - val_recall_2: 0.4901\n",
            "Epoch 97/120\n",
            "225/225 - 0s - loss: 0.3460 - binary_accuracy: 0.8574 - binary_crossentropy: 0.3384 - precision_2: 0.7351 - recall_2: 0.4756 - val_loss: 0.3481 - val_binary_accuracy: 0.8644 - val_binary_crossentropy: 0.3402 - val_precision_2: 0.7558 - val_recall_2: 0.4620\n",
            "Epoch 98/120\n",
            "225/225 - 0s - loss: 0.3476 - binary_accuracy: 0.8600 - binary_crossentropy: 0.3396 - precision_2: 0.7468 - recall_2: 0.4797 - val_loss: 0.3498 - val_binary_accuracy: 0.8622 - val_binary_crossentropy: 0.3418 - val_precision_2: 0.7801 - val_recall_2: 0.4197\n",
            "Epoch 99/120\n",
            "225/225 - 0s - loss: 0.3450 - binary_accuracy: 0.8614 - binary_crossentropy: 0.3374 - precision_2: 0.7559 - recall_2: 0.4783 - val_loss: 0.3542 - val_binary_accuracy: 0.8561 - val_binary_crossentropy: 0.3463 - val_precision_2: 0.6633 - val_recall_2: 0.5493\n",
            "Epoch 100/120\n",
            "225/225 - 0s - loss: 0.3486 - binary_accuracy: 0.8587 - binary_crossentropy: 0.3407 - precision_2: 0.7423 - recall_2: 0.4763 - val_loss: 0.3539 - val_binary_accuracy: 0.8583 - val_binary_crossentropy: 0.3463 - val_precision_2: 0.6984 - val_recall_2: 0.4958\n",
            "Epoch 101/120\n",
            "225/225 - 0s - loss: 0.3474 - binary_accuracy: 0.8606 - binary_crossentropy: 0.3394 - precision_2: 0.7474 - recall_2: 0.4831 - val_loss: 0.3520 - val_binary_accuracy: 0.8611 - val_binary_crossentropy: 0.3445 - val_precision_2: 0.7561 - val_recall_2: 0.4366\n",
            "Epoch 102/120\n",
            "225/225 - 0s - loss: 0.3440 - binary_accuracy: 0.8612 - binary_crossentropy: 0.3361 - precision_2: 0.7590 - recall_2: 0.4736 - val_loss: 0.3456 - val_binary_accuracy: 0.8694 - val_binary_crossentropy: 0.3378 - val_precision_2: 0.8000 - val_recall_2: 0.4507\n",
            "Epoch 103/120\n",
            "225/225 - 0s - loss: 0.3458 - binary_accuracy: 0.8596 - binary_crossentropy: 0.3381 - precision_2: 0.7460 - recall_2: 0.4776 - val_loss: 0.3520 - val_binary_accuracy: 0.8617 - val_binary_crossentropy: 0.3439 - val_precision_2: 0.8118 - val_recall_2: 0.3887\n",
            "Epoch 104/120\n",
            "225/225 - 0s - loss: 0.3454 - binary_accuracy: 0.8596 - binary_crossentropy: 0.3371 - precision_2: 0.7492 - recall_2: 0.4736 - val_loss: 0.3520 - val_binary_accuracy: 0.8567 - val_binary_crossentropy: 0.3448 - val_precision_2: 0.6714 - val_recall_2: 0.5352\n",
            "Epoch 105/120\n",
            "225/225 - 0s - loss: 0.3445 - binary_accuracy: 0.8603 - binary_crossentropy: 0.3368 - precision_2: 0.7505 - recall_2: 0.4770 - val_loss: 0.3553 - val_binary_accuracy: 0.8611 - val_binary_crossentropy: 0.3478 - val_precision_2: 0.8302 - val_recall_2: 0.3718\n",
            "Epoch 106/120\n",
            "225/225 - 0s - loss: 0.3457 - binary_accuracy: 0.8589 - binary_crossentropy: 0.3381 - precision_2: 0.7421 - recall_2: 0.4776 - val_loss: 0.3445 - val_binary_accuracy: 0.8683 - val_binary_crossentropy: 0.3369 - val_precision_2: 0.7950 - val_recall_2: 0.4479\n",
            "Epoch 107/120\n",
            "225/225 - 0s - loss: 0.3451 - binary_accuracy: 0.8612 - binary_crossentropy: 0.3373 - precision_2: 0.7562 - recall_2: 0.4770 - val_loss: 0.3526 - val_binary_accuracy: 0.8617 - val_binary_crossentropy: 0.3442 - val_precision_2: 0.6828 - val_recall_2: 0.5577\n",
            "Epoch 108/120\n",
            "225/225 - 0s - loss: 0.3453 - binary_accuracy: 0.8599 - binary_crossentropy: 0.3372 - precision_2: 0.7503 - recall_2: 0.4743 - val_loss: 0.3504 - val_binary_accuracy: 0.8600 - val_binary_crossentropy: 0.3427 - val_precision_2: 0.6914 - val_recall_2: 0.5239\n",
            "Epoch 109/120\n",
            "225/225 - 0s - loss: 0.3438 - binary_accuracy: 0.8589 - binary_crossentropy: 0.3361 - precision_2: 0.7447 - recall_2: 0.4743 - val_loss: 0.3468 - val_binary_accuracy: 0.8644 - val_binary_crossentropy: 0.3393 - val_precision_2: 0.7382 - val_recall_2: 0.4845\n",
            "Epoch 110/120\n",
            "225/225 - 0s - loss: 0.3415 - binary_accuracy: 0.8615 - binary_crossentropy: 0.3337 - precision_2: 0.7518 - recall_2: 0.4844 - val_loss: 0.3491 - val_binary_accuracy: 0.8644 - val_binary_crossentropy: 0.3421 - val_precision_2: 0.7606 - val_recall_2: 0.4563\n",
            "Epoch 111/120\n",
            "225/225 - 0s - loss: 0.3424 - binary_accuracy: 0.8610 - binary_crossentropy: 0.3351 - precision_2: 0.7513 - recall_2: 0.4810 - val_loss: 0.3463 - val_binary_accuracy: 0.8611 - val_binary_crossentropy: 0.3392 - val_precision_2: 0.7512 - val_recall_2: 0.4423\n",
            "Epoch 112/120\n",
            "225/225 - 0s - loss: 0.3448 - binary_accuracy: 0.8607 - binary_crossentropy: 0.3373 - precision_2: 0.7513 - recall_2: 0.4790 - val_loss: 0.3587 - val_binary_accuracy: 0.8561 - val_binary_crossentropy: 0.3512 - val_precision_2: 0.6589 - val_recall_2: 0.5606\n",
            "Epoch 113/120\n",
            "225/225 - 0s - loss: 0.3435 - binary_accuracy: 0.8619 - binary_crossentropy: 0.3359 - precision_2: 0.7564 - recall_2: 0.4817 - val_loss: 0.3528 - val_binary_accuracy: 0.8589 - val_binary_crossentropy: 0.3449 - val_precision_2: 0.6784 - val_recall_2: 0.5408\n",
            "Epoch 114/120\n",
            "225/225 - 0s - loss: 0.3425 - binary_accuracy: 0.8597 - binary_crossentropy: 0.3350 - precision_2: 0.7453 - recall_2: 0.4797 - val_loss: 0.3496 - val_binary_accuracy: 0.8622 - val_binary_crossentropy: 0.3421 - val_precision_2: 0.7220 - val_recall_2: 0.4901\n",
            "Epoch 115/120\n",
            "225/225 - 0s - loss: 0.3453 - binary_accuracy: 0.8578 - binary_crossentropy: 0.3378 - precision_2: 0.7359 - recall_2: 0.4776 - val_loss: 0.3634 - val_binary_accuracy: 0.8522 - val_binary_crossentropy: 0.3560 - val_precision_2: 0.6305 - val_recall_2: 0.6056\n",
            "Epoch 116/120\n",
            "225/225 - 0s - loss: 0.3462 - binary_accuracy: 0.8565 - binary_crossentropy: 0.3388 - precision_2: 0.7400 - recall_2: 0.4627 - val_loss: 0.3551 - val_binary_accuracy: 0.8572 - val_binary_crossentropy: 0.3474 - val_precision_2: 0.6623 - val_recall_2: 0.5634\n",
            "Epoch 117/120\n",
            "225/225 - 0s - loss: 0.3461 - binary_accuracy: 0.8607 - binary_crossentropy: 0.3382 - precision_2: 0.7446 - recall_2: 0.4878 - val_loss: 0.3467 - val_binary_accuracy: 0.8589 - val_binary_crossentropy: 0.3390 - val_precision_2: 0.7463 - val_recall_2: 0.4310\n",
            "Epoch 118/120\n",
            "225/225 - 0s - loss: 0.3420 - binary_accuracy: 0.8603 - binary_crossentropy: 0.3341 - precision_2: 0.7521 - recall_2: 0.4749 - val_loss: 0.3495 - val_binary_accuracy: 0.8617 - val_binary_crossentropy: 0.3428 - val_precision_2: 0.7038 - val_recall_2: 0.5155\n",
            "Epoch 119/120\n",
            "225/225 - 0s - loss: 0.3411 - binary_accuracy: 0.8642 - binary_crossentropy: 0.3336 - precision_2: 0.7672 - recall_2: 0.4844 - val_loss: 0.3619 - val_binary_accuracy: 0.8528 - val_binary_crossentropy: 0.3546 - val_precision_2: 0.6406 - val_recall_2: 0.5775\n",
            "Epoch 120/120\n",
            "225/225 - 0s - loss: 0.3441 - binary_accuracy: 0.8629 - binary_crossentropy: 0.3365 - precision_2: 0.7604 - recall_2: 0.4837 - val_loss: 0.3520 - val_binary_accuracy: 0.8600 - val_binary_crossentropy: 0.3448 - val_precision_2: 0.7977 - val_recall_2: 0.3887\n"
          ],
          "name": "stdout"
        },
        {
          "output_type": "execute_result",
          "data": {
            "text/plain": [
              "<tensorflow.python.keras.callbacks.History at 0x7fb7c7069690>"
            ]
          },
          "metadata": {
            "tags": []
          },
          "execution_count": 247
        }
      ]
    },
    {
      "cell_type": "code",
      "metadata": {
        "colab": {
          "base_uri": "https://localhost:8080/"
        },
        "id": "BinxiPIPvls7",
        "outputId": "b45034fb-cb2c-48e8-aee4-cae596ad1e81"
      },
      "source": [
        "Train_F1= calculate_F1(0.7604,0.4837)\n",
        "\n",
        "print(\"Train F1: \"+ str(Train_F1) )"
      ],
      "execution_count": 312,
      "outputs": [
        {
          "output_type": "stream",
          "text": [
            "Train F1: 0.5912796077485734\n"
          ],
          "name": "stdout"
        }
      ]
    },
    {
      "cell_type": "code",
      "metadata": {
        "colab": {
          "base_uri": "https://localhost:8080/"
        },
        "id": "0DV8t-bVljvt",
        "outputId": "c1a0aedb-0080-4427-953c-96fc614c34e2"
      },
      "source": [
        "loss, acc, binary_crossentropy, precision, recall= model_B.evaluate(X_test_numpy, y_test_numpy)\n",
        "print(\"Test Accuracy: \"+ str(acc))\n",
        "print(\"Test Precision: \" + str(precision))\n",
        "print('Test Recall: '+ str(recall))\n",
        "F1= calculate_F1(precision, recall)\n",
        "print(\"F1: \"+ str(F1))"
      ],
      "execution_count": 310,
      "outputs": [
        {
          "output_type": "stream",
          "text": [
            "57/57 [==============================] - 0s 1ms/step - loss: 0.3520 - binary_accuracy: 0.8600 - binary_crossentropy: 0.3448 - precision_5: 0.7977 - recall_5: 0.3887\n",
            "Test Accuracy: 0.8600000143051147\n",
            "Test Precision: 0.7976878881454468\n",
            "Test Recall: 0.3887324035167694\n",
            "F1: 0.5227272867704456\n"
          ],
          "name": "stdout"
        }
      ]
    },
    {
      "cell_type": "markdown",
      "metadata": {
        "id": "go4io-_DDAjY"
      },
      "source": [
        "Num Epochs: 120\n",
        "\n",
        "Best Test Accuracy: 0.86"
      ]
    },
    {
      "cell_type": "markdown",
      "metadata": {
        "id": "tsBINeOHDUe8"
      },
      "source": [
        "## Model C"
      ]
    },
    {
      "cell_type": "code",
      "metadata": {
        "id": "KG8oyNnFDaam"
      },
      "source": [
        "model_C= Sequential()\n",
        "model_C.add(tf.keras.Input(shape=(10,)))\n",
        "model_C.add(layers.Dense(512, activation='relu'))\n",
        "model_C.add(layers.Dense(256, activation='relu'))\n",
        "model_C.add(layers.Dense(32, activation='relu',kernel_regularizer=regularizers.l2(0.01)))\n",
        "model_C.add(layers.Dense(1, activation='sigmoid'))"
      ],
      "execution_count": 300,
      "outputs": []
    },
    {
      "cell_type": "code",
      "metadata": {
        "id": "Krriz18XEsIQ"
      },
      "source": [
        "model_C.compile(optimizer= optimizers.Adam(lr=0.01),\n",
        "              loss='binary_crossentropy',\n",
        "              metrics=[tf.keras.metrics.BinaryAccuracy(threshold=0.5), tf.keras.metrics.BinaryCrossentropy(), tf.keras.metrics.Precision(thresholds=0.5), tf.keras.metrics.Recall(thresholds=0.5)] )"
      ],
      "execution_count": 301,
      "outputs": []
    },
    {
      "cell_type": "code",
      "metadata": {
        "colab": {
          "base_uri": "https://localhost:8080/"
        },
        "id": "btXiGpk6HKYZ",
        "outputId": "f75d3067-8d71-4f96-8c8c-9d7c64626841"
      },
      "source": [
        "model_C.fit(x= X_train_numpy, y=y_train_numpy, batch_size=BATCH_SIZE, epochs=300, verbose=2, validation_data= (X_test_numpy,y_test_numpy))"
      ],
      "execution_count": 302,
      "outputs": [
        {
          "output_type": "stream",
          "text": [
            "Epoch 1/300\n",
            "225/225 - 2s - loss: 0.4886 - binary_accuracy: 0.7918 - binary_crossentropy: 0.4679 - precision_6: 0.0741 - recall_6: 0.0014 - val_loss: 0.4403 - val_binary_accuracy: 0.8122 - val_binary_crossentropy: 0.4360 - val_precision_6: 0.7576 - val_recall_6: 0.0704\n",
            "Epoch 2/300\n",
            "225/225 - 1s - loss: 0.4260 - binary_accuracy: 0.8228 - binary_crossentropy: 0.4207 - precision_6: 0.6748 - recall_6: 0.2615 - val_loss: 0.3878 - val_binary_accuracy: 0.8461 - val_binary_crossentropy: 0.3812 - val_precision_6: 0.8750 - val_recall_6: 0.2563\n",
            "Epoch 3/300\n",
            "225/225 - 1s - loss: 0.3864 - binary_accuracy: 0.8431 - binary_crossentropy: 0.3793 - precision_6: 0.7247 - recall_6: 0.3780 - val_loss: 0.4009 - val_binary_accuracy: 0.8578 - val_binary_crossentropy: 0.3937 - val_precision_6: 0.7647 - val_recall_6: 0.4028\n",
            "Epoch 4/300\n",
            "225/225 - 1s - loss: 0.3731 - binary_accuracy: 0.8449 - binary_crossentropy: 0.3671 - precision_6: 0.7186 - recall_6: 0.3997 - val_loss: 0.3655 - val_binary_accuracy: 0.8561 - val_binary_crossentropy: 0.3600 - val_precision_6: 0.7667 - val_recall_6: 0.3887\n",
            "Epoch 5/300\n",
            "225/225 - 1s - loss: 0.3700 - binary_accuracy: 0.8471 - binary_crossentropy: 0.3647 - precision_6: 0.7318 - recall_6: 0.4011 - val_loss: 0.3622 - val_binary_accuracy: 0.8583 - val_binary_crossentropy: 0.3577 - val_precision_6: 0.7907 - val_recall_6: 0.3831\n",
            "Epoch 6/300\n",
            "225/225 - 1s - loss: 0.3675 - binary_accuracy: 0.8531 - binary_crossentropy: 0.3626 - precision_6: 0.7743 - recall_6: 0.3997 - val_loss: 0.3705 - val_binary_accuracy: 0.8450 - val_binary_crossentropy: 0.3661 - val_precision_6: 0.6357 - val_recall_6: 0.5014\n",
            "Epoch 7/300\n",
            "225/225 - 1s - loss: 0.3637 - binary_accuracy: 0.8511 - binary_crossentropy: 0.3588 - precision_6: 0.7531 - recall_6: 0.4072 - val_loss: 0.3616 - val_binary_accuracy: 0.8556 - val_binary_crossentropy: 0.3581 - val_precision_6: 0.8417 - val_recall_6: 0.3296\n",
            "Epoch 8/300\n",
            "225/225 - 1s - loss: 0.3618 - binary_accuracy: 0.8542 - binary_crossentropy: 0.3571 - precision_6: 0.7649 - recall_6: 0.4167 - val_loss: 0.3835 - val_binary_accuracy: 0.8439 - val_binary_crossentropy: 0.3791 - val_precision_6: 0.6276 - val_recall_6: 0.5127\n",
            "Epoch 9/300\n",
            "225/225 - 1s - loss: 0.3626 - binary_accuracy: 0.8556 - binary_crossentropy: 0.3583 - precision_6: 0.7678 - recall_6: 0.4234 - val_loss: 0.3549 - val_binary_accuracy: 0.8639 - val_binary_crossentropy: 0.3508 - val_precision_6: 0.7750 - val_recall_6: 0.4366\n",
            "Epoch 10/300\n",
            "225/225 - 1s - loss: 0.3582 - binary_accuracy: 0.8529 - binary_crossentropy: 0.3539 - precision_6: 0.7509 - recall_6: 0.4228 - val_loss: 0.3594 - val_binary_accuracy: 0.8578 - val_binary_crossentropy: 0.3565 - val_precision_6: 0.7619 - val_recall_6: 0.4056\n",
            "Epoch 11/300\n",
            "225/225 - 1s - loss: 0.3593 - binary_accuracy: 0.8525 - binary_crossentropy: 0.3551 - precision_6: 0.7531 - recall_6: 0.4173 - val_loss: 0.3642 - val_binary_accuracy: 0.8544 - val_binary_crossentropy: 0.3600 - val_precision_6: 0.7313 - val_recall_6: 0.4141\n",
            "Epoch 12/300\n",
            "225/225 - 1s - loss: 0.3602 - binary_accuracy: 0.8544 - binary_crossentropy: 0.3556 - precision_6: 0.7668 - recall_6: 0.4167 - val_loss: 0.3623 - val_binary_accuracy: 0.8539 - val_binary_crossentropy: 0.3585 - val_precision_6: 0.8538 - val_recall_6: 0.3127\n",
            "Epoch 13/300\n",
            "225/225 - 1s - loss: 0.3525 - binary_accuracy: 0.8558 - binary_crossentropy: 0.3483 - precision_6: 0.7724 - recall_6: 0.4207 - val_loss: 0.3698 - val_binary_accuracy: 0.8583 - val_binary_crossentropy: 0.3660 - val_precision_6: 0.6938 - val_recall_6: 0.5042\n",
            "Epoch 14/300\n",
            "225/225 - 1s - loss: 0.3499 - binary_accuracy: 0.8547 - binary_crossentropy: 0.3457 - precision_6: 0.7560 - recall_6: 0.4302 - val_loss: 0.3566 - val_binary_accuracy: 0.8561 - val_binary_crossentropy: 0.3528 - val_precision_6: 0.7243 - val_recall_6: 0.4366\n",
            "Epoch 15/300\n",
            "225/225 - 1s - loss: 0.3503 - binary_accuracy: 0.8601 - binary_crossentropy: 0.3460 - precision_6: 0.7802 - recall_6: 0.4424 - val_loss: 0.3669 - val_binary_accuracy: 0.8594 - val_binary_crossentropy: 0.3632 - val_precision_6: 0.6678 - val_recall_6: 0.5718\n",
            "Epoch 16/300\n",
            "225/225 - 1s - loss: 0.3503 - binary_accuracy: 0.8592 - binary_crossentropy: 0.3466 - precision_6: 0.7776 - recall_6: 0.4383 - val_loss: 0.3470 - val_binary_accuracy: 0.8656 - val_binary_crossentropy: 0.3436 - val_precision_6: 0.7897 - val_recall_6: 0.4338\n",
            "Epoch 17/300\n",
            "225/225 - 1s - loss: 0.3491 - binary_accuracy: 0.8587 - binary_crossentropy: 0.3452 - precision_6: 0.7691 - recall_6: 0.4444 - val_loss: 0.3564 - val_binary_accuracy: 0.8578 - val_binary_crossentropy: 0.3526 - val_precision_6: 0.6749 - val_recall_6: 0.5380\n",
            "Epoch 18/300\n",
            "225/225 - 1s - loss: 0.3494 - binary_accuracy: 0.8583 - binary_crossentropy: 0.3454 - precision_6: 0.7633 - recall_6: 0.4478 - val_loss: 0.3512 - val_binary_accuracy: 0.8661 - val_binary_crossentropy: 0.3479 - val_precision_6: 0.7500 - val_recall_6: 0.4817\n",
            "Epoch 19/300\n",
            "225/225 - 1s - loss: 0.3462 - binary_accuracy: 0.8599 - binary_crossentropy: 0.3426 - precision_6: 0.7609 - recall_6: 0.4614 - val_loss: 0.3585 - val_binary_accuracy: 0.8600 - val_binary_crossentropy: 0.3556 - val_precision_6: 0.8160 - val_recall_6: 0.3746\n",
            "Epoch 20/300\n",
            "225/225 - 1s - loss: 0.3460 - binary_accuracy: 0.8581 - binary_crossentropy: 0.3423 - precision_6: 0.7533 - recall_6: 0.4573 - val_loss: 0.3536 - val_binary_accuracy: 0.8650 - val_binary_crossentropy: 0.3507 - val_precision_6: 0.7393 - val_recall_6: 0.4873\n",
            "Epoch 21/300\n",
            "225/225 - 1s - loss: 0.3424 - binary_accuracy: 0.8618 - binary_crossentropy: 0.3389 - precision_6: 0.7800 - recall_6: 0.4539 - val_loss: 0.3648 - val_binary_accuracy: 0.8594 - val_binary_crossentropy: 0.3615 - val_precision_6: 0.6848 - val_recall_6: 0.5324\n",
            "Epoch 22/300\n",
            "225/225 - 1s - loss: 0.3441 - binary_accuracy: 0.8600 - binary_crossentropy: 0.3407 - precision_6: 0.7746 - recall_6: 0.4472 - val_loss: 0.3549 - val_binary_accuracy: 0.8639 - val_binary_crossentropy: 0.3516 - val_precision_6: 0.7570 - val_recall_6: 0.4563\n",
            "Epoch 23/300\n",
            "225/225 - 1s - loss: 0.3429 - binary_accuracy: 0.8604 - binary_crossentropy: 0.3392 - precision_6: 0.7679 - recall_6: 0.4573 - val_loss: 0.3582 - val_binary_accuracy: 0.8578 - val_binary_crossentropy: 0.3558 - val_precision_6: 0.7368 - val_recall_6: 0.4338\n",
            "Epoch 24/300\n",
            "225/225 - 1s - loss: 0.3401 - binary_accuracy: 0.8607 - binary_crossentropy: 0.3366 - precision_6: 0.7812 - recall_6: 0.4451 - val_loss: 0.3504 - val_binary_accuracy: 0.8617 - val_binary_crossentropy: 0.3477 - val_precision_6: 0.7008 - val_recall_6: 0.5211\n",
            "Epoch 25/300\n",
            "225/225 - 1s - loss: 0.3405 - binary_accuracy: 0.8587 - binary_crossentropy: 0.3373 - precision_6: 0.7605 - recall_6: 0.4539 - val_loss: 0.3644 - val_binary_accuracy: 0.8561 - val_binary_crossentropy: 0.3598 - val_precision_6: 0.6702 - val_recall_6: 0.5324\n",
            "Epoch 26/300\n",
            "225/225 - 1s - loss: 0.3371 - binary_accuracy: 0.8636 - binary_crossentropy: 0.3338 - precision_6: 0.7708 - recall_6: 0.4763 - val_loss: 0.3647 - val_binary_accuracy: 0.8594 - val_binary_crossentropy: 0.3610 - val_precision_6: 0.8446 - val_recall_6: 0.3521\n",
            "Epoch 27/300\n",
            "225/225 - 1s - loss: 0.3380 - binary_accuracy: 0.8578 - binary_crossentropy: 0.3348 - precision_6: 0.7580 - recall_6: 0.4499 - val_loss: 0.3620 - val_binary_accuracy: 0.8606 - val_binary_crossentropy: 0.3589 - val_precision_6: 0.8377 - val_recall_6: 0.3634\n",
            "Epoch 28/300\n",
            "225/225 - 1s - loss: 0.3438 - binary_accuracy: 0.8607 - binary_crossentropy: 0.3403 - precision_6: 0.7779 - recall_6: 0.4485 - val_loss: 0.3607 - val_binary_accuracy: 0.8606 - val_binary_crossentropy: 0.3550 - val_precision_6: 0.6884 - val_recall_6: 0.5352\n",
            "Epoch 29/300\n",
            "225/225 - 1s - loss: 0.3391 - binary_accuracy: 0.8586 - binary_crossentropy: 0.3354 - precision_6: 0.7632 - recall_6: 0.4499 - val_loss: 0.3469 - val_binary_accuracy: 0.8628 - val_binary_crossentropy: 0.3441 - val_precision_6: 0.7784 - val_recall_6: 0.4254\n",
            "Epoch 30/300\n",
            "225/225 - 1s - loss: 0.3383 - binary_accuracy: 0.8625 - binary_crossentropy: 0.3349 - precision_6: 0.7780 - recall_6: 0.4607 - val_loss: 0.3458 - val_binary_accuracy: 0.8628 - val_binary_crossentropy: 0.3420 - val_precision_6: 0.7647 - val_recall_6: 0.4394\n",
            "Epoch 31/300\n",
            "225/225 - 1s - loss: 0.3352 - binary_accuracy: 0.8636 - binary_crossentropy: 0.3317 - precision_6: 0.7833 - recall_6: 0.4627 - val_loss: 0.3586 - val_binary_accuracy: 0.8600 - val_binary_crossentropy: 0.3552 - val_precision_6: 0.7102 - val_recall_6: 0.4901\n",
            "Epoch 32/300\n",
            "225/225 - 1s - loss: 0.3347 - binary_accuracy: 0.8625 - binary_crossentropy: 0.3314 - precision_6: 0.7768 - recall_6: 0.4621 - val_loss: 0.3678 - val_binary_accuracy: 0.8556 - val_binary_crossentropy: 0.3646 - val_precision_6: 0.6610 - val_recall_6: 0.5493\n",
            "Epoch 33/300\n",
            "225/225 - 1s - loss: 0.3337 - binary_accuracy: 0.8635 - binary_crossentropy: 0.3304 - precision_6: 0.7817 - recall_6: 0.4634 - val_loss: 0.3569 - val_binary_accuracy: 0.8539 - val_binary_crossentropy: 0.3537 - val_precision_6: 0.7255 - val_recall_6: 0.4169\n",
            "Epoch 34/300\n",
            "225/225 - 1s - loss: 0.3316 - binary_accuracy: 0.8636 - binary_crossentropy: 0.3286 - precision_6: 0.7775 - recall_6: 0.4688 - val_loss: 0.3573 - val_binary_accuracy: 0.8644 - val_binary_crossentropy: 0.3549 - val_precision_6: 0.7079 - val_recall_6: 0.5324\n",
            "Epoch 35/300\n",
            "225/225 - 1s - loss: 0.3345 - binary_accuracy: 0.8615 - binary_crossentropy: 0.3314 - precision_6: 0.7775 - recall_6: 0.4546 - val_loss: 0.3510 - val_binary_accuracy: 0.8650 - val_binary_crossentropy: 0.3482 - val_precision_6: 0.7979 - val_recall_6: 0.4225\n",
            "Epoch 36/300\n",
            "225/225 - 1s - loss: 0.3319 - binary_accuracy: 0.8653 - binary_crossentropy: 0.3287 - precision_6: 0.7882 - recall_6: 0.4688 - val_loss: 0.3478 - val_binary_accuracy: 0.8656 - val_binary_crossentropy: 0.3442 - val_precision_6: 0.7868 - val_recall_6: 0.4366\n",
            "Epoch 37/300\n",
            "225/225 - 1s - loss: 0.3337 - binary_accuracy: 0.8646 - binary_crossentropy: 0.3305 - precision_6: 0.7799 - recall_6: 0.4729 - val_loss: 0.3520 - val_binary_accuracy: 0.8628 - val_binary_crossentropy: 0.3486 - val_precision_6: 0.7547 - val_recall_6: 0.4507\n",
            "Epoch 38/300\n",
            "225/225 - 1s - loss: 0.3310 - binary_accuracy: 0.8621 - binary_crossentropy: 0.3279 - precision_6: 0.7698 - recall_6: 0.4668 - val_loss: 0.3501 - val_binary_accuracy: 0.8617 - val_binary_crossentropy: 0.3477 - val_precision_6: 0.7880 - val_recall_6: 0.4085\n",
            "Epoch 39/300\n",
            "225/225 - 1s - loss: 0.3307 - binary_accuracy: 0.8637 - binary_crossentropy: 0.3275 - precision_6: 0.7888 - recall_6: 0.4580 - val_loss: 0.3521 - val_binary_accuracy: 0.8667 - val_binary_crossentropy: 0.3484 - val_precision_6: 0.7291 - val_recall_6: 0.5155\n",
            "Epoch 40/300\n",
            "225/225 - 1s - loss: 0.3300 - binary_accuracy: 0.8637 - binary_crossentropy: 0.3267 - precision_6: 0.7784 - recall_6: 0.4688 - val_loss: 0.3654 - val_binary_accuracy: 0.8572 - val_binary_crossentropy: 0.3616 - val_precision_6: 0.8403 - val_recall_6: 0.3408\n",
            "Epoch 41/300\n",
            "225/225 - 1s - loss: 0.3293 - binary_accuracy: 0.8674 - binary_crossentropy: 0.3261 - precision_6: 0.8012 - recall_6: 0.4695 - val_loss: 0.3647 - val_binary_accuracy: 0.8644 - val_binary_crossentropy: 0.3617 - val_precision_6: 0.7489 - val_recall_6: 0.4704\n",
            "Epoch 42/300\n",
            "225/225 - 1s - loss: 0.3288 - binary_accuracy: 0.8631 - binary_crossentropy: 0.3251 - precision_6: 0.7771 - recall_6: 0.4654 - val_loss: 0.3609 - val_binary_accuracy: 0.8550 - val_binary_crossentropy: 0.3577 - val_precision_6: 0.6822 - val_recall_6: 0.4958\n",
            "Epoch 43/300\n",
            "225/225 - 1s - loss: 0.3306 - binary_accuracy: 0.8639 - binary_crossentropy: 0.3274 - precision_6: 0.7890 - recall_6: 0.4587 - val_loss: 0.3499 - val_binary_accuracy: 0.8617 - val_binary_crossentropy: 0.3467 - val_precision_6: 0.7598 - val_recall_6: 0.4366\n",
            "Epoch 44/300\n",
            "225/225 - 1s - loss: 0.3286 - binary_accuracy: 0.8651 - binary_crossentropy: 0.3254 - precision_6: 0.7834 - recall_6: 0.4729 - val_loss: 0.3511 - val_binary_accuracy: 0.8594 - val_binary_crossentropy: 0.3483 - val_precision_6: 0.7339 - val_recall_6: 0.4507\n",
            "Epoch 45/300\n",
            "225/225 - 1s - loss: 0.3281 - binary_accuracy: 0.8664 - binary_crossentropy: 0.3251 - precision_6: 0.7881 - recall_6: 0.4763 - val_loss: 0.3536 - val_binary_accuracy: 0.8606 - val_binary_crossentropy: 0.3503 - val_precision_6: 0.7680 - val_recall_6: 0.4197\n",
            "Epoch 46/300\n",
            "225/225 - 1s - loss: 0.3257 - binary_accuracy: 0.8700 - binary_crossentropy: 0.3228 - precision_6: 0.7967 - recall_6: 0.4912 - val_loss: 0.3582 - val_binary_accuracy: 0.8544 - val_binary_crossentropy: 0.3546 - val_precision_6: 0.6898 - val_recall_6: 0.4761\n",
            "Epoch 47/300\n",
            "225/225 - 1s - loss: 0.3276 - binary_accuracy: 0.8665 - binary_crossentropy: 0.3243 - precision_6: 0.7802 - recall_6: 0.4858 - val_loss: 0.3576 - val_binary_accuracy: 0.8567 - val_binary_crossentropy: 0.3550 - val_precision_6: 0.6738 - val_recall_6: 0.5296\n",
            "Epoch 48/300\n",
            "225/225 - 1s - loss: 0.3261 - binary_accuracy: 0.8656 - binary_crossentropy: 0.3231 - precision_6: 0.7940 - recall_6: 0.4648 - val_loss: 0.3596 - val_binary_accuracy: 0.8589 - val_binary_crossentropy: 0.3567 - val_precision_6: 0.6965 - val_recall_6: 0.5042\n",
            "Epoch 49/300\n",
            "225/225 - 1s - loss: 0.3271 - binary_accuracy: 0.8693 - binary_crossentropy: 0.3237 - precision_6: 0.8092 - recall_6: 0.4743 - val_loss: 0.3671 - val_binary_accuracy: 0.8578 - val_binary_crossentropy: 0.3635 - val_precision_6: 0.7368 - val_recall_6: 0.4338\n",
            "Epoch 50/300\n",
            "225/225 - 1s - loss: 0.3250 - binary_accuracy: 0.8646 - binary_crossentropy: 0.3209 - precision_6: 0.7780 - recall_6: 0.4749 - val_loss: 0.3524 - val_binary_accuracy: 0.8578 - val_binary_crossentropy: 0.3498 - val_precision_6: 0.7324 - val_recall_6: 0.4394\n",
            "Epoch 51/300\n",
            "225/225 - 1s - loss: 0.3251 - binary_accuracy: 0.8682 - binary_crossentropy: 0.3219 - precision_6: 0.7892 - recall_6: 0.4871 - val_loss: 0.3561 - val_binary_accuracy: 0.8561 - val_binary_crossentropy: 0.3526 - val_precision_6: 0.7105 - val_recall_6: 0.4563\n",
            "Epoch 52/300\n",
            "225/225 - 1s - loss: 0.3251 - binary_accuracy: 0.8664 - binary_crossentropy: 0.3219 - precision_6: 0.7881 - recall_6: 0.4763 - val_loss: 0.3741 - val_binary_accuracy: 0.8461 - val_binary_crossentropy: 0.3710 - val_precision_6: 0.7074 - val_recall_6: 0.3746\n",
            "Epoch 53/300\n",
            "225/225 - 1s - loss: 0.3271 - binary_accuracy: 0.8669 - binary_crossentropy: 0.3240 - precision_6: 0.7840 - recall_6: 0.4844 - val_loss: 0.3624 - val_binary_accuracy: 0.8594 - val_binary_crossentropy: 0.3589 - val_precision_6: 0.6759 - val_recall_6: 0.5521\n",
            "Epoch 54/300\n",
            "225/225 - 1s - loss: 0.3226 - binary_accuracy: 0.8675 - binary_crossentropy: 0.3195 - precision_6: 0.7849 - recall_6: 0.4871 - val_loss: 0.3569 - val_binary_accuracy: 0.8572 - val_binary_crossentropy: 0.3549 - val_precision_6: 0.7042 - val_recall_6: 0.4761\n",
            "Epoch 55/300\n",
            "225/225 - 1s - loss: 0.3203 - binary_accuracy: 0.8712 - binary_crossentropy: 0.3172 - precision_6: 0.8074 - recall_6: 0.4885 - val_loss: 0.3702 - val_binary_accuracy: 0.8589 - val_binary_crossentropy: 0.3676 - val_precision_6: 0.6891 - val_recall_6: 0.5183\n",
            "Epoch 56/300\n",
            "225/225 - 1s - loss: 0.3228 - binary_accuracy: 0.8679 - binary_crossentropy: 0.3197 - precision_6: 0.7966 - recall_6: 0.4776 - val_loss: 0.3853 - val_binary_accuracy: 0.8478 - val_binary_crossentropy: 0.3819 - val_precision_6: 0.6311 - val_recall_6: 0.5493\n",
            "Epoch 57/300\n",
            "225/225 - 1s - loss: 0.3244 - binary_accuracy: 0.8675 - binary_crossentropy: 0.3208 - precision_6: 0.8014 - recall_6: 0.4702 - val_loss: 0.3551 - val_binary_accuracy: 0.8600 - val_binary_crossentropy: 0.3523 - val_precision_6: 0.7588 - val_recall_6: 0.4254\n",
            "Epoch 58/300\n",
            "225/225 - 1s - loss: 0.3219 - binary_accuracy: 0.8683 - binary_crossentropy: 0.3188 - precision_6: 0.7993 - recall_6: 0.4776 - val_loss: 0.3616 - val_binary_accuracy: 0.8600 - val_binary_crossentropy: 0.3585 - val_precision_6: 0.7352 - val_recall_6: 0.4535\n",
            "Epoch 59/300\n",
            "225/225 - 1s - loss: 0.3208 - binary_accuracy: 0.8683 - binary_crossentropy: 0.3175 - precision_6: 0.7946 - recall_6: 0.4824 - val_loss: 0.3597 - val_binary_accuracy: 0.8550 - val_binary_crossentropy: 0.3557 - val_precision_6: 0.7582 - val_recall_6: 0.3887\n",
            "Epoch 60/300\n",
            "225/225 - 1s - loss: 0.3203 - binary_accuracy: 0.8682 - binary_crossentropy: 0.3168 - precision_6: 0.7880 - recall_6: 0.4885 - val_loss: 0.3608 - val_binary_accuracy: 0.8600 - val_binary_crossentropy: 0.3570 - val_precision_6: 0.7784 - val_recall_6: 0.4056\n",
            "Epoch 61/300\n",
            "225/225 - 1s - loss: 0.3196 - binary_accuracy: 0.8678 - binary_crossentropy: 0.3161 - precision_6: 0.7998 - recall_6: 0.4736 - val_loss: 0.3609 - val_binary_accuracy: 0.8583 - val_binary_crossentropy: 0.3580 - val_precision_6: 0.7155 - val_recall_6: 0.4676\n",
            "Epoch 62/300\n",
            "225/225 - 1s - loss: 0.3187 - binary_accuracy: 0.8686 - binary_crossentropy: 0.3151 - precision_6: 0.8011 - recall_6: 0.4776 - val_loss: 0.3613 - val_binary_accuracy: 0.8606 - val_binary_crossentropy: 0.3582 - val_precision_6: 0.7241 - val_recall_6: 0.4732\n",
            "Epoch 63/300\n",
            "225/225 - 1s - loss: 0.3177 - binary_accuracy: 0.8693 - binary_crossentropy: 0.3142 - precision_6: 0.7936 - recall_6: 0.4898 - val_loss: 0.3622 - val_binary_accuracy: 0.8578 - val_binary_crossentropy: 0.3593 - val_precision_6: 0.6926 - val_recall_6: 0.5014\n",
            "Epoch 64/300\n",
            "225/225 - 1s - loss: 0.3174 - binary_accuracy: 0.8694 - binary_crossentropy: 0.3141 - precision_6: 0.8039 - recall_6: 0.4804 - val_loss: 0.3651 - val_binary_accuracy: 0.8556 - val_binary_crossentropy: 0.3619 - val_precision_6: 0.7093 - val_recall_6: 0.4535\n",
            "Epoch 65/300\n",
            "225/225 - 1s - loss: 0.3155 - binary_accuracy: 0.8679 - binary_crossentropy: 0.3120 - precision_6: 0.7894 - recall_6: 0.4851 - val_loss: 0.3808 - val_binary_accuracy: 0.8594 - val_binary_crossentropy: 0.3769 - val_precision_6: 0.6932 - val_recall_6: 0.5155\n",
            "Epoch 66/300\n",
            "225/225 - 1s - loss: 0.3200 - binary_accuracy: 0.8690 - binary_crossentropy: 0.3165 - precision_6: 0.7913 - recall_6: 0.4905 - val_loss: 0.3689 - val_binary_accuracy: 0.8639 - val_binary_crossentropy: 0.3655 - val_precision_6: 0.7696 - val_recall_6: 0.4423\n",
            "Epoch 67/300\n",
            "225/225 - 1s - loss: 0.3151 - binary_accuracy: 0.8717 - binary_crossentropy: 0.3116 - precision_6: 0.8007 - recall_6: 0.4980 - val_loss: 0.3790 - val_binary_accuracy: 0.8544 - val_binary_crossentropy: 0.3754 - val_precision_6: 0.7104 - val_recall_6: 0.4423\n",
            "Epoch 68/300\n",
            "225/225 - 1s - loss: 0.3176 - binary_accuracy: 0.8654 - binary_crossentropy: 0.3141 - precision_6: 0.7845 - recall_6: 0.4736 - val_loss: 0.3620 - val_binary_accuracy: 0.8628 - val_binary_crossentropy: 0.3576 - val_precision_6: 0.7368 - val_recall_6: 0.4732\n",
            "Epoch 69/300\n",
            "225/225 - 1s - loss: 0.3155 - binary_accuracy: 0.8711 - binary_crossentropy: 0.3117 - precision_6: 0.7959 - recall_6: 0.4993 - val_loss: 0.3687 - val_binary_accuracy: 0.8572 - val_binary_crossentropy: 0.3654 - val_precision_6: 0.7552 - val_recall_6: 0.4085\n",
            "Epoch 70/300\n",
            "225/225 - 1s - loss: 0.3178 - binary_accuracy: 0.8706 - binary_crossentropy: 0.3145 - precision_6: 0.8002 - recall_6: 0.4912 - val_loss: 0.3764 - val_binary_accuracy: 0.8517 - val_binary_crossentropy: 0.3729 - val_precision_6: 0.6486 - val_recall_6: 0.5408\n",
            "Epoch 71/300\n",
            "225/225 - 1s - loss: 0.3159 - binary_accuracy: 0.8715 - binary_crossentropy: 0.3119 - precision_6: 0.8031 - recall_6: 0.4946 - val_loss: 0.3720 - val_binary_accuracy: 0.8583 - val_binary_crossentropy: 0.3679 - val_precision_6: 0.7066 - val_recall_6: 0.4817\n",
            "Epoch 72/300\n",
            "225/225 - 1s - loss: 0.3182 - binary_accuracy: 0.8707 - binary_crossentropy: 0.3145 - precision_6: 0.7991 - recall_6: 0.4932 - val_loss: 0.3710 - val_binary_accuracy: 0.8550 - val_binary_crossentropy: 0.3665 - val_precision_6: 0.7350 - val_recall_6: 0.4141\n",
            "Epoch 73/300\n",
            "225/225 - 1s - loss: 0.3163 - binary_accuracy: 0.8700 - binary_crossentropy: 0.3122 - precision_6: 0.7903 - recall_6: 0.4980 - val_loss: 0.3586 - val_binary_accuracy: 0.8617 - val_binary_crossentropy: 0.3552 - val_precision_6: 0.7284 - val_recall_6: 0.4761\n",
            "Epoch 74/300\n",
            "225/225 - 1s - loss: 0.3124 - binary_accuracy: 0.8696 - binary_crossentropy: 0.3087 - precision_6: 0.7987 - recall_6: 0.4864 - val_loss: 0.3847 - val_binary_accuracy: 0.8539 - val_binary_crossentropy: 0.3809 - val_precision_6: 0.6679 - val_recall_6: 0.5155\n",
            "Epoch 75/300\n",
            "225/225 - 1s - loss: 0.3131 - binary_accuracy: 0.8726 - binary_crossentropy: 0.3092 - precision_6: 0.8144 - recall_6: 0.4905 - val_loss: 0.3737 - val_binary_accuracy: 0.8561 - val_binary_crossentropy: 0.3702 - val_precision_6: 0.6752 - val_recall_6: 0.5211\n",
            "Epoch 76/300\n",
            "225/225 - 1s - loss: 0.3136 - binary_accuracy: 0.8707 - binary_crossentropy: 0.3094 - precision_6: 0.7978 - recall_6: 0.4946 - val_loss: 0.3837 - val_binary_accuracy: 0.8606 - val_binary_crossentropy: 0.3789 - val_precision_6: 0.7653 - val_recall_6: 0.4225\n",
            "Epoch 77/300\n",
            "225/225 - 1s - loss: 0.3159 - binary_accuracy: 0.8715 - binary_crossentropy: 0.3114 - precision_6: 0.7922 - recall_6: 0.5061 - val_loss: 0.3704 - val_binary_accuracy: 0.8567 - val_binary_crossentropy: 0.3663 - val_precision_6: 0.6844 - val_recall_6: 0.5070\n",
            "Epoch 78/300\n",
            "225/225 - 1s - loss: 0.3134 - binary_accuracy: 0.8733 - binary_crossentropy: 0.3098 - precision_6: 0.7962 - recall_6: 0.5136 - val_loss: 0.3791 - val_binary_accuracy: 0.8522 - val_binary_crossentropy: 0.3752 - val_precision_6: 0.6572 - val_recall_6: 0.5239\n",
            "Epoch 79/300\n",
            "225/225 - 1s - loss: 0.3128 - binary_accuracy: 0.8701 - binary_crossentropy: 0.3081 - precision_6: 0.7912 - recall_6: 0.4980 - val_loss: 0.3847 - val_binary_accuracy: 0.8450 - val_binary_crossentropy: 0.3809 - val_precision_6: 0.6301 - val_recall_6: 0.5183\n",
            "Epoch 80/300\n",
            "225/225 - 1s - loss: 0.3123 - binary_accuracy: 0.8731 - binary_crossentropy: 0.3079 - precision_6: 0.8048 - recall_6: 0.5027 - val_loss: 0.3857 - val_binary_accuracy: 0.8461 - val_binary_crossentropy: 0.3819 - val_precision_6: 0.6242 - val_recall_6: 0.5521\n",
            "Epoch 81/300\n",
            "225/225 - 1s - loss: 0.3111 - binary_accuracy: 0.8728 - binary_crossentropy: 0.3069 - precision_6: 0.8043 - recall_6: 0.5014 - val_loss: 0.3723 - val_binary_accuracy: 0.8628 - val_binary_crossentropy: 0.3675 - val_precision_6: 0.7432 - val_recall_6: 0.4648\n",
            "Epoch 82/300\n",
            "225/225 - 1s - loss: 0.3102 - binary_accuracy: 0.8753 - binary_crossentropy: 0.3060 - precision_6: 0.8121 - recall_6: 0.5095 - val_loss: 0.3735 - val_binary_accuracy: 0.8511 - val_binary_crossentropy: 0.3696 - val_precision_6: 0.6951 - val_recall_6: 0.4366\n",
            "Epoch 83/300\n",
            "225/225 - 1s - loss: 0.3076 - binary_accuracy: 0.8736 - binary_crossentropy: 0.3034 - precision_6: 0.8004 - recall_6: 0.5108 - val_loss: 0.3932 - val_binary_accuracy: 0.8478 - val_binary_crossentropy: 0.3887 - val_precision_6: 0.6709 - val_recall_6: 0.4479\n",
            "Epoch 84/300\n",
            "225/225 - 1s - loss: 0.3066 - binary_accuracy: 0.8756 - binary_crossentropy: 0.3023 - precision_6: 0.8125 - recall_6: 0.5108 - val_loss: 0.3774 - val_binary_accuracy: 0.8578 - val_binary_crossentropy: 0.3732 - val_precision_6: 0.7200 - val_recall_6: 0.4563\n",
            "Epoch 85/300\n",
            "225/225 - 1s - loss: 0.3071 - binary_accuracy: 0.8736 - binary_crossentropy: 0.3032 - precision_6: 0.8124 - recall_6: 0.4986 - val_loss: 0.3778 - val_binary_accuracy: 0.8578 - val_binary_crossentropy: 0.3737 - val_precision_6: 0.7124 - val_recall_6: 0.4676\n",
            "Epoch 86/300\n",
            "225/225 - 1s - loss: 0.3070 - binary_accuracy: 0.8719 - binary_crossentropy: 0.3029 - precision_6: 0.7928 - recall_6: 0.5081 - val_loss: 0.3849 - val_binary_accuracy: 0.8533 - val_binary_crossentropy: 0.3803 - val_precision_6: 0.7198 - val_recall_6: 0.4197\n",
            "Epoch 87/300\n",
            "225/225 - 1s - loss: 0.3111 - binary_accuracy: 0.8737 - binary_crossentropy: 0.3068 - precision_6: 0.8085 - recall_6: 0.5034 - val_loss: 0.3830 - val_binary_accuracy: 0.8583 - val_binary_crossentropy: 0.3786 - val_precision_6: 0.7336 - val_recall_6: 0.4423\n",
            "Epoch 88/300\n",
            "225/225 - 1s - loss: 0.3089 - binary_accuracy: 0.8739 - binary_crossentropy: 0.3048 - precision_6: 0.8060 - recall_6: 0.5068 - val_loss: 0.3812 - val_binary_accuracy: 0.8556 - val_binary_crossentropy: 0.3768 - val_precision_6: 0.6863 - val_recall_6: 0.4930\n",
            "Epoch 89/300\n",
            "225/225 - 1s - loss: 0.3054 - binary_accuracy: 0.8761 - binary_crossentropy: 0.3014 - precision_6: 0.8087 - recall_6: 0.5183 - val_loss: 0.3904 - val_binary_accuracy: 0.8578 - val_binary_crossentropy: 0.3853 - val_precision_6: 0.7346 - val_recall_6: 0.4366\n",
            "Epoch 90/300\n",
            "225/225 - 1s - loss: 0.3091 - binary_accuracy: 0.8735 - binary_crossentropy: 0.3042 - precision_6: 0.8034 - recall_6: 0.5068 - val_loss: 0.3964 - val_binary_accuracy: 0.8422 - val_binary_crossentropy: 0.3930 - val_precision_6: 0.6041 - val_recall_6: 0.5803\n",
            "Epoch 91/300\n",
            "225/225 - 1s - loss: 0.3069 - binary_accuracy: 0.8769 - binary_crossentropy: 0.3028 - precision_6: 0.8165 - recall_6: 0.5156 - val_loss: 0.3834 - val_binary_accuracy: 0.8594 - val_binary_crossentropy: 0.3795 - val_precision_6: 0.6917 - val_recall_6: 0.5183\n",
            "Epoch 92/300\n",
            "225/225 - 1s - loss: 0.3085 - binary_accuracy: 0.8758 - binary_crossentropy: 0.3043 - precision_6: 0.8083 - recall_6: 0.5169 - val_loss: 0.3794 - val_binary_accuracy: 0.8528 - val_binary_crossentropy: 0.3749 - val_precision_6: 0.8041 - val_recall_6: 0.3352\n",
            "Epoch 93/300\n",
            "225/225 - 1s - loss: 0.3088 - binary_accuracy: 0.8740 - binary_crossentropy: 0.3042 - precision_6: 0.8103 - recall_6: 0.5034 - val_loss: 0.3715 - val_binary_accuracy: 0.8572 - val_binary_crossentropy: 0.3671 - val_precision_6: 0.7356 - val_recall_6: 0.4310\n",
            "Epoch 94/300\n",
            "225/225 - 1s - loss: 0.3057 - binary_accuracy: 0.8756 - binary_crossentropy: 0.3010 - precision_6: 0.7984 - recall_6: 0.5257 - val_loss: 0.3731 - val_binary_accuracy: 0.8494 - val_binary_crossentropy: 0.3695 - val_precision_6: 0.6810 - val_recall_6: 0.4451\n",
            "Epoch 95/300\n",
            "225/225 - 1s - loss: 0.3046 - binary_accuracy: 0.8711 - binary_crossentropy: 0.3006 - precision_6: 0.7998 - recall_6: 0.4953 - val_loss: 0.3900 - val_binary_accuracy: 0.8533 - val_binary_crossentropy: 0.3860 - val_precision_6: 0.7514 - val_recall_6: 0.3831\n",
            "Epoch 96/300\n",
            "225/225 - 1s - loss: 0.3049 - binary_accuracy: 0.8756 - binary_crossentropy: 0.3001 - precision_6: 0.8015 - recall_6: 0.5224 - val_loss: 0.3743 - val_binary_accuracy: 0.8628 - val_binary_crossentropy: 0.3690 - val_precision_6: 0.7500 - val_recall_6: 0.4563\n",
            "Epoch 97/300\n",
            "225/225 - 1s - loss: 0.3073 - binary_accuracy: 0.8761 - binary_crossentropy: 0.3023 - precision_6: 0.8195 - recall_6: 0.5075 - val_loss: 0.3760 - val_binary_accuracy: 0.8600 - val_binary_crossentropy: 0.3717 - val_precision_6: 0.7068 - val_recall_6: 0.4958\n",
            "Epoch 98/300\n",
            "225/225 - 1s - loss: 0.3023 - binary_accuracy: 0.8775 - binary_crossentropy: 0.2978 - precision_6: 0.8133 - recall_6: 0.5224 - val_loss: 0.3892 - val_binary_accuracy: 0.8494 - val_binary_crossentropy: 0.3845 - val_precision_6: 0.7211 - val_recall_6: 0.3859\n",
            "Epoch 99/300\n",
            "225/225 - 1s - loss: 0.3061 - binary_accuracy: 0.8763 - binary_crossentropy: 0.3011 - precision_6: 0.7976 - recall_6: 0.5312 - val_loss: 0.3951 - val_binary_accuracy: 0.8561 - val_binary_crossentropy: 0.3897 - val_precision_6: 0.6832 - val_recall_6: 0.5042\n",
            "Epoch 100/300\n",
            "225/225 - 1s - loss: 0.3015 - binary_accuracy: 0.8764 - binary_crossentropy: 0.2969 - precision_6: 0.8137 - recall_6: 0.5149 - val_loss: 0.3768 - val_binary_accuracy: 0.8544 - val_binary_crossentropy: 0.3723 - val_precision_6: 0.7104 - val_recall_6: 0.4423\n",
            "Epoch 101/300\n",
            "225/225 - 1s - loss: 0.3041 - binary_accuracy: 0.8774 - binary_crossentropy: 0.2992 - precision_6: 0.8118 - recall_6: 0.5230 - val_loss: 0.3831 - val_binary_accuracy: 0.8533 - val_binary_crossentropy: 0.3787 - val_precision_6: 0.6842 - val_recall_6: 0.4761\n",
            "Epoch 102/300\n",
            "225/225 - 1s - loss: 0.3052 - binary_accuracy: 0.8757 - binary_crossentropy: 0.3008 - precision_6: 0.8042 - recall_6: 0.5203 - val_loss: 0.4006 - val_binary_accuracy: 0.8483 - val_binary_crossentropy: 0.3967 - val_precision_6: 0.6331 - val_recall_6: 0.5493\n",
            "Epoch 103/300\n",
            "225/225 - 1s - loss: 0.3023 - binary_accuracy: 0.8768 - binary_crossentropy: 0.2977 - precision_6: 0.8136 - recall_6: 0.5176 - val_loss: 0.4212 - val_binary_accuracy: 0.8467 - val_binary_crossentropy: 0.4169 - val_precision_6: 0.6376 - val_recall_6: 0.5155\n",
            "Epoch 104/300\n",
            "225/225 - 1s - loss: 0.3019 - binary_accuracy: 0.8735 - binary_crossentropy: 0.2974 - precision_6: 0.7989 - recall_6: 0.5115 - val_loss: 0.3809 - val_binary_accuracy: 0.8544 - val_binary_crossentropy: 0.3770 - val_precision_6: 0.7268 - val_recall_6: 0.4197\n",
            "Epoch 105/300\n",
            "225/225 - 1s - loss: 0.2994 - binary_accuracy: 0.8754 - binary_crossentropy: 0.2949 - precision_6: 0.8116 - recall_6: 0.5108 - val_loss: 0.3921 - val_binary_accuracy: 0.8567 - val_binary_crossentropy: 0.3873 - val_precision_6: 0.7195 - val_recall_6: 0.4479\n",
            "Epoch 106/300\n",
            "225/225 - 1s - loss: 0.2996 - binary_accuracy: 0.8769 - binary_crossentropy: 0.2951 - precision_6: 0.8165 - recall_6: 0.5156 - val_loss: 0.3884 - val_binary_accuracy: 0.8533 - val_binary_crossentropy: 0.3838 - val_precision_6: 0.6492 - val_recall_6: 0.5577\n",
            "Epoch 107/300\n",
            "225/225 - 1s - loss: 0.2983 - binary_accuracy: 0.8776 - binary_crossentropy: 0.2938 - precision_6: 0.8058 - recall_6: 0.5312 - val_loss: 0.3802 - val_binary_accuracy: 0.8544 - val_binary_crossentropy: 0.3756 - val_precision_6: 0.7313 - val_recall_6: 0.4141\n",
            "Epoch 108/300\n",
            "225/225 - 1s - loss: 0.3012 - binary_accuracy: 0.8765 - binary_crossentropy: 0.2967 - precision_6: 0.8073 - recall_6: 0.5224 - val_loss: 0.3916 - val_binary_accuracy: 0.8578 - val_binary_crossentropy: 0.3868 - val_precision_6: 0.7054 - val_recall_6: 0.4789\n",
            "Epoch 109/300\n",
            "225/225 - 1s - loss: 0.2996 - binary_accuracy: 0.8778 - binary_crossentropy: 0.2947 - precision_6: 0.8085 - recall_6: 0.5291 - val_loss: 0.3953 - val_binary_accuracy: 0.8533 - val_binary_crossentropy: 0.3904 - val_precision_6: 0.6798 - val_recall_6: 0.4845\n",
            "Epoch 110/300\n",
            "225/225 - 1s - loss: 0.2983 - binary_accuracy: 0.8763 - binary_crossentropy: 0.2936 - precision_6: 0.8025 - recall_6: 0.5257 - val_loss: 0.4111 - val_binary_accuracy: 0.8394 - val_binary_crossentropy: 0.4064 - val_precision_6: 0.5994 - val_recall_6: 0.5606\n",
            "Epoch 111/300\n",
            "225/225 - 1s - loss: 0.3011 - binary_accuracy: 0.8757 - binary_crossentropy: 0.2963 - precision_6: 0.8074 - recall_6: 0.5169 - val_loss: 0.3819 - val_binary_accuracy: 0.8561 - val_binary_crossentropy: 0.3770 - val_precision_6: 0.6875 - val_recall_6: 0.4958\n",
            "Epoch 112/300\n",
            "225/225 - 1s - loss: 0.3003 - binary_accuracy: 0.8771 - binary_crossentropy: 0.2947 - precision_6: 0.8127 - recall_6: 0.5203 - val_loss: 0.3842 - val_binary_accuracy: 0.8483 - val_binary_crossentropy: 0.3788 - val_precision_6: 0.7440 - val_recall_6: 0.3521\n",
            "Epoch 113/300\n",
            "225/225 - 1s - loss: 0.2987 - binary_accuracy: 0.8811 - binary_crossentropy: 0.2931 - precision_6: 0.8249 - recall_6: 0.5332 - val_loss: 0.3816 - val_binary_accuracy: 0.8583 - val_binary_crossentropy: 0.3763 - val_precision_6: 0.6866 - val_recall_6: 0.5183\n",
            "Epoch 114/300\n",
            "225/225 - 1s - loss: 0.2951 - binary_accuracy: 0.8793 - binary_crossentropy: 0.2896 - precision_6: 0.8087 - recall_6: 0.5386 - val_loss: 0.3981 - val_binary_accuracy: 0.8533 - val_binary_crossentropy: 0.3928 - val_precision_6: 0.7333 - val_recall_6: 0.4028\n",
            "Epoch 115/300\n",
            "225/225 - 1s - loss: 0.2991 - binary_accuracy: 0.8763 - binary_crossentropy: 0.2935 - precision_6: 0.8108 - recall_6: 0.5169 - val_loss: 0.4007 - val_binary_accuracy: 0.8544 - val_binary_crossentropy: 0.3953 - val_precision_6: 0.7360 - val_recall_6: 0.4085\n",
            "Epoch 116/300\n",
            "225/225 - 1s - loss: 0.2971 - binary_accuracy: 0.8801 - binary_crossentropy: 0.2918 - precision_6: 0.8216 - recall_6: 0.5305 - val_loss: 0.3924 - val_binary_accuracy: 0.8533 - val_binary_crossentropy: 0.3874 - val_precision_6: 0.6872 - val_recall_6: 0.4704\n",
            "Epoch 117/300\n",
            "225/225 - 1s - loss: 0.2936 - binary_accuracy: 0.8810 - binary_crossentropy: 0.2884 - precision_6: 0.8310 - recall_6: 0.5264 - val_loss: 0.4175 - val_binary_accuracy: 0.8444 - val_binary_crossentropy: 0.4122 - val_precision_6: 0.6280 - val_recall_6: 0.5183\n",
            "Epoch 118/300\n",
            "225/225 - 1s - loss: 0.2959 - binary_accuracy: 0.8818 - binary_crossentropy: 0.2903 - precision_6: 0.8300 - recall_6: 0.5325 - val_loss: 0.3969 - val_binary_accuracy: 0.8550 - val_binary_crossentropy: 0.3911 - val_precision_6: 0.6767 - val_recall_6: 0.5070\n",
            "Epoch 119/300\n",
            "225/225 - 1s - loss: 0.2957 - binary_accuracy: 0.8782 - binary_crossentropy: 0.2902 - precision_6: 0.8143 - recall_6: 0.5257 - val_loss: 0.3831 - val_binary_accuracy: 0.8572 - val_binary_crossentropy: 0.3773 - val_precision_6: 0.7356 - val_recall_6: 0.4310\n",
            "Epoch 120/300\n",
            "225/225 - 1s - loss: 0.2954 - binary_accuracy: 0.8792 - binary_crossentropy: 0.2896 - precision_6: 0.8124 - recall_6: 0.5339 - val_loss: 0.4026 - val_binary_accuracy: 0.8522 - val_binary_crossentropy: 0.3967 - val_precision_6: 0.6943 - val_recall_6: 0.4479\n",
            "Epoch 121/300\n",
            "225/225 - 1s - loss: 0.2933 - binary_accuracy: 0.8783 - binary_crossentropy: 0.2881 - precision_6: 0.8205 - recall_6: 0.5203 - val_loss: 0.4037 - val_binary_accuracy: 0.8561 - val_binary_crossentropy: 0.3983 - val_precision_6: 0.7182 - val_recall_6: 0.4451\n",
            "Epoch 122/300\n",
            "225/225 - 1s - loss: 0.2931 - binary_accuracy: 0.8804 - binary_crossentropy: 0.2881 - precision_6: 0.8289 - recall_6: 0.5251 - val_loss: 0.3804 - val_binary_accuracy: 0.8600 - val_binary_crossentropy: 0.3758 - val_precision_6: 0.6807 - val_recall_6: 0.5465\n",
            "Epoch 123/300\n",
            "225/225 - 1s - loss: 0.2932 - binary_accuracy: 0.8821 - binary_crossentropy: 0.2878 - precision_6: 0.8138 - recall_6: 0.5508 - val_loss: 0.4007 - val_binary_accuracy: 0.8606 - val_binary_crossentropy: 0.3958 - val_precision_6: 0.7047 - val_recall_6: 0.5042\n",
            "Epoch 124/300\n",
            "225/225 - 1s - loss: 0.2923 - binary_accuracy: 0.8794 - binary_crossentropy: 0.2871 - precision_6: 0.8102 - recall_6: 0.5379 - val_loss: 0.4073 - val_binary_accuracy: 0.8617 - val_binary_crossentropy: 0.4016 - val_precision_6: 0.7366 - val_recall_6: 0.4648\n",
            "Epoch 125/300\n",
            "225/225 - 1s - loss: 0.2896 - binary_accuracy: 0.8814 - binary_crossentropy: 0.2844 - precision_6: 0.8161 - recall_6: 0.5440 - val_loss: 0.4139 - val_binary_accuracy: 0.8461 - val_binary_crossentropy: 0.4090 - val_precision_6: 0.6548 - val_recall_6: 0.4648\n",
            "Epoch 126/300\n",
            "225/225 - 1s - loss: 0.2927 - binary_accuracy: 0.8808 - binary_crossentropy: 0.2873 - precision_6: 0.8232 - recall_6: 0.5332 - val_loss: 0.4079 - val_binary_accuracy: 0.8572 - val_binary_crossentropy: 0.4026 - val_precision_6: 0.6992 - val_recall_6: 0.4845\n",
            "Epoch 127/300\n",
            "225/225 - 1s - loss: 0.2907 - binary_accuracy: 0.8824 - binary_crossentropy: 0.2854 - precision_6: 0.8371 - recall_6: 0.5291 - val_loss: 0.3999 - val_binary_accuracy: 0.8583 - val_binary_crossentropy: 0.3940 - val_precision_6: 0.7119 - val_recall_6: 0.4732\n",
            "Epoch 128/300\n",
            "225/225 - 1s - loss: 0.2898 - binary_accuracy: 0.8828 - binary_crossentropy: 0.2841 - precision_6: 0.8292 - recall_6: 0.5393 - val_loss: 0.3915 - val_binary_accuracy: 0.8539 - val_binary_crossentropy: 0.3865 - val_precision_6: 0.7170 - val_recall_6: 0.4282\n",
            "Epoch 129/300\n",
            "225/225 - 1s - loss: 0.2907 - binary_accuracy: 0.8813 - binary_crossentropy: 0.2855 - precision_6: 0.8238 - recall_6: 0.5352 - val_loss: 0.4080 - val_binary_accuracy: 0.8561 - val_binary_crossentropy: 0.4023 - val_precision_6: 0.7017 - val_recall_6: 0.4704\n",
            "Epoch 130/300\n",
            "225/225 - 1s - loss: 0.2900 - binary_accuracy: 0.8819 - binary_crossentropy: 0.2844 - precision_6: 0.8247 - recall_6: 0.5386 - val_loss: 0.4144 - val_binary_accuracy: 0.8500 - val_binary_crossentropy: 0.4093 - val_precision_6: 0.6604 - val_recall_6: 0.4930\n",
            "Epoch 131/300\n",
            "225/225 - 1s - loss: 0.2943 - binary_accuracy: 0.8799 - binary_crossentropy: 0.2881 - precision_6: 0.8114 - recall_6: 0.5393 - val_loss: 0.3902 - val_binary_accuracy: 0.8561 - val_binary_crossentropy: 0.3849 - val_precision_6: 0.6920 - val_recall_6: 0.4873\n",
            "Epoch 132/300\n",
            "225/225 - 1s - loss: 0.2907 - binary_accuracy: 0.8813 - binary_crossentropy: 0.2848 - precision_6: 0.8152 - recall_6: 0.5440 - val_loss: 0.4249 - val_binary_accuracy: 0.8439 - val_binary_crossentropy: 0.4189 - val_precision_6: 0.6156 - val_recall_6: 0.5549\n",
            "Epoch 133/300\n",
            "225/225 - 1s - loss: 0.2876 - binary_accuracy: 0.8825 - binary_crossentropy: 0.2817 - precision_6: 0.8227 - recall_6: 0.5440 - val_loss: 0.4096 - val_binary_accuracy: 0.8489 - val_binary_crossentropy: 0.4041 - val_precision_6: 0.6498 - val_recall_6: 0.5070\n",
            "Epoch 134/300\n",
            "225/225 - 1s - loss: 0.2860 - binary_accuracy: 0.8814 - binary_crossentropy: 0.2803 - precision_6: 0.8267 - recall_6: 0.5332 - val_loss: 0.3926 - val_binary_accuracy: 0.8556 - val_binary_crossentropy: 0.3875 - val_precision_6: 0.7295 - val_recall_6: 0.4254\n",
            "Epoch 135/300\n",
            "225/225 - 1s - loss: 0.2862 - binary_accuracy: 0.8821 - binary_crossentropy: 0.2800 - precision_6: 0.8269 - recall_6: 0.5373 - val_loss: 0.4118 - val_binary_accuracy: 0.8572 - val_binary_crossentropy: 0.4066 - val_precision_6: 0.7008 - val_recall_6: 0.4817\n",
            "Epoch 136/300\n",
            "225/225 - 1s - loss: 0.2867 - binary_accuracy: 0.8846 - binary_crossentropy: 0.2812 - precision_6: 0.8314 - recall_6: 0.5481 - val_loss: 0.4066 - val_binary_accuracy: 0.8522 - val_binary_crossentropy: 0.4007 - val_precision_6: 0.6846 - val_recall_6: 0.4648\n",
            "Epoch 137/300\n",
            "225/225 - 1s - loss: 0.2827 - binary_accuracy: 0.8861 - binary_crossentropy: 0.2767 - precision_6: 0.8361 - recall_6: 0.5528 - val_loss: 0.4095 - val_binary_accuracy: 0.8544 - val_binary_crossentropy: 0.4034 - val_precision_6: 0.7313 - val_recall_6: 0.4141\n",
            "Epoch 138/300\n",
            "225/225 - 1s - loss: 0.2891 - binary_accuracy: 0.8832 - binary_crossentropy: 0.2827 - precision_6: 0.8332 - recall_6: 0.5379 - val_loss: 0.4321 - val_binary_accuracy: 0.8528 - val_binary_crossentropy: 0.4264 - val_precision_6: 0.6786 - val_recall_6: 0.4817\n",
            "Epoch 139/300\n",
            "225/225 - 1s - loss: 0.2834 - binary_accuracy: 0.8839 - binary_crossentropy: 0.2776 - precision_6: 0.8245 - recall_6: 0.5508 - val_loss: 0.4246 - val_binary_accuracy: 0.8511 - val_binary_crossentropy: 0.4182 - val_precision_6: 0.6605 - val_recall_6: 0.5042\n",
            "Epoch 140/300\n",
            "225/225 - 1s - loss: 0.2832 - binary_accuracy: 0.8842 - binary_crossentropy: 0.2769 - precision_6: 0.8351 - recall_6: 0.5420 - val_loss: 0.4008 - val_binary_accuracy: 0.8533 - val_binary_crossentropy: 0.3954 - val_precision_6: 0.7004 - val_recall_6: 0.4479\n",
            "Epoch 141/300\n",
            "225/225 - 1s - loss: 0.2862 - binary_accuracy: 0.8843 - binary_crossentropy: 0.2805 - precision_6: 0.8366 - recall_6: 0.5413 - val_loss: 0.3972 - val_binary_accuracy: 0.8511 - val_binary_crossentropy: 0.3915 - val_precision_6: 0.7122 - val_recall_6: 0.4113\n",
            "Epoch 142/300\n",
            "225/225 - 1s - loss: 0.2860 - binary_accuracy: 0.8832 - binary_crossentropy: 0.2797 - precision_6: 0.8297 - recall_6: 0.5413 - val_loss: 0.4266 - val_binary_accuracy: 0.8511 - val_binary_crossentropy: 0.4212 - val_precision_6: 0.7005 - val_recall_6: 0.4282\n",
            "Epoch 143/300\n",
            "225/225 - 1s - loss: 0.2921 - binary_accuracy: 0.8789 - binary_crossentropy: 0.2855 - precision_6: 0.8126 - recall_6: 0.5318 - val_loss: 0.4630 - val_binary_accuracy: 0.8472 - val_binary_crossentropy: 0.4553 - val_precision_6: 0.6587 - val_recall_6: 0.4676\n",
            "Epoch 144/300\n",
            "225/225 - 1s - loss: 0.2875 - binary_accuracy: 0.8801 - binary_crossentropy: 0.2812 - precision_6: 0.8137 - recall_6: 0.5386 - val_loss: 0.4271 - val_binary_accuracy: 0.8489 - val_binary_crossentropy: 0.4211 - val_precision_6: 0.6948 - val_recall_6: 0.4169\n",
            "Epoch 145/300\n",
            "225/225 - 1s - loss: 0.2866 - binary_accuracy: 0.8810 - binary_crossentropy: 0.2806 - precision_6: 0.8248 - recall_6: 0.5325 - val_loss: 0.4158 - val_binary_accuracy: 0.8494 - val_binary_crossentropy: 0.4098 - val_precision_6: 0.7000 - val_recall_6: 0.4141\n",
            "Epoch 146/300\n",
            "225/225 - 1s - loss: 0.2841 - binary_accuracy: 0.8836 - binary_crossentropy: 0.2783 - precision_6: 0.8358 - recall_6: 0.5379 - val_loss: 0.4434 - val_binary_accuracy: 0.8511 - val_binary_crossentropy: 0.4378 - val_precision_6: 0.6372 - val_recall_6: 0.5690\n",
            "Epoch 147/300\n",
            "225/225 - 1s - loss: 0.2818 - binary_accuracy: 0.8843 - binary_crossentropy: 0.2757 - precision_6: 0.8193 - recall_6: 0.5589 - val_loss: 0.4264 - val_binary_accuracy: 0.8483 - val_binary_crossentropy: 0.4199 - val_precision_6: 0.7092 - val_recall_6: 0.3915\n",
            "Epoch 148/300\n",
            "225/225 - 1s - loss: 0.2802 - binary_accuracy: 0.8851 - binary_crossentropy: 0.2743 - precision_6: 0.8441 - recall_6: 0.5393 - val_loss: 0.4306 - val_binary_accuracy: 0.8467 - val_binary_crossentropy: 0.4246 - val_precision_6: 0.6502 - val_recall_6: 0.4817\n",
            "Epoch 149/300\n",
            "225/225 - 1s - loss: 0.2806 - binary_accuracy: 0.8846 - binary_crossentropy: 0.2744 - precision_6: 0.8248 - recall_6: 0.5549 - val_loss: 0.4298 - val_binary_accuracy: 0.8483 - val_binary_crossentropy: 0.4238 - val_precision_6: 0.7092 - val_recall_6: 0.3915\n",
            "Epoch 150/300\n",
            "225/225 - 1s - loss: 0.2808 - binary_accuracy: 0.8863 - binary_crossentropy: 0.2750 - precision_6: 0.8425 - recall_6: 0.5474 - val_loss: 0.4493 - val_binary_accuracy: 0.8483 - val_binary_crossentropy: 0.4425 - val_precision_6: 0.6519 - val_recall_6: 0.4958\n",
            "Epoch 151/300\n",
            "225/225 - 1s - loss: 0.2787 - binary_accuracy: 0.8842 - binary_crossentropy: 0.2728 - precision_6: 0.8296 - recall_6: 0.5474 - val_loss: 0.4494 - val_binary_accuracy: 0.8478 - val_binary_crossentropy: 0.4430 - val_precision_6: 0.6364 - val_recall_6: 0.5324\n",
            "Epoch 152/300\n",
            "225/225 - 1s - loss: 0.2822 - binary_accuracy: 0.8869 - binary_crossentropy: 0.2762 - precision_6: 0.8371 - recall_6: 0.5569 - val_loss: 0.4220 - val_binary_accuracy: 0.8433 - val_binary_crossentropy: 0.4154 - val_precision_6: 0.6853 - val_recall_6: 0.3803\n",
            "Epoch 153/300\n",
            "225/225 - 1s - loss: 0.2827 - binary_accuracy: 0.8865 - binary_crossentropy: 0.2762 - precision_6: 0.8292 - recall_6: 0.5623 - val_loss: 0.4186 - val_binary_accuracy: 0.8411 - val_binary_crossentropy: 0.4122 - val_precision_6: 0.6700 - val_recall_6: 0.3831\n",
            "Epoch 154/300\n",
            "225/225 - 1s - loss: 0.2791 - binary_accuracy: 0.8863 - binary_crossentropy: 0.2732 - precision_6: 0.8491 - recall_6: 0.5413 - val_loss: 0.4377 - val_binary_accuracy: 0.8533 - val_binary_crossentropy: 0.4319 - val_precision_6: 0.7097 - val_recall_6: 0.4338\n",
            "Epoch 155/300\n",
            "225/225 - 1s - loss: 0.2778 - binary_accuracy: 0.8860 - binary_crossentropy: 0.2721 - precision_6: 0.8387 - recall_6: 0.5495 - val_loss: 0.4534 - val_binary_accuracy: 0.8550 - val_binary_crossentropy: 0.4467 - val_precision_6: 0.6850 - val_recall_6: 0.4901\n",
            "Epoch 156/300\n",
            "225/225 - 1s - loss: 0.2814 - binary_accuracy: 0.8850 - binary_crossentropy: 0.2748 - precision_6: 0.8313 - recall_6: 0.5508 - val_loss: 0.4424 - val_binary_accuracy: 0.8506 - val_binary_crossentropy: 0.4358 - val_precision_6: 0.6734 - val_recall_6: 0.4704\n",
            "Epoch 157/300\n",
            "225/225 - 1s - loss: 0.2794 - binary_accuracy: 0.8876 - binary_crossentropy: 0.2734 - precision_6: 0.8463 - recall_6: 0.5522 - val_loss: 0.4330 - val_binary_accuracy: 0.8556 - val_binary_crossentropy: 0.4272 - val_precision_6: 0.6644 - val_recall_6: 0.5408\n",
            "Epoch 158/300\n",
            "225/225 - 1s - loss: 0.2778 - binary_accuracy: 0.8850 - binary_crossentropy: 0.2720 - precision_6: 0.8266 - recall_6: 0.5556 - val_loss: 0.4441 - val_binary_accuracy: 0.8439 - val_binary_crossentropy: 0.4379 - val_precision_6: 0.7284 - val_recall_6: 0.3324\n",
            "Epoch 159/300\n",
            "225/225 - 1s - loss: 0.2812 - binary_accuracy: 0.8851 - binary_crossentropy: 0.2746 - precision_6: 0.8308 - recall_6: 0.5522 - val_loss: 0.4272 - val_binary_accuracy: 0.8511 - val_binary_crossentropy: 0.4209 - val_precision_6: 0.6851 - val_recall_6: 0.4535\n",
            "Epoch 160/300\n",
            "225/225 - 1s - loss: 0.2743 - binary_accuracy: 0.8846 - binary_crossentropy: 0.2680 - precision_6: 0.8203 - recall_6: 0.5596 - val_loss: 0.4614 - val_binary_accuracy: 0.8522 - val_binary_crossentropy: 0.4545 - val_precision_6: 0.6846 - val_recall_6: 0.4648\n",
            "Epoch 161/300\n",
            "225/225 - 1s - loss: 0.2809 - binary_accuracy: 0.8817 - binary_crossentropy: 0.2741 - precision_6: 0.8216 - recall_6: 0.5400 - val_loss: 0.4352 - val_binary_accuracy: 0.8478 - val_binary_crossentropy: 0.4287 - val_precision_6: 0.6462 - val_recall_6: 0.5042\n",
            "Epoch 162/300\n",
            "225/225 - 1s - loss: 0.2904 - binary_accuracy: 0.8815 - binary_crossentropy: 0.2837 - precision_6: 0.8112 - recall_6: 0.5501 - val_loss: 0.4171 - val_binary_accuracy: 0.8489 - val_binary_crossentropy: 0.4106 - val_precision_6: 0.6948 - val_recall_6: 0.4169\n",
            "Epoch 163/300\n",
            "225/225 - 1s - loss: 0.2906 - binary_accuracy: 0.8822 - binary_crossentropy: 0.2830 - precision_6: 0.8298 - recall_6: 0.5352 - val_loss: 0.4331 - val_binary_accuracy: 0.8461 - val_binary_crossentropy: 0.4264 - val_precision_6: 0.6364 - val_recall_6: 0.5127\n",
            "Epoch 164/300\n",
            "225/225 - 1s - loss: 0.2763 - binary_accuracy: 0.8888 - binary_crossentropy: 0.2698 - precision_6: 0.8433 - recall_6: 0.5617 - val_loss: 0.4570 - val_binary_accuracy: 0.8433 - val_binary_crossentropy: 0.4488 - val_precision_6: 0.7110 - val_recall_6: 0.3465\n",
            "Epoch 165/300\n",
            "225/225 - 1s - loss: 0.2777 - binary_accuracy: 0.8879 - binary_crossentropy: 0.2709 - precision_6: 0.8375 - recall_6: 0.5623 - val_loss: 0.4274 - val_binary_accuracy: 0.8478 - val_binary_crossentropy: 0.4210 - val_precision_6: 0.6938 - val_recall_6: 0.4085\n",
            "Epoch 166/300\n",
            "225/225 - 1s - loss: 0.2747 - binary_accuracy: 0.8854 - binary_crossentropy: 0.2685 - precision_6: 0.8226 - recall_6: 0.5623 - val_loss: 0.4322 - val_binary_accuracy: 0.8433 - val_binary_crossentropy: 0.4263 - val_precision_6: 0.6443 - val_recall_6: 0.4592\n",
            "Epoch 167/300\n",
            "225/225 - 1s - loss: 0.2713 - binary_accuracy: 0.8890 - binary_crossentropy: 0.2654 - precision_6: 0.8423 - recall_6: 0.5644 - val_loss: 0.4414 - val_binary_accuracy: 0.8500 - val_binary_crossentropy: 0.4348 - val_precision_6: 0.6441 - val_recall_6: 0.5352\n",
            "Epoch 168/300\n",
            "225/225 - 1s - loss: 0.2742 - binary_accuracy: 0.8901 - binary_crossentropy: 0.2678 - precision_6: 0.8428 - recall_6: 0.5705 - val_loss: 0.4380 - val_binary_accuracy: 0.8517 - val_binary_crossentropy: 0.4320 - val_precision_6: 0.6654 - val_recall_6: 0.4986\n",
            "Epoch 169/300\n",
            "225/225 - 1s - loss: 0.2739 - binary_accuracy: 0.8881 - binary_crossentropy: 0.2674 - precision_6: 0.8497 - recall_6: 0.5515 - val_loss: 0.4554 - val_binary_accuracy: 0.8544 - val_binary_crossentropy: 0.4479 - val_precision_6: 0.6809 - val_recall_6: 0.4930\n",
            "Epoch 170/300\n",
            "225/225 - 1s - loss: 0.2727 - binary_accuracy: 0.8897 - binary_crossentropy: 0.2659 - precision_6: 0.8465 - recall_6: 0.5644 - val_loss: 0.4390 - val_binary_accuracy: 0.8483 - val_binary_crossentropy: 0.4328 - val_precision_6: 0.7030 - val_recall_6: 0.4000\n",
            "Epoch 171/300\n",
            "225/225 - 1s - loss: 0.2717 - binary_accuracy: 0.8886 - binary_crossentropy: 0.2655 - precision_6: 0.8418 - recall_6: 0.5623 - val_loss: 0.4409 - val_binary_accuracy: 0.8467 - val_binary_crossentropy: 0.4342 - val_precision_6: 0.6561 - val_recall_6: 0.4676\n",
            "Epoch 172/300\n",
            "225/225 - 1s - loss: 0.2845 - binary_accuracy: 0.8838 - binary_crossentropy: 0.2781 - precision_6: 0.8284 - recall_6: 0.5461 - val_loss: 0.4480 - val_binary_accuracy: 0.8478 - val_binary_crossentropy: 0.4418 - val_precision_6: 0.6462 - val_recall_6: 0.5042\n",
            "Epoch 173/300\n",
            "225/225 - 1s - loss: 0.2752 - binary_accuracy: 0.8906 - binary_crossentropy: 0.2688 - precision_6: 0.8482 - recall_6: 0.5678 - val_loss: 0.4357 - val_binary_accuracy: 0.8478 - val_binary_crossentropy: 0.4287 - val_precision_6: 0.7120 - val_recall_6: 0.3831\n",
            "Epoch 174/300\n",
            "225/225 - 1s - loss: 0.2695 - binary_accuracy: 0.8886 - binary_crossentropy: 0.2630 - precision_6: 0.8460 - recall_6: 0.5583 - val_loss: 0.4638 - val_binary_accuracy: 0.8472 - val_binary_crossentropy: 0.4577 - val_precision_6: 0.6600 - val_recall_6: 0.4648\n",
            "Epoch 175/300\n",
            "225/225 - 1s - loss: 0.2716 - binary_accuracy: 0.8894 - binary_crossentropy: 0.2651 - precision_6: 0.8498 - recall_6: 0.5596 - val_loss: 0.4583 - val_binary_accuracy: 0.8456 - val_binary_crossentropy: 0.4522 - val_precision_6: 0.6571 - val_recall_6: 0.4535\n",
            "Epoch 176/300\n",
            "225/225 - 1s - loss: 0.2745 - binary_accuracy: 0.8892 - binary_crossentropy: 0.2680 - precision_6: 0.8561 - recall_6: 0.5522 - val_loss: 0.4822 - val_binary_accuracy: 0.8494 - val_binary_crossentropy: 0.4758 - val_precision_6: 0.6373 - val_recall_6: 0.5493\n",
            "Epoch 177/300\n",
            "225/225 - 1s - loss: 0.2785 - binary_accuracy: 0.8850 - binary_crossentropy: 0.2713 - precision_6: 0.8340 - recall_6: 0.5481 - val_loss: 0.4215 - val_binary_accuracy: 0.8444 - val_binary_crossentropy: 0.4160 - val_precision_6: 0.6829 - val_recall_6: 0.3944\n",
            "Epoch 178/300\n",
            "225/225 - 1s - loss: 0.2749 - binary_accuracy: 0.8867 - binary_crossentropy: 0.2687 - precision_6: 0.8287 - recall_6: 0.5637 - val_loss: 0.4766 - val_binary_accuracy: 0.8428 - val_binary_crossentropy: 0.4704 - val_precision_6: 0.6277 - val_recall_6: 0.4986\n",
            "Epoch 179/300\n",
            "225/225 - 1s - loss: 0.2704 - binary_accuracy: 0.8897 - binary_crossentropy: 0.2638 - precision_6: 0.8574 - recall_6: 0.5542 - val_loss: 0.5200 - val_binary_accuracy: 0.8328 - val_binary_crossentropy: 0.5136 - val_precision_6: 0.5746 - val_recall_6: 0.5859\n",
            "Epoch 180/300\n",
            "225/225 - 1s - loss: 0.2780 - binary_accuracy: 0.8843 - binary_crossentropy: 0.2707 - precision_6: 0.8284 - recall_6: 0.5495 - val_loss: 0.4416 - val_binary_accuracy: 0.8511 - val_binary_crossentropy: 0.4342 - val_precision_6: 0.6900 - val_recall_6: 0.4451\n",
            "Epoch 181/300\n",
            "225/225 - 1s - loss: 0.2691 - binary_accuracy: 0.8897 - binary_crossentropy: 0.2626 - precision_6: 0.8438 - recall_6: 0.5671 - val_loss: 0.4581 - val_binary_accuracy: 0.8456 - val_binary_crossentropy: 0.4518 - val_precision_6: 0.6652 - val_recall_6: 0.4366\n",
            "Epoch 182/300\n",
            "225/225 - 1s - loss: 0.2712 - binary_accuracy: 0.8868 - binary_crossentropy: 0.2648 - precision_6: 0.8418 - recall_6: 0.5515 - val_loss: 0.4492 - val_binary_accuracy: 0.8483 - val_binary_crossentropy: 0.4429 - val_precision_6: 0.6667 - val_recall_6: 0.4620\n",
            "Epoch 183/300\n",
            "225/225 - 1s - loss: 0.2695 - binary_accuracy: 0.8883 - binary_crossentropy: 0.2629 - precision_6: 0.8387 - recall_6: 0.5637 - val_loss: 0.4698 - val_binary_accuracy: 0.8461 - val_binary_crossentropy: 0.4630 - val_precision_6: 0.6327 - val_recall_6: 0.5239\n",
            "Epoch 184/300\n",
            "225/225 - 1s - loss: 0.2727 - binary_accuracy: 0.8864 - binary_crossentropy: 0.2664 - precision_6: 0.8420 - recall_6: 0.5488 - val_loss: 0.4548 - val_binary_accuracy: 0.8489 - val_binary_crossentropy: 0.4482 - val_precision_6: 0.6436 - val_recall_6: 0.5239\n",
            "Epoch 185/300\n",
            "225/225 - 1s - loss: 0.2771 - binary_accuracy: 0.8840 - binary_crossentropy: 0.2704 - precision_6: 0.8308 - recall_6: 0.5454 - val_loss: 0.4357 - val_binary_accuracy: 0.8461 - val_binary_crossentropy: 0.4286 - val_precision_6: 0.6912 - val_recall_6: 0.3972\n",
            "Epoch 186/300\n",
            "225/225 - 1s - loss: 0.2724 - binary_accuracy: 0.8876 - binary_crossentropy: 0.2655 - precision_6: 0.8507 - recall_6: 0.5481 - val_loss: 0.4715 - val_binary_accuracy: 0.8467 - val_binary_crossentropy: 0.4652 - val_precision_6: 0.6513 - val_recall_6: 0.4789\n",
            "Epoch 187/300\n",
            "225/225 - 1s - loss: 0.2674 - binary_accuracy: 0.8899 - binary_crossentropy: 0.2610 - precision_6: 0.8378 - recall_6: 0.5738 - val_loss: 0.4469 - val_binary_accuracy: 0.8500 - val_binary_crossentropy: 0.4400 - val_precision_6: 0.6545 - val_recall_6: 0.5070\n",
            "Epoch 188/300\n",
            "225/225 - 1s - loss: 0.2686 - binary_accuracy: 0.8869 - binary_crossentropy: 0.2620 - precision_6: 0.8350 - recall_6: 0.5589 - val_loss: 0.4551 - val_binary_accuracy: 0.8589 - val_binary_crossentropy: 0.4487 - val_precision_6: 0.7012 - val_recall_6: 0.4958\n",
            "Epoch 189/300\n",
            "225/225 - 1s - loss: 0.2725 - binary_accuracy: 0.8885 - binary_crossentropy: 0.2661 - precision_6: 0.8516 - recall_6: 0.5522 - val_loss: 0.4427 - val_binary_accuracy: 0.8406 - val_binary_crossentropy: 0.4375 - val_precision_6: 0.6076 - val_recall_6: 0.5408\n",
            "Epoch 190/300\n",
            "225/225 - 1s - loss: 0.2724 - binary_accuracy: 0.8875 - binary_crossentropy: 0.2658 - precision_6: 0.8377 - recall_6: 0.5596 - val_loss: 0.4702 - val_binary_accuracy: 0.8444 - val_binary_crossentropy: 0.4627 - val_precision_6: 0.6415 - val_recall_6: 0.4789\n",
            "Epoch 191/300\n",
            "225/225 - 1s - loss: 0.2680 - binary_accuracy: 0.8901 - binary_crossentropy: 0.2609 - precision_6: 0.8415 - recall_6: 0.5718 - val_loss: 0.4628 - val_binary_accuracy: 0.8489 - val_binary_crossentropy: 0.4564 - val_precision_6: 0.6477 - val_recall_6: 0.5127\n",
            "Epoch 192/300\n",
            "225/225 - 1s - loss: 0.2704 - binary_accuracy: 0.8893 - binary_crossentropy: 0.2639 - precision_6: 0.8392 - recall_6: 0.5691 - val_loss: 0.4600 - val_binary_accuracy: 0.8456 - val_binary_crossentropy: 0.4536 - val_precision_6: 0.6314 - val_recall_6: 0.5211\n",
            "Epoch 193/300\n",
            "225/225 - 1s - loss: 0.2668 - binary_accuracy: 0.8935 - binary_crossentropy: 0.2606 - precision_6: 0.8584 - recall_6: 0.5752 - val_loss: 0.4522 - val_binary_accuracy: 0.8500 - val_binary_crossentropy: 0.4459 - val_precision_6: 0.6641 - val_recall_6: 0.4845\n",
            "Epoch 194/300\n",
            "225/225 - 1s - loss: 0.2674 - binary_accuracy: 0.8896 - binary_crossentropy: 0.2606 - precision_6: 0.8375 - recall_6: 0.5725 - val_loss: 0.4552 - val_binary_accuracy: 0.8483 - val_binary_crossentropy: 0.4484 - val_precision_6: 0.6627 - val_recall_6: 0.4704\n",
            "Epoch 195/300\n",
            "225/225 - 1s - loss: 0.2670 - binary_accuracy: 0.8903 - binary_crossentropy: 0.2601 - precision_6: 0.8500 - recall_6: 0.5644 - val_loss: 0.4584 - val_binary_accuracy: 0.8556 - val_binary_crossentropy: 0.4518 - val_precision_6: 0.7056 - val_recall_6: 0.4592\n",
            "Epoch 196/300\n",
            "225/225 - 1s - loss: 0.2711 - binary_accuracy: 0.8889 - binary_crossentropy: 0.2642 - precision_6: 0.8477 - recall_6: 0.5583 - val_loss: 0.5141 - val_binary_accuracy: 0.8394 - val_binary_crossentropy: 0.5077 - val_precision_6: 0.5954 - val_recall_6: 0.5803\n",
            "Epoch 197/300\n",
            "225/225 - 1s - loss: 0.2690 - binary_accuracy: 0.8893 - binary_crossentropy: 0.2623 - precision_6: 0.8358 - recall_6: 0.5725 - val_loss: 0.5232 - val_binary_accuracy: 0.8467 - val_binary_crossentropy: 0.5150 - val_precision_6: 0.6330 - val_recall_6: 0.5296\n",
            "Epoch 198/300\n",
            "225/225 - 1s - loss: 0.2666 - binary_accuracy: 0.8896 - binary_crossentropy: 0.2599 - precision_6: 0.8415 - recall_6: 0.5684 - val_loss: 0.4616 - val_binary_accuracy: 0.8511 - val_binary_crossentropy: 0.4554 - val_precision_6: 0.6693 - val_recall_6: 0.4845\n",
            "Epoch 199/300\n",
            "225/225 - 1s - loss: 0.2651 - binary_accuracy: 0.8889 - binary_crossentropy: 0.2588 - precision_6: 0.8394 - recall_6: 0.5664 - val_loss: 0.4518 - val_binary_accuracy: 0.8533 - val_binary_crossentropy: 0.4441 - val_precision_6: 0.6717 - val_recall_6: 0.5014\n",
            "Epoch 200/300\n",
            "225/225 - 1s - loss: 0.2747 - binary_accuracy: 0.8875 - binary_crossentropy: 0.2670 - precision_6: 0.8357 - recall_6: 0.5617 - val_loss: 0.4960 - val_binary_accuracy: 0.8428 - val_binary_crossentropy: 0.4881 - val_precision_6: 0.6259 - val_recall_6: 0.5042\n",
            "Epoch 201/300\n",
            "225/225 - 1s - loss: 0.2679 - binary_accuracy: 0.8896 - binary_crossentropy: 0.2612 - precision_6: 0.8457 - recall_6: 0.5644 - val_loss: 0.5015 - val_binary_accuracy: 0.8472 - val_binary_crossentropy: 0.4957 - val_precision_6: 0.6266 - val_recall_6: 0.5577\n",
            "Epoch 202/300\n",
            "225/225 - 1s - loss: 0.2631 - binary_accuracy: 0.8890 - binary_crossentropy: 0.2568 - precision_6: 0.8444 - recall_6: 0.5623 - val_loss: 0.4976 - val_binary_accuracy: 0.8483 - val_binary_crossentropy: 0.4908 - val_precision_6: 0.6281 - val_recall_6: 0.5662\n",
            "Epoch 203/300\n",
            "225/225 - 1s - loss: 0.2638 - binary_accuracy: 0.8908 - binary_crossentropy: 0.2570 - precision_6: 0.8402 - recall_6: 0.5772 - val_loss: 0.4770 - val_binary_accuracy: 0.8467 - val_binary_crossentropy: 0.4705 - val_precision_6: 0.6447 - val_recall_6: 0.4958\n",
            "Epoch 204/300\n",
            "225/225 - 1s - loss: 0.2641 - binary_accuracy: 0.8901 - binary_crossentropy: 0.2576 - precision_6: 0.8428 - recall_6: 0.5705 - val_loss: 0.4567 - val_binary_accuracy: 0.8500 - val_binary_crossentropy: 0.4502 - val_precision_6: 0.6460 - val_recall_6: 0.5296\n",
            "Epoch 205/300\n",
            "225/225 - 1s - loss: 0.2674 - binary_accuracy: 0.8903 - binary_crossentropy: 0.2605 - precision_6: 0.8437 - recall_6: 0.5705 - val_loss: 0.4733 - val_binary_accuracy: 0.8483 - val_binary_crossentropy: 0.4658 - val_precision_6: 0.6496 - val_recall_6: 0.5014\n",
            "Epoch 206/300\n",
            "225/225 - 1s - loss: 0.2675 - binary_accuracy: 0.8888 - binary_crossentropy: 0.2600 - precision_6: 0.8385 - recall_6: 0.5664 - val_loss: 0.4879 - val_binary_accuracy: 0.8467 - val_binary_crossentropy: 0.4808 - val_precision_6: 0.6295 - val_recall_6: 0.5408\n",
            "Epoch 207/300\n",
            "225/225 - 1s - loss: 0.2674 - binary_accuracy: 0.8915 - binary_crossentropy: 0.2603 - precision_6: 0.8437 - recall_6: 0.5779 - val_loss: 0.4692 - val_binary_accuracy: 0.8489 - val_binary_crossentropy: 0.4625 - val_precision_6: 0.6578 - val_recall_6: 0.4873\n",
            "Epoch 208/300\n",
            "225/225 - 1s - loss: 0.2659 - binary_accuracy: 0.8919 - binary_crossentropy: 0.2595 - precision_6: 0.8483 - recall_6: 0.5759 - val_loss: 0.4775 - val_binary_accuracy: 0.8439 - val_binary_crossentropy: 0.4708 - val_precision_6: 0.6542 - val_recall_6: 0.4423\n",
            "Epoch 209/300\n",
            "225/225 - 1s - loss: 0.2632 - binary_accuracy: 0.8928 - binary_crossentropy: 0.2567 - precision_6: 0.8607 - recall_6: 0.5691 - val_loss: 0.4771 - val_binary_accuracy: 0.8494 - val_binary_crossentropy: 0.4705 - val_precision_6: 0.6721 - val_recall_6: 0.4620\n",
            "Epoch 210/300\n",
            "225/225 - 1s - loss: 0.2615 - binary_accuracy: 0.8929 - binary_crossentropy: 0.2549 - precision_6: 0.8543 - recall_6: 0.5759 - val_loss: 0.5253 - val_binary_accuracy: 0.8433 - val_binary_crossentropy: 0.5178 - val_precision_6: 0.6347 - val_recall_6: 0.4845\n",
            "Epoch 211/300\n",
            "225/225 - 1s - loss: 0.2694 - binary_accuracy: 0.8900 - binary_crossentropy: 0.2624 - precision_6: 0.8504 - recall_6: 0.5623 - val_loss: 0.4670 - val_binary_accuracy: 0.8494 - val_binary_crossentropy: 0.4603 - val_precision_6: 0.6765 - val_recall_6: 0.4535\n",
            "Epoch 212/300\n",
            "225/225 - 1s - loss: 0.2664 - binary_accuracy: 0.8888 - binary_crossentropy: 0.2592 - precision_6: 0.8512 - recall_6: 0.5542 - val_loss: 0.4907 - val_binary_accuracy: 0.8472 - val_binary_crossentropy: 0.4825 - val_precision_6: 0.6538 - val_recall_6: 0.4789\n",
            "Epoch 213/300\n",
            "225/225 - 1s - loss: 0.2627 - binary_accuracy: 0.8953 - binary_crossentropy: 0.2559 - precision_6: 0.8553 - recall_6: 0.5888 - val_loss: 0.4723 - val_binary_accuracy: 0.8417 - val_binary_crossentropy: 0.4655 - val_precision_6: 0.6804 - val_recall_6: 0.3718\n",
            "Epoch 214/300\n",
            "225/225 - 1s - loss: 0.2693 - binary_accuracy: 0.8897 - binary_crossentropy: 0.2626 - precision_6: 0.8530 - recall_6: 0.5583 - val_loss: 0.4554 - val_binary_accuracy: 0.8417 - val_binary_crossentropy: 0.4489 - val_precision_6: 0.6733 - val_recall_6: 0.3831\n",
            "Epoch 215/300\n",
            "225/225 - 1s - loss: 0.2619 - binary_accuracy: 0.8921 - binary_crossentropy: 0.2551 - precision_6: 0.8492 - recall_6: 0.5759 - val_loss: 0.4965 - val_binary_accuracy: 0.8500 - val_binary_crossentropy: 0.4892 - val_precision_6: 0.6793 - val_recall_6: 0.4535\n",
            "Epoch 216/300\n",
            "225/225 - 1s - loss: 0.2651 - binary_accuracy: 0.8900 - binary_crossentropy: 0.2585 - precision_6: 0.8511 - recall_6: 0.5617 - val_loss: 0.4826 - val_binary_accuracy: 0.8339 - val_binary_crossentropy: 0.4763 - val_precision_6: 0.5921 - val_recall_6: 0.5070\n",
            "Epoch 217/300\n",
            "225/225 - 1s - loss: 0.2643 - binary_accuracy: 0.8931 - binary_crossentropy: 0.2569 - precision_6: 0.8468 - recall_6: 0.5840 - val_loss: 0.4446 - val_binary_accuracy: 0.8439 - val_binary_crossentropy: 0.4381 - val_precision_6: 0.6927 - val_recall_6: 0.3746\n",
            "Epoch 218/300\n",
            "225/225 - 1s - loss: 0.2647 - binary_accuracy: 0.8907 - binary_crossentropy: 0.2579 - precision_6: 0.8483 - recall_6: 0.5684 - val_loss: 0.4882 - val_binary_accuracy: 0.8450 - val_binary_crossentropy: 0.4812 - val_precision_6: 0.6545 - val_recall_6: 0.4535\n",
            "Epoch 219/300\n",
            "225/225 - 1s - loss: 0.2680 - binary_accuracy: 0.8907 - binary_crossentropy: 0.2603 - precision_6: 0.8469 - recall_6: 0.5698 - val_loss: 0.4705 - val_binary_accuracy: 0.8439 - val_binary_crossentropy: 0.4638 - val_precision_6: 0.6529 - val_recall_6: 0.4451\n",
            "Epoch 220/300\n",
            "225/225 - 1s - loss: 0.2608 - binary_accuracy: 0.8926 - binary_crossentropy: 0.2539 - precision_6: 0.8484 - recall_6: 0.5799 - val_loss: 0.4786 - val_binary_accuracy: 0.8433 - val_binary_crossentropy: 0.4706 - val_precision_6: 0.6652 - val_recall_6: 0.4141\n",
            "Epoch 221/300\n",
            "225/225 - 1s - loss: 0.2664 - binary_accuracy: 0.8904 - binary_crossentropy: 0.2590 - precision_6: 0.8358 - recall_6: 0.5793 - val_loss: 0.5040 - val_binary_accuracy: 0.8467 - val_binary_crossentropy: 0.4963 - val_precision_6: 0.6667 - val_recall_6: 0.4451\n",
            "Epoch 222/300\n",
            "225/225 - 1s - loss: 0.2696 - binary_accuracy: 0.8890 - binary_crossentropy: 0.2624 - precision_6: 0.8486 - recall_6: 0.5583 - val_loss: 0.4913 - val_binary_accuracy: 0.8450 - val_binary_crossentropy: 0.4840 - val_precision_6: 0.6462 - val_recall_6: 0.4732\n",
            "Epoch 223/300\n",
            "225/225 - 1s - loss: 0.2678 - binary_accuracy: 0.8913 - binary_crossentropy: 0.2602 - precision_6: 0.8504 - recall_6: 0.5698 - val_loss: 0.4865 - val_binary_accuracy: 0.8383 - val_binary_crossentropy: 0.4761 - val_precision_6: 0.6818 - val_recall_6: 0.3380\n",
            "Epoch 224/300\n",
            "225/225 - 1s - loss: 0.2704 - binary_accuracy: 0.8894 - binary_crossentropy: 0.2621 - precision_6: 0.8333 - recall_6: 0.5759 - val_loss: 0.5237 - val_binary_accuracy: 0.8344 - val_binary_crossentropy: 0.5174 - val_precision_6: 0.5861 - val_recall_6: 0.5465\n",
            "Epoch 225/300\n",
            "225/225 - 1s - loss: 0.2640 - binary_accuracy: 0.8919 - binary_crossentropy: 0.2573 - precision_6: 0.8504 - recall_6: 0.5738 - val_loss: 0.4962 - val_binary_accuracy: 0.8456 - val_binary_crossentropy: 0.4886 - val_precision_6: 0.6522 - val_recall_6: 0.4648\n",
            "Epoch 226/300\n",
            "225/225 - 1s - loss: 0.2631 - binary_accuracy: 0.8904 - binary_crossentropy: 0.2559 - precision_6: 0.8538 - recall_6: 0.5617 - val_loss: 0.4986 - val_binary_accuracy: 0.8439 - val_binary_crossentropy: 0.4921 - val_precision_6: 0.6312 - val_recall_6: 0.5014\n",
            "Epoch 227/300\n",
            "225/225 - 1s - loss: 0.2610 - binary_accuracy: 0.8925 - binary_crossentropy: 0.2543 - precision_6: 0.8656 - recall_6: 0.5630 - val_loss: 0.5604 - val_binary_accuracy: 0.8367 - val_binary_crossentropy: 0.5531 - val_precision_6: 0.5894 - val_recall_6: 0.5662\n",
            "Epoch 228/300\n",
            "225/225 - 1s - loss: 0.2605 - binary_accuracy: 0.8929 - binary_crossentropy: 0.2531 - precision_6: 0.8480 - recall_6: 0.5820 - val_loss: 0.4802 - val_binary_accuracy: 0.8433 - val_binary_crossentropy: 0.4732 - val_precision_6: 0.6931 - val_recall_6: 0.3690\n",
            "Epoch 229/300\n",
            "225/225 - 1s - loss: 0.2631 - binary_accuracy: 0.8919 - binary_crossentropy: 0.2565 - precision_6: 0.8591 - recall_6: 0.5657 - val_loss: 0.4799 - val_binary_accuracy: 0.8456 - val_binary_crossentropy: 0.4737 - val_precision_6: 0.6370 - val_recall_6: 0.5042\n",
            "Epoch 230/300\n",
            "225/225 - 1s - loss: 0.2592 - binary_accuracy: 0.8933 - binary_crossentropy: 0.2519 - precision_6: 0.8561 - recall_6: 0.5766 - val_loss: 0.4890 - val_binary_accuracy: 0.8444 - val_binary_crossentropy: 0.4819 - val_precision_6: 0.6426 - val_recall_6: 0.4761\n",
            "Epoch 231/300\n",
            "225/225 - 1s - loss: 0.2610 - binary_accuracy: 0.8926 - binary_crossentropy: 0.2541 - precision_6: 0.8519 - recall_6: 0.5766 - val_loss: 0.5013 - val_binary_accuracy: 0.8411 - val_binary_crossentropy: 0.4951 - val_precision_6: 0.6131 - val_recall_6: 0.5268\n",
            "Epoch 232/300\n",
            "225/225 - 1s - loss: 0.2610 - binary_accuracy: 0.8921 - binary_crossentropy: 0.2539 - precision_6: 0.8464 - recall_6: 0.5786 - val_loss: 0.5014 - val_binary_accuracy: 0.8439 - val_binary_crossentropy: 0.4943 - val_precision_6: 0.6341 - val_recall_6: 0.4930\n",
            "Epoch 233/300\n",
            "225/225 - 1s - loss: 0.2660 - binary_accuracy: 0.8939 - binary_crossentropy: 0.2587 - precision_6: 0.8611 - recall_6: 0.5752 - val_loss: 0.4770 - val_binary_accuracy: 0.8428 - val_binary_crossentropy: 0.4703 - val_precision_6: 0.6343 - val_recall_6: 0.4789\n",
            "Epoch 234/300\n",
            "225/225 - 1s - loss: 0.2586 - binary_accuracy: 0.8943 - binary_crossentropy: 0.2519 - precision_6: 0.8529 - recall_6: 0.5854 - val_loss: 0.4918 - val_binary_accuracy: 0.8400 - val_binary_crossentropy: 0.4846 - val_precision_6: 0.6255 - val_recall_6: 0.4704\n",
            "Epoch 235/300\n",
            "225/225 - 1s - loss: 0.2604 - binary_accuracy: 0.8917 - binary_crossentropy: 0.2534 - precision_6: 0.8508 - recall_6: 0.5718 - val_loss: 0.4797 - val_binary_accuracy: 0.8478 - val_binary_crossentropy: 0.4728 - val_precision_6: 0.6462 - val_recall_6: 0.5042\n",
            "Epoch 236/300\n",
            "225/225 - 1s - loss: 0.2611 - binary_accuracy: 0.8935 - binary_crossentropy: 0.2543 - precision_6: 0.8493 - recall_6: 0.5840 - val_loss: 0.4609 - val_binary_accuracy: 0.8483 - val_binary_crossentropy: 0.4541 - val_precision_6: 0.7470 - val_recall_6: 0.3493\n",
            "Epoch 237/300\n",
            "225/225 - 1s - loss: 0.2648 - binary_accuracy: 0.8925 - binary_crossentropy: 0.2582 - precision_6: 0.8604 - recall_6: 0.5678 - val_loss: 0.4543 - val_binary_accuracy: 0.8422 - val_binary_crossentropy: 0.4468 - val_precision_6: 0.7448 - val_recall_6: 0.3042\n",
            "Epoch 238/300\n",
            "225/225 - 1s - loss: 0.2674 - binary_accuracy: 0.8903 - binary_crossentropy: 0.2599 - precision_6: 0.8529 - recall_6: 0.5617 - val_loss: 0.4693 - val_binary_accuracy: 0.8433 - val_binary_crossentropy: 0.4626 - val_precision_6: 0.6490 - val_recall_6: 0.4479\n",
            "Epoch 239/300\n",
            "225/225 - 1s - loss: 0.2600 - binary_accuracy: 0.8925 - binary_crossentropy: 0.2532 - precision_6: 0.8589 - recall_6: 0.5691 - val_loss: 0.5435 - val_binary_accuracy: 0.8400 - val_binary_crossentropy: 0.5360 - val_precision_6: 0.6070 - val_recall_6: 0.5352\n",
            "Epoch 240/300\n",
            "225/225 - 1s - loss: 0.2626 - binary_accuracy: 0.8943 - binary_crossentropy: 0.2547 - precision_6: 0.8682 - recall_6: 0.5711 - val_loss: 0.5128 - val_binary_accuracy: 0.8489 - val_binary_crossentropy: 0.5041 - val_precision_6: 0.6578 - val_recall_6: 0.4873\n",
            "Epoch 241/300\n",
            "225/225 - 1s - loss: 0.2647 - binary_accuracy: 0.8932 - binary_crossentropy: 0.2570 - precision_6: 0.8626 - recall_6: 0.5698 - val_loss: 0.5034 - val_binary_accuracy: 0.8406 - val_binary_crossentropy: 0.4964 - val_precision_6: 0.6441 - val_recall_6: 0.4282\n",
            "Epoch 242/300\n",
            "225/225 - 1s - loss: 0.2637 - binary_accuracy: 0.8932 - binary_crossentropy: 0.2564 - precision_6: 0.8517 - recall_6: 0.5799 - val_loss: 0.5096 - val_binary_accuracy: 0.8433 - val_binary_crossentropy: 0.5017 - val_precision_6: 0.6667 - val_recall_6: 0.4113\n",
            "Epoch 243/300\n",
            "225/225 - 1s - loss: 0.2592 - binary_accuracy: 0.8943 - binary_crossentropy: 0.2520 - precision_6: 0.8615 - recall_6: 0.5772 - val_loss: 0.5040 - val_binary_accuracy: 0.8400 - val_binary_crossentropy: 0.4966 - val_precision_6: 0.6414 - val_recall_6: 0.4282\n",
            "Epoch 244/300\n",
            "225/225 - 1s - loss: 0.2630 - binary_accuracy: 0.8944 - binary_crossentropy: 0.2547 - precision_6: 0.8623 - recall_6: 0.5772 - val_loss: 0.4931 - val_binary_accuracy: 0.8444 - val_binary_crossentropy: 0.4849 - val_precision_6: 0.6794 - val_recall_6: 0.4000\n",
            "Epoch 245/300\n",
            "225/225 - 1s - loss: 0.2613 - binary_accuracy: 0.8936 - binary_crossentropy: 0.2533 - precision_6: 0.8630 - recall_6: 0.5718 - val_loss: 0.4692 - val_binary_accuracy: 0.8439 - val_binary_crossentropy: 0.4630 - val_precision_6: 0.6233 - val_recall_6: 0.5268\n",
            "Epoch 246/300\n",
            "225/225 - 1s - loss: 0.2593 - binary_accuracy: 0.8922 - binary_crossentropy: 0.2519 - precision_6: 0.8493 - recall_6: 0.5766 - val_loss: 0.5381 - val_binary_accuracy: 0.8422 - val_binary_crossentropy: 0.5304 - val_precision_6: 0.6392 - val_recall_6: 0.4592\n",
            "Epoch 247/300\n",
            "225/225 - 1s - loss: 0.2624 - binary_accuracy: 0.8925 - binary_crossentropy: 0.2546 - precision_6: 0.8510 - recall_6: 0.5766 - val_loss: 0.5016 - val_binary_accuracy: 0.8428 - val_binary_crossentropy: 0.4951 - val_precision_6: 0.6385 - val_recall_6: 0.4676\n",
            "Epoch 248/300\n",
            "225/225 - 1s - loss: 0.2555 - binary_accuracy: 0.8953 - binary_crossentropy: 0.2488 - precision_6: 0.8669 - recall_6: 0.5779 - val_loss: 0.5094 - val_binary_accuracy: 0.8450 - val_binary_crossentropy: 0.5028 - val_precision_6: 0.6418 - val_recall_6: 0.4845\n",
            "Epoch 249/300\n",
            "225/225 - 1s - loss: 0.2560 - binary_accuracy: 0.8968 - binary_crossentropy: 0.2489 - precision_6: 0.8604 - recall_6: 0.5928 - val_loss: 0.5835 - val_binary_accuracy: 0.8389 - val_binary_crossentropy: 0.5746 - val_precision_6: 0.6125 - val_recall_6: 0.4986\n",
            "Epoch 250/300\n",
            "225/225 - 1s - loss: 0.2636 - binary_accuracy: 0.8932 - binary_crossentropy: 0.2552 - precision_6: 0.8567 - recall_6: 0.5752 - val_loss: 0.4915 - val_binary_accuracy: 0.8467 - val_binary_crossentropy: 0.4845 - val_precision_6: 0.6406 - val_recall_6: 0.5070\n",
            "Epoch 251/300\n",
            "225/225 - 1s - loss: 0.2553 - binary_accuracy: 0.8979 - binary_crossentropy: 0.2482 - precision_6: 0.8643 - recall_6: 0.5955 - val_loss: 0.4825 - val_binary_accuracy: 0.8428 - val_binary_crossentropy: 0.4761 - val_precision_6: 0.6488 - val_recall_6: 0.4423\n",
            "Epoch 252/300\n",
            "225/225 - 1s - loss: 0.2563 - binary_accuracy: 0.8963 - binary_crossentropy: 0.2494 - precision_6: 0.8686 - recall_6: 0.5820 - val_loss: 0.5653 - val_binary_accuracy: 0.8411 - val_binary_crossentropy: 0.5568 - val_precision_6: 0.6154 - val_recall_6: 0.5183\n",
            "Epoch 253/300\n",
            "225/225 - 1s - loss: 0.2611 - binary_accuracy: 0.8949 - binary_crossentropy: 0.2535 - precision_6: 0.8556 - recall_6: 0.5860 - val_loss: 0.5239 - val_binary_accuracy: 0.8450 - val_binary_crossentropy: 0.5171 - val_precision_6: 0.6242 - val_recall_6: 0.5380\n",
            "Epoch 254/300\n",
            "225/225 - 1s - loss: 0.2589 - binary_accuracy: 0.8938 - binary_crossentropy: 0.2516 - precision_6: 0.8602 - recall_6: 0.5752 - val_loss: 0.4979 - val_binary_accuracy: 0.8422 - val_binary_crossentropy: 0.4911 - val_precision_6: 0.6381 - val_recall_6: 0.4620\n",
            "Epoch 255/300\n",
            "225/225 - 1s - loss: 0.2566 - binary_accuracy: 0.8942 - binary_crossentropy: 0.2499 - precision_6: 0.8584 - recall_6: 0.5793 - val_loss: 0.4750 - val_binary_accuracy: 0.8472 - val_binary_crossentropy: 0.4682 - val_precision_6: 0.6835 - val_recall_6: 0.4197\n",
            "Epoch 256/300\n",
            "225/225 - 1s - loss: 0.2603 - binary_accuracy: 0.8936 - binary_crossentropy: 0.2525 - precision_6: 0.8600 - recall_6: 0.5745 - val_loss: 0.4989 - val_binary_accuracy: 0.8372 - val_binary_crossentropy: 0.4914 - val_precision_6: 0.6292 - val_recall_6: 0.4254\n",
            "Epoch 257/300\n",
            "225/225 - 1s - loss: 0.2579 - binary_accuracy: 0.8942 - binary_crossentropy: 0.2507 - precision_6: 0.8563 - recall_6: 0.5813 - val_loss: 0.5512 - val_binary_accuracy: 0.8422 - val_binary_crossentropy: 0.5439 - val_precision_6: 0.6172 - val_recall_6: 0.5268\n",
            "Epoch 258/300\n",
            "225/225 - 1s - loss: 0.2511 - binary_accuracy: 0.8967 - binary_crossentropy: 0.2443 - precision_6: 0.8595 - recall_6: 0.5928 - val_loss: 0.5546 - val_binary_accuracy: 0.8311 - val_binary_crossentropy: 0.5486 - val_precision_6: 0.5794 - val_recall_6: 0.5239\n",
            "Epoch 259/300\n",
            "225/225 - 1s - loss: 0.2510 - binary_accuracy: 0.8971 - binary_crossentropy: 0.2443 - precision_6: 0.8701 - recall_6: 0.5854 - val_loss: 0.5469 - val_binary_accuracy: 0.8461 - val_binary_crossentropy: 0.5394 - val_precision_6: 0.6477 - val_recall_6: 0.4817\n",
            "Epoch 260/300\n",
            "225/225 - 1s - loss: 0.2531 - binary_accuracy: 0.8960 - binary_crossentropy: 0.2458 - precision_6: 0.8533 - recall_6: 0.5949 - val_loss: 0.5685 - val_binary_accuracy: 0.8378 - val_binary_crossentropy: 0.5606 - val_precision_6: 0.6013 - val_recall_6: 0.5268\n",
            "Epoch 261/300\n",
            "225/225 - 1s - loss: 0.2590 - binary_accuracy: 0.8947 - binary_crossentropy: 0.2506 - precision_6: 0.8499 - recall_6: 0.5908 - val_loss: 0.5566 - val_binary_accuracy: 0.8406 - val_binary_crossentropy: 0.5479 - val_precision_6: 0.6405 - val_recall_6: 0.4366\n",
            "Epoch 262/300\n",
            "225/225 - 1s - loss: 0.2624 - binary_accuracy: 0.8938 - binary_crossentropy: 0.2542 - precision_6: 0.8723 - recall_6: 0.5644 - val_loss: 0.5439 - val_binary_accuracy: 0.8389 - val_binary_crossentropy: 0.5347 - val_precision_6: 0.5964 - val_recall_6: 0.5662\n",
            "Epoch 263/300\n",
            "225/225 - 1s - loss: 0.2601 - binary_accuracy: 0.8935 - binary_crossentropy: 0.2524 - precision_6: 0.8500 - recall_6: 0.5833 - val_loss: 0.5305 - val_binary_accuracy: 0.8383 - val_binary_crossentropy: 0.5234 - val_precision_6: 0.6311 - val_recall_6: 0.4338\n",
            "Epoch 264/300\n",
            "225/225 - 1s - loss: 0.2645 - binary_accuracy: 0.8915 - binary_crossentropy: 0.2570 - precision_6: 0.8669 - recall_6: 0.5562 - val_loss: 0.5221 - val_binary_accuracy: 0.8406 - val_binary_crossentropy: 0.5145 - val_precision_6: 0.6206 - val_recall_6: 0.4930\n",
            "Epoch 265/300\n",
            "225/225 - 1s - loss: 0.2530 - binary_accuracy: 0.8951 - binary_crossentropy: 0.2455 - precision_6: 0.8573 - recall_6: 0.5860 - val_loss: 0.4914 - val_binary_accuracy: 0.8422 - val_binary_crossentropy: 0.4837 - val_precision_6: 0.6802 - val_recall_6: 0.3775\n",
            "Epoch 266/300\n",
            "225/225 - 1s - loss: 0.2575 - binary_accuracy: 0.8954 - binary_crossentropy: 0.2503 - precision_6: 0.8555 - recall_6: 0.5894 - val_loss: 0.5070 - val_binary_accuracy: 0.8389 - val_binary_crossentropy: 0.5000 - val_precision_6: 0.6305 - val_recall_6: 0.4423\n",
            "Epoch 267/300\n",
            "225/225 - 1s - loss: 0.2503 - binary_accuracy: 0.8988 - binary_crossentropy: 0.2435 - precision_6: 0.8754 - recall_6: 0.5901 - val_loss: 0.5253 - val_binary_accuracy: 0.8378 - val_binary_crossentropy: 0.5185 - val_precision_6: 0.6171 - val_recall_6: 0.4676\n",
            "Epoch 268/300\n",
            "225/225 - 1s - loss: 0.2455 - binary_accuracy: 0.9021 - binary_crossentropy: 0.2385 - precision_6: 0.8783 - recall_6: 0.6064 - val_loss: 0.5440 - val_binary_accuracy: 0.8372 - val_binary_crossentropy: 0.5368 - val_precision_6: 0.6270 - val_recall_6: 0.4310\n",
            "Epoch 269/300\n",
            "225/225 - 1s - loss: 0.2491 - binary_accuracy: 0.8985 - binary_crossentropy: 0.2420 - precision_6: 0.8774 - recall_6: 0.5867 - val_loss: 0.5795 - val_binary_accuracy: 0.8294 - val_binary_crossentropy: 0.5728 - val_precision_6: 0.5674 - val_recall_6: 0.5690\n",
            "Epoch 270/300\n",
            "225/225 - 1s - loss: 0.2537 - binary_accuracy: 0.8972 - binary_crossentropy: 0.2472 - precision_6: 0.8725 - recall_6: 0.5840 - val_loss: 0.5307 - val_binary_accuracy: 0.8400 - val_binary_crossentropy: 0.5239 - val_precision_6: 0.6192 - val_recall_6: 0.4901\n",
            "Epoch 271/300\n",
            "225/225 - 1s - loss: 0.2490 - binary_accuracy: 0.8983 - binary_crossentropy: 0.2422 - precision_6: 0.8619 - recall_6: 0.6003 - val_loss: 0.5127 - val_binary_accuracy: 0.8356 - val_binary_crossentropy: 0.5062 - val_precision_6: 0.6194 - val_recall_6: 0.4310\n",
            "Epoch 272/300\n",
            "225/225 - 1s - loss: 0.2553 - binary_accuracy: 0.8969 - binary_crossentropy: 0.2479 - precision_6: 0.8815 - recall_6: 0.5745 - val_loss: 0.6430 - val_binary_accuracy: 0.8289 - val_binary_crossentropy: 0.6342 - val_precision_6: 0.5751 - val_recall_6: 0.5070\n",
            "Epoch 273/300\n",
            "225/225 - 1s - loss: 0.2588 - binary_accuracy: 0.8960 - binary_crossentropy: 0.2508 - precision_6: 0.8698 - recall_6: 0.5793 - val_loss: 0.4890 - val_binary_accuracy: 0.8394 - val_binary_crossentropy: 0.4820 - val_precision_6: 0.6473 - val_recall_6: 0.4085\n",
            "Epoch 274/300\n",
            "225/225 - 1s - loss: 0.2535 - binary_accuracy: 0.8953 - binary_crossentropy: 0.2466 - precision_6: 0.8588 - recall_6: 0.5854 - val_loss: 0.4809 - val_binary_accuracy: 0.8444 - val_binary_crossentropy: 0.4748 - val_precision_6: 0.6638 - val_recall_6: 0.4282\n",
            "Epoch 275/300\n",
            "225/225 - 1s - loss: 0.2537 - binary_accuracy: 0.8965 - binary_crossentropy: 0.2465 - precision_6: 0.8566 - recall_6: 0.5949 - val_loss: 0.4684 - val_binary_accuracy: 0.8394 - val_binary_crossentropy: 0.4625 - val_precision_6: 0.6701 - val_recall_6: 0.3662\n",
            "Epoch 276/300\n",
            "225/225 - 1s - loss: 0.2586 - binary_accuracy: 0.8949 - binary_crossentropy: 0.2500 - precision_6: 0.8535 - recall_6: 0.5881 - val_loss: 0.5149 - val_binary_accuracy: 0.8411 - val_binary_crossentropy: 0.5074 - val_precision_6: 0.6408 - val_recall_6: 0.4423\n",
            "Epoch 277/300\n",
            "225/225 - 1s - loss: 0.2543 - binary_accuracy: 0.8951 - binary_crossentropy: 0.2476 - precision_6: 0.8652 - recall_6: 0.5786 - val_loss: 0.5231 - val_binary_accuracy: 0.8417 - val_binary_crossentropy: 0.5169 - val_precision_6: 0.6423 - val_recall_6: 0.4451\n",
            "Epoch 278/300\n",
            "225/225 - 1s - loss: 0.2473 - binary_accuracy: 0.8992 - binary_crossentropy: 0.2400 - precision_6: 0.8669 - recall_6: 0.6003 - val_loss: 0.5483 - val_binary_accuracy: 0.8439 - val_binary_crossentropy: 0.5412 - val_precision_6: 0.6381 - val_recall_6: 0.4817\n",
            "Epoch 279/300\n",
            "225/225 - 1s - loss: 0.2540 - binary_accuracy: 0.8982 - binary_crossentropy: 0.2459 - precision_6: 0.8711 - recall_6: 0.5908 - val_loss: 0.5274 - val_binary_accuracy: 0.8456 - val_binary_crossentropy: 0.5191 - val_precision_6: 0.6584 - val_recall_6: 0.4507\n",
            "Epoch 280/300\n",
            "225/225 - 1s - loss: 0.2677 - binary_accuracy: 0.8917 - binary_crossentropy: 0.2594 - precision_6: 0.8566 - recall_6: 0.5664 - val_loss: 0.5324 - val_binary_accuracy: 0.8378 - val_binary_crossentropy: 0.5248 - val_precision_6: 0.6265 - val_recall_6: 0.4394\n",
            "Epoch 281/300\n",
            "225/225 - 1s - loss: 0.2484 - binary_accuracy: 0.8983 - binary_crossentropy: 0.2410 - precision_6: 0.8661 - recall_6: 0.5962 - val_loss: 0.5475 - val_binary_accuracy: 0.8344 - val_binary_crossentropy: 0.5402 - val_precision_6: 0.5986 - val_recall_6: 0.4873\n",
            "Epoch 282/300\n",
            "225/225 - 1s - loss: 0.2524 - binary_accuracy: 0.8968 - binary_crossentropy: 0.2445 - precision_6: 0.8647 - recall_6: 0.5888 - val_loss: 0.5513 - val_binary_accuracy: 0.8428 - val_binary_crossentropy: 0.5438 - val_precision_6: 0.6513 - val_recall_6: 0.4366\n",
            "Epoch 283/300\n",
            "225/225 - 1s - loss: 0.2532 - binary_accuracy: 0.8990 - binary_crossentropy: 0.2466 - precision_6: 0.8749 - recall_6: 0.5921 - val_loss: 0.5409 - val_binary_accuracy: 0.8394 - val_binary_crossentropy: 0.5336 - val_precision_6: 0.6260 - val_recall_6: 0.4620\n",
            "Epoch 284/300\n",
            "225/225 - 1s - loss: 0.2429 - binary_accuracy: 0.9015 - binary_crossentropy: 0.2355 - precision_6: 0.8749 - recall_6: 0.6064 - val_loss: 0.5338 - val_binary_accuracy: 0.8389 - val_binary_crossentropy: 0.5269 - val_precision_6: 0.6140 - val_recall_6: 0.4930\n",
            "Epoch 285/300\n",
            "225/225 - 1s - loss: 0.2571 - binary_accuracy: 0.8960 - binary_crossentropy: 0.2500 - precision_6: 0.8668 - recall_6: 0.5820 - val_loss: 0.5051 - val_binary_accuracy: 0.8439 - val_binary_crossentropy: 0.4990 - val_precision_6: 0.6542 - val_recall_6: 0.4423\n",
            "Epoch 286/300\n",
            "225/225 - 1s - loss: 0.2504 - binary_accuracy: 0.8976 - binary_crossentropy: 0.2436 - precision_6: 0.8655 - recall_6: 0.5928 - val_loss: 0.5487 - val_binary_accuracy: 0.8422 - val_binary_crossentropy: 0.5417 - val_precision_6: 0.6461 - val_recall_6: 0.4423\n",
            "Epoch 287/300\n",
            "225/225 - 1s - loss: 0.2538 - binary_accuracy: 0.8972 - binary_crossentropy: 0.2468 - precision_6: 0.8658 - recall_6: 0.5901 - val_loss: 0.5010 - val_binary_accuracy: 0.8450 - val_binary_crossentropy: 0.4929 - val_precision_6: 0.6418 - val_recall_6: 0.4845\n",
            "Epoch 288/300\n",
            "225/225 - 1s - loss: 0.2490 - binary_accuracy: 0.8981 - binary_crossentropy: 0.2415 - precision_6: 0.8623 - recall_6: 0.5982 - val_loss: 0.5976 - val_binary_accuracy: 0.8283 - val_binary_crossentropy: 0.5898 - val_precision_6: 0.5665 - val_recall_6: 0.5521\n",
            "Epoch 289/300\n",
            "225/225 - 1s - loss: 0.2530 - binary_accuracy: 0.8978 - binary_crossentropy: 0.2455 - precision_6: 0.8671 - recall_6: 0.5921 - val_loss: 0.6071 - val_binary_accuracy: 0.8378 - val_binary_crossentropy: 0.5996 - val_precision_6: 0.6129 - val_recall_6: 0.4817\n",
            "Epoch 290/300\n",
            "225/225 - 1s - loss: 0.2531 - binary_accuracy: 0.8946 - binary_crossentropy: 0.2462 - precision_6: 0.8574 - recall_6: 0.5827 - val_loss: 0.5777 - val_binary_accuracy: 0.8378 - val_binary_crossentropy: 0.5703 - val_precision_6: 0.6075 - val_recall_6: 0.5014\n",
            "Epoch 291/300\n",
            "225/225 - 1s - loss: 0.2514 - binary_accuracy: 0.8979 - binary_crossentropy: 0.2441 - precision_6: 0.8608 - recall_6: 0.5989 - val_loss: 0.5431 - val_binary_accuracy: 0.8389 - val_binary_crossentropy: 0.5336 - val_precision_6: 0.6407 - val_recall_6: 0.4169\n",
            "Epoch 292/300\n",
            "225/225 - 1s - loss: 0.2499 - binary_accuracy: 0.9001 - binary_crossentropy: 0.2420 - precision_6: 0.8650 - recall_6: 0.6077 - val_loss: 0.5357 - val_binary_accuracy: 0.8361 - val_binary_crossentropy: 0.5285 - val_precision_6: 0.6230 - val_recall_6: 0.4282\n",
            "Epoch 293/300\n",
            "225/225 - 1s - loss: 0.2560 - binary_accuracy: 0.8944 - binary_crossentropy: 0.2486 - precision_6: 0.8602 - recall_6: 0.5793 - val_loss: 0.5524 - val_binary_accuracy: 0.8328 - val_binary_crossentropy: 0.5453 - val_precision_6: 0.5938 - val_recall_6: 0.4817\n",
            "Epoch 294/300\n",
            "225/225 - 1s - loss: 0.2431 - binary_accuracy: 0.9010 - binary_crossentropy: 0.2361 - precision_6: 0.8679 - recall_6: 0.6098 - val_loss: 0.5503 - val_binary_accuracy: 0.8361 - val_binary_crossentropy: 0.5422 - val_precision_6: 0.6210 - val_recall_6: 0.4338\n",
            "Epoch 295/300\n",
            "225/225 - 1s - loss: 0.2546 - binary_accuracy: 0.8951 - binary_crossentropy: 0.2471 - precision_6: 0.8524 - recall_6: 0.5908 - val_loss: 0.5736 - val_binary_accuracy: 0.8461 - val_binary_crossentropy: 0.5653 - val_precision_6: 0.6535 - val_recall_6: 0.4676\n",
            "Epoch 296/300\n",
            "225/225 - 1s - loss: 0.2557 - binary_accuracy: 0.8949 - binary_crossentropy: 0.2482 - precision_6: 0.8635 - recall_6: 0.5786 - val_loss: 0.6044 - val_binary_accuracy: 0.8433 - val_binary_crossentropy: 0.5967 - val_precision_6: 0.6318 - val_recall_6: 0.4930\n",
            "Epoch 297/300\n",
            "225/225 - 1s - loss: 0.2474 - binary_accuracy: 0.8989 - binary_crossentropy: 0.2402 - precision_6: 0.8703 - recall_6: 0.5955 - val_loss: 0.5212 - val_binary_accuracy: 0.8428 - val_binary_crossentropy: 0.5147 - val_precision_6: 0.6667 - val_recall_6: 0.4056\n",
            "Epoch 298/300\n",
            "225/225 - 1s - loss: 0.2500 - binary_accuracy: 0.8963 - binary_crossentropy: 0.2427 - precision_6: 0.8549 - recall_6: 0.5949 - val_loss: 0.6025 - val_binary_accuracy: 0.8422 - val_binary_crossentropy: 0.5944 - val_precision_6: 0.6106 - val_recall_6: 0.5521\n",
            "Epoch 299/300\n",
            "225/225 - 1s - loss: 0.2522 - binary_accuracy: 0.8988 - binary_crossentropy: 0.2441 - precision_6: 0.8687 - recall_6: 0.5962 - val_loss: 0.5111 - val_binary_accuracy: 0.8422 - val_binary_crossentropy: 0.5044 - val_precision_6: 0.6511 - val_recall_6: 0.4310\n",
            "Epoch 300/300\n",
            "225/225 - 1s - loss: 0.2559 - binary_accuracy: 0.8988 - binary_crossentropy: 0.2485 - precision_6: 0.8694 - recall_6: 0.5955 - val_loss: 0.5698 - val_binary_accuracy: 0.8378 - val_binary_crossentropy: 0.5587 - val_precision_6: 0.6145 - val_recall_6: 0.4761\n"
          ],
          "name": "stdout"
        },
        {
          "output_type": "execute_result",
          "data": {
            "text/plain": [
              "<tensorflow.python.keras.callbacks.History at 0x7fb7b962af90>"
            ]
          },
          "metadata": {
            "tags": []
          },
          "execution_count": 302
        }
      ]
    },
    {
      "cell_type": "code",
      "metadata": {
        "colab": {
          "base_uri": "https://localhost:8080/"
        },
        "id": "2hqZGrxqv3gS",
        "outputId": "f8304d0c-18d0-48dc-a673-6719c63de277"
      },
      "source": [
        "Train_F1= calculate_F1(0.8694, 0.5955)\n",
        "\n",
        "print(\"Train F1: \"+ str(Train_F1) )"
      ],
      "execution_count": 313,
      "outputs": [
        {
          "output_type": "stream",
          "text": [
            "Train F1: 0.7068437436002457\n"
          ],
          "name": "stdout"
        }
      ]
    },
    {
      "cell_type": "code",
      "metadata": {
        "colab": {
          "base_uri": "https://localhost:8080/"
        },
        "id": "edek07Jrp_cA",
        "outputId": "bbc447a9-d9b5-447b-a37c-e2686964a663"
      },
      "source": [
        "loss, acc, binary_crossentropy, precision, recall= model_C.evaluate(X_test_numpy, y_test_numpy)\n",
        "print(\"Test Accuracy: \"+ str(acc))\n",
        "print(\"Test Precision: \" + str(precision))\n",
        "print('Test Recall: '+ str(recall))\n",
        "F1= calculate_F1(precision, recall)\n",
        "print(\"Test F1: \"+ str(F1))"
      ],
      "execution_count": 314,
      "outputs": [
        {
          "output_type": "stream",
          "text": [
            "57/57 [==============================] - 0s 2ms/step - loss: 0.5698 - binary_accuracy: 0.8378 - binary_crossentropy: 0.5587 - precision_6: 0.6145 - recall_6: 0.4761\n",
            "Test Accuracy: 0.8377777934074402\n",
            "Test Precision: 0.614545464515686\n",
            "Test Recall: 0.4760563373565674\n",
            "Test F1: 0.5365079398808775\n"
          ],
          "name": "stdout"
        }
      ]
    },
    {
      "cell_type": "markdown",
      "metadata": {
        "id": "pQHWajEDIZ8F"
      },
      "source": [
        "Num Epochs: 300\n",
        "\n",
        " Test Accuracy: 83.77\n",
        " "
      ]
    },
    {
      "cell_type": "code",
      "metadata": {
        "id": "v9WIJjSkz234"
      },
      "source": [
        ""
      ],
      "execution_count": null,
      "outputs": []
    }
  ]
}